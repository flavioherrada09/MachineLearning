{
 "cells": [
  {
   "cell_type": "markdown",
   "metadata": {
    "id": "zm92t9ABxm6w"
   },
   "source": [
    "# Implementación de red neuronal en Keras\n",
    "\n",
    "* **Autora:** Judith Alejandra Hinojosa Rábago\n",
    "* **Materia:** Aprendizaje máquina\n",
    "* **Fecha de entrega:** 16 de septiembre de 2023\n"
   ]
  },
  {
   "cell_type": "markdown",
   "metadata": {
    "id": "eObIDY7tjKNC"
   },
   "source": [
    "## Contexto del problema\n",
    "\n",
    "El objetivo de esta actividad es implementar una red neuronal (utilizando el API secuencial de Keras) que tendrá como objetivo estimar el peso de una persona a partir de mediciones que se tienen disponibles.\n",
    "\n"
   ]
  },
  {
   "cell_type": "markdown",
   "metadata": {
    "id": "kWFJ6WAN8CTh"
   },
   "source": [
    "## Descripción del conjunto de datos\n",
    "El conjunto de datos consiste de estimaciones del porcentaje de grasa corporal determinado por pesaje bajo el agua y varias mediciones de circunferencia corporal para 252 hombres (en total 14 características y 1 variable objetivo).\n",
    "\n",
    "\\\n",
    "\n",
    "\n",
    "El conjunto de datos fue proporcionado por el Dr. A. Garth Fisher quién ha otorgado permisos para distribuirlos y utilizarlos.\n",
    "\n",
    "Roger W. Johnson, Department of Mathematics & Computer Science, South Dakota School of Mines & Technology\n",
    "\n",
    "501 East St. Joseph Street Rapid City, SD 57701\n",
    "\n",
    "email: rwjohnso@silver.sdsmt.edu"
   ]
  },
  {
   "cell_type": "markdown",
   "metadata": {
    "id": "YOjhEf2wjNtU"
   },
   "source": [
    "### Datos de entrada\n",
    "\n",
    "\n",
    "| Nombre del atributo | Papel          | Tipo de variable | Unidad | Valores faltantes | Descripción                 |\n",
    "|---------------------|----------------|------------------|--------|-------------------|-----------------------------|\n",
    "| `Density`      | Característica | Continua         | kg/L     | 0                 | Densidad determinada a partir del pesaje bajo el agua |\n",
    "| `BodyFat`       | Característica | Continua         | %     | 0                 | Porcentaje de grasa corporal a partir de la ecuación de Siri (1956) |\n",
    "| `Age`      | Característica | Discreta         | Años     | 0                 | Edad del hombre |\n",
    "| `Height`       | Característica | Continua         | in     | 0                 | Altura del hombre |\n",
    "| `Neck`      | Característica | Continua         | cm     | 0                 | Circunferencia del cuello |\n",
    "| `Chest`       | Característica | Continua         | cm     | 0                 | Circunferencia del pecho |\n",
    "| `Abdomen`      | Característica | Continua         | cm     | 0                 | Circunferencia del abdomen |\n",
    "| `Hip`       | Característica | Continua         | cm     | 0                 | Circunferencia de la cadera |\n",
    "| `Thigh`      | Característica | Continua         | cm     | 0                 | Circunferencia del muslo |\n",
    "| `Knee`       | Característica | Continua         | cm     | 0                 | Circunferencia de la rodilla |\n",
    "| `Ankle`       | Característica | Continua         | cm     | 0                 | Circunferencia del tobillo |\n",
    "| `Biceps`      | Característica | Continua         | cm     | 0                 | Circunferencia del bíceps |\n",
    "| `Forearm`       | Característica | Continua         | cm     | 0                 | Circunferencia del antebrazo |\n",
    "| `Wrist`      | Característica | Continua         | cm     | 0                 | Circunferencia de la muñeca |\n"
   ]
  },
  {
   "cell_type": "markdown",
   "metadata": {
    "id": "R_4fp8CFjPmW"
   },
   "source": [
    "## Datos de salida\n",
    "\n",
    "| Nombre del atributo | Papel    | Tipo de variable | Unidad | Valores faltantes | Descripción                                                                        |\n",
    "|---------------------|----------|------------------|--------|-------------------|------------------------------------------------------------------------------------|\n",
    "| `Weight`             | Objetivo | Continua       | lb       | 0                 | Peso de la persona |"
   ]
  },
  {
   "cell_type": "markdown",
   "metadata": {
    "id": "-zbqOVAS3tJk"
   },
   "source": [
    "## Importar librerías y datos"
   ]
  },
  {
   "cell_type": "code",
   "execution_count": 3,
   "metadata": {
    "executionInfo": {
     "elapsed": 152,
     "status": "ok",
     "timestamp": 1695337166299,
     "user": {
      "displayName": "Judith A. H. R.",
      "userId": "16951681262866800693"
     },
     "user_tz": 360
    },
    "id": "6pwFk7yFvnc8"
   },
   "outputs": [],
   "source": [
    "# Importar librerías\n",
    "import pandas as pd\n",
    "import numpy as np\n",
    "\n",
    "# Graficar\n",
    "import seaborn as sns\n",
    "import matplotlib.pyplot as plt\n",
    "\n",
    "# Preprocesamiento\n",
    "from sklearn.datasets import make_regression\n",
    "from sklearn.feature_selection import SelectKBest\n",
    "from sklearn.feature_selection import f_regression\n",
    "from sklearn.model_selection import train_test_split\n",
    "from sklearn import preprocessing\n",
    "\n",
    "# Modelar Red Neuronal Densamente Conectada\n",
    "from tensorflow.keras import Sequential\n",
    "from tensorflow.keras.layers import Dense, Input\n",
    "from tensorflow.keras.utils import set_random_seed, plot_model\n",
    "\n",
    "set_random_seed(42)"
   ]
  },
  {
   "cell_type": "code",
   "execution_count": 4,
   "metadata": {
    "executionInfo": {
     "elapsed": 5,
     "status": "ok",
     "timestamp": 1695337166470,
     "user": {
      "displayName": "Judith A. H. R.",
      "userId": "16951681262866800693"
     },
     "user_tz": 360
    },
    "id": "m-GD7ZkF20NP"
   },
   "outputs": [],
   "source": [
    "# Importar datos como dataframe\n",
    "df = pd.read_csv(\"/content/bodyfat.csv\")"
   ]
  },
  {
   "cell_type": "code",
   "execution_count": 5,
   "metadata": {
    "executionInfo": {
     "elapsed": 4,
     "status": "ok",
     "timestamp": 1695337166471,
     "user": {
      "displayName": "Judith A. H. R.",
      "userId": "16951681262866800693"
     },
     "user_tz": 360
    },
    "id": "4Vm73JQbpJqR"
   },
   "outputs": [],
   "source": [
    "X = df.drop(columns='Weight')\n",
    "y = df['Weight']"
   ]
  },
  {
   "cell_type": "markdown",
   "metadata": {
    "id": "-NungAGizK3U"
   },
   "source": [
    "## Análisis de datos"
   ]
  },
  {
   "cell_type": "markdown",
   "metadata": {
    "id": "TJSvBGEznWok"
   },
   "source": [
    "En un total de 15 columnas: tenemos un entero, los demás son flotantes, no hay nulos. Los valores van de acurdo con lo descrito anteriormente."
   ]
  },
  {
   "cell_type": "code",
   "execution_count": 6,
   "metadata": {
    "colab": {
     "base_uri": "https://localhost:8080/"
    },
    "executionInfo": {
     "elapsed": 5,
     "status": "ok",
     "timestamp": 1695337169442,
     "user": {
      "displayName": "Judith A. H. R.",
      "userId": "16951681262866800693"
     },
     "user_tz": 360
    },
    "id": "4IoEkDDr32fp",
    "outputId": "fd7c9520-58ee-4a13-81af-02f8fb4a3594"
   },
   "outputs": [
    {
     "name": "stdout",
     "output_type": "stream",
     "text": [
      "<class 'pandas.core.frame.DataFrame'>\n",
      "RangeIndex: 252 entries, 0 to 251\n",
      "Data columns (total 15 columns):\n",
      " #   Column   Non-Null Count  Dtype  \n",
      "---  ------   --------------  -----  \n",
      " 0   Density  252 non-null    float64\n",
      " 1   BodyFat  252 non-null    float64\n",
      " 2   Age      252 non-null    int64  \n",
      " 3   Weight   252 non-null    float64\n",
      " 4   Height   252 non-null    float64\n",
      " 5   Neck     252 non-null    float64\n",
      " 6   Chest    252 non-null    float64\n",
      " 7   Abdomen  252 non-null    float64\n",
      " 8   Hip      252 non-null    float64\n",
      " 9   Thigh    252 non-null    float64\n",
      " 10  Knee     252 non-null    float64\n",
      " 11  Ankle    252 non-null    float64\n",
      " 12  Biceps   252 non-null    float64\n",
      " 13  Forearm  252 non-null    float64\n",
      " 14  Wrist    252 non-null    float64\n",
      "dtypes: float64(14), int64(1)\n",
      "memory usage: 29.7 KB\n"
     ]
    }
   ],
   "source": [
    "df.info()"
   ]
  },
  {
   "cell_type": "markdown",
   "metadata": {
    "id": "mlJF6CLfq5zI"
   },
   "source": [
    "Los datos a simple vista parecen tener medianas y medias similares"
   ]
  },
  {
   "cell_type": "code",
   "execution_count": 7,
   "metadata": {
    "colab": {
     "base_uri": "https://localhost:8080/",
     "height": 540
    },
    "executionInfo": {
     "elapsed": 10,
     "status": "ok",
     "timestamp": 1695337169592,
     "user": {
      "displayName": "Judith A. H. R.",
      "userId": "16951681262866800693"
     },
     "user_tz": 360
    },
    "id": "RWuL6wAo331z",
    "outputId": "f44ea93a-c919-4e16-cc9c-271f32879b9d"
   },
   "outputs": [
    {
     "data": {
      "text/html": [
       "\n",
       "  <div id=\"df-bd48fb1e-ad8e-45df-b8b8-91420863c7f9\" class=\"colab-df-container\">\n",
       "    <div>\n",
       "<style scoped>\n",
       "    .dataframe tbody tr th:only-of-type {\n",
       "        vertical-align: middle;\n",
       "    }\n",
       "\n",
       "    .dataframe tbody tr th {\n",
       "        vertical-align: top;\n",
       "    }\n",
       "\n",
       "    .dataframe thead th {\n",
       "        text-align: right;\n",
       "    }\n",
       "</style>\n",
       "<table border=\"1\" class=\"dataframe\">\n",
       "  <thead>\n",
       "    <tr style=\"text-align: right;\">\n",
       "      <th></th>\n",
       "      <th>count</th>\n",
       "      <th>mean</th>\n",
       "      <th>std</th>\n",
       "      <th>min</th>\n",
       "      <th>25%</th>\n",
       "      <th>50%</th>\n",
       "      <th>75%</th>\n",
       "      <th>max</th>\n",
       "    </tr>\n",
       "  </thead>\n",
       "  <tbody>\n",
       "    <tr>\n",
       "      <th>Density</th>\n",
       "      <td>252.0</td>\n",
       "      <td>1.055574</td>\n",
       "      <td>0.019031</td>\n",
       "      <td>0.995</td>\n",
       "      <td>1.0414</td>\n",
       "      <td>1.0549</td>\n",
       "      <td>1.0704</td>\n",
       "      <td>1.1089</td>\n",
       "    </tr>\n",
       "    <tr>\n",
       "      <th>BodyFat</th>\n",
       "      <td>252.0</td>\n",
       "      <td>19.150794</td>\n",
       "      <td>8.368740</td>\n",
       "      <td>0.000</td>\n",
       "      <td>12.4750</td>\n",
       "      <td>19.2000</td>\n",
       "      <td>25.3000</td>\n",
       "      <td>47.5000</td>\n",
       "    </tr>\n",
       "    <tr>\n",
       "      <th>Age</th>\n",
       "      <td>252.0</td>\n",
       "      <td>44.884921</td>\n",
       "      <td>12.602040</td>\n",
       "      <td>22.000</td>\n",
       "      <td>35.7500</td>\n",
       "      <td>43.0000</td>\n",
       "      <td>54.0000</td>\n",
       "      <td>81.0000</td>\n",
       "    </tr>\n",
       "    <tr>\n",
       "      <th>Weight</th>\n",
       "      <td>252.0</td>\n",
       "      <td>178.924405</td>\n",
       "      <td>29.389160</td>\n",
       "      <td>118.500</td>\n",
       "      <td>159.0000</td>\n",
       "      <td>176.5000</td>\n",
       "      <td>197.0000</td>\n",
       "      <td>363.1500</td>\n",
       "    </tr>\n",
       "    <tr>\n",
       "      <th>Height</th>\n",
       "      <td>252.0</td>\n",
       "      <td>70.148810</td>\n",
       "      <td>3.662856</td>\n",
       "      <td>29.500</td>\n",
       "      <td>68.2500</td>\n",
       "      <td>70.0000</td>\n",
       "      <td>72.2500</td>\n",
       "      <td>77.7500</td>\n",
       "    </tr>\n",
       "    <tr>\n",
       "      <th>Neck</th>\n",
       "      <td>252.0</td>\n",
       "      <td>37.992063</td>\n",
       "      <td>2.430913</td>\n",
       "      <td>31.100</td>\n",
       "      <td>36.4000</td>\n",
       "      <td>38.0000</td>\n",
       "      <td>39.4250</td>\n",
       "      <td>51.2000</td>\n",
       "    </tr>\n",
       "    <tr>\n",
       "      <th>Chest</th>\n",
       "      <td>252.0</td>\n",
       "      <td>100.824206</td>\n",
       "      <td>8.430476</td>\n",
       "      <td>79.300</td>\n",
       "      <td>94.3500</td>\n",
       "      <td>99.6500</td>\n",
       "      <td>105.3750</td>\n",
       "      <td>136.2000</td>\n",
       "    </tr>\n",
       "    <tr>\n",
       "      <th>Abdomen</th>\n",
       "      <td>252.0</td>\n",
       "      <td>92.555952</td>\n",
       "      <td>10.783077</td>\n",
       "      <td>69.400</td>\n",
       "      <td>84.5750</td>\n",
       "      <td>90.9500</td>\n",
       "      <td>99.3250</td>\n",
       "      <td>148.1000</td>\n",
       "    </tr>\n",
       "    <tr>\n",
       "      <th>Hip</th>\n",
       "      <td>252.0</td>\n",
       "      <td>99.904762</td>\n",
       "      <td>7.164058</td>\n",
       "      <td>85.000</td>\n",
       "      <td>95.5000</td>\n",
       "      <td>99.3000</td>\n",
       "      <td>103.5250</td>\n",
       "      <td>147.7000</td>\n",
       "    </tr>\n",
       "    <tr>\n",
       "      <th>Thigh</th>\n",
       "      <td>252.0</td>\n",
       "      <td>59.405952</td>\n",
       "      <td>5.249952</td>\n",
       "      <td>47.200</td>\n",
       "      <td>56.0000</td>\n",
       "      <td>59.0000</td>\n",
       "      <td>62.3500</td>\n",
       "      <td>87.3000</td>\n",
       "    </tr>\n",
       "    <tr>\n",
       "      <th>Knee</th>\n",
       "      <td>252.0</td>\n",
       "      <td>38.590476</td>\n",
       "      <td>2.411805</td>\n",
       "      <td>33.000</td>\n",
       "      <td>36.9750</td>\n",
       "      <td>38.5000</td>\n",
       "      <td>39.9250</td>\n",
       "      <td>49.1000</td>\n",
       "    </tr>\n",
       "    <tr>\n",
       "      <th>Ankle</th>\n",
       "      <td>252.0</td>\n",
       "      <td>23.102381</td>\n",
       "      <td>1.694893</td>\n",
       "      <td>19.100</td>\n",
       "      <td>22.0000</td>\n",
       "      <td>22.8000</td>\n",
       "      <td>24.0000</td>\n",
       "      <td>33.9000</td>\n",
       "    </tr>\n",
       "    <tr>\n",
       "      <th>Biceps</th>\n",
       "      <td>252.0</td>\n",
       "      <td>32.273413</td>\n",
       "      <td>3.021274</td>\n",
       "      <td>24.800</td>\n",
       "      <td>30.2000</td>\n",
       "      <td>32.0500</td>\n",
       "      <td>34.3250</td>\n",
       "      <td>45.0000</td>\n",
       "    </tr>\n",
       "    <tr>\n",
       "      <th>Forearm</th>\n",
       "      <td>252.0</td>\n",
       "      <td>28.663889</td>\n",
       "      <td>2.020691</td>\n",
       "      <td>21.000</td>\n",
       "      <td>27.3000</td>\n",
       "      <td>28.7000</td>\n",
       "      <td>30.0000</td>\n",
       "      <td>34.9000</td>\n",
       "    </tr>\n",
       "    <tr>\n",
       "      <th>Wrist</th>\n",
       "      <td>252.0</td>\n",
       "      <td>18.229762</td>\n",
       "      <td>0.933585</td>\n",
       "      <td>15.800</td>\n",
       "      <td>17.6000</td>\n",
       "      <td>18.3000</td>\n",
       "      <td>18.8000</td>\n",
       "      <td>21.4000</td>\n",
       "    </tr>\n",
       "  </tbody>\n",
       "</table>\n",
       "</div>\n",
       "    <div class=\"colab-df-buttons\">\n",
       "\n",
       "  <div class=\"colab-df-container\">\n",
       "    <button class=\"colab-df-convert\" onclick=\"convertToInteractive('df-bd48fb1e-ad8e-45df-b8b8-91420863c7f9')\"\n",
       "            title=\"Convert this dataframe to an interactive table.\"\n",
       "            style=\"display:none;\">\n",
       "\n",
       "  <svg xmlns=\"http://www.w3.org/2000/svg\" height=\"24px\" viewBox=\"0 -960 960 960\">\n",
       "    <path d=\"M120-120v-720h720v720H120Zm60-500h600v-160H180v160Zm220 220h160v-160H400v160Zm0 220h160v-160H400v160ZM180-400h160v-160H180v160Zm440 0h160v-160H620v160ZM180-180h160v-160H180v160Zm440 0h160v-160H620v160Z\"/>\n",
       "  </svg>\n",
       "    </button>\n",
       "\n",
       "  <style>\n",
       "    .colab-df-container {\n",
       "      display:flex;\n",
       "      gap: 12px;\n",
       "    }\n",
       "\n",
       "    .colab-df-convert {\n",
       "      background-color: #E8F0FE;\n",
       "      border: none;\n",
       "      border-radius: 50%;\n",
       "      cursor: pointer;\n",
       "      display: none;\n",
       "      fill: #1967D2;\n",
       "      height: 32px;\n",
       "      padding: 0 0 0 0;\n",
       "      width: 32px;\n",
       "    }\n",
       "\n",
       "    .colab-df-convert:hover {\n",
       "      background-color: #E2EBFA;\n",
       "      box-shadow: 0px 1px 2px rgba(60, 64, 67, 0.3), 0px 1px 3px 1px rgba(60, 64, 67, 0.15);\n",
       "      fill: #174EA6;\n",
       "    }\n",
       "\n",
       "    .colab-df-buttons div {\n",
       "      margin-bottom: 4px;\n",
       "    }\n",
       "\n",
       "    [theme=dark] .colab-df-convert {\n",
       "      background-color: #3B4455;\n",
       "      fill: #D2E3FC;\n",
       "    }\n",
       "\n",
       "    [theme=dark] .colab-df-convert:hover {\n",
       "      background-color: #434B5C;\n",
       "      box-shadow: 0px 1px 3px 1px rgba(0, 0, 0, 0.15);\n",
       "      filter: drop-shadow(0px 1px 2px rgba(0, 0, 0, 0.3));\n",
       "      fill: #FFFFFF;\n",
       "    }\n",
       "  </style>\n",
       "\n",
       "    <script>\n",
       "      const buttonEl =\n",
       "        document.querySelector('#df-bd48fb1e-ad8e-45df-b8b8-91420863c7f9 button.colab-df-convert');\n",
       "      buttonEl.style.display =\n",
       "        google.colab.kernel.accessAllowed ? 'block' : 'none';\n",
       "\n",
       "      async function convertToInteractive(key) {\n",
       "        const element = document.querySelector('#df-bd48fb1e-ad8e-45df-b8b8-91420863c7f9');\n",
       "        const dataTable =\n",
       "          await google.colab.kernel.invokeFunction('convertToInteractive',\n",
       "                                                    [key], {});\n",
       "        if (!dataTable) return;\n",
       "\n",
       "        const docLinkHtml = 'Like what you see? Visit the ' +\n",
       "          '<a target=\"_blank\" href=https://colab.research.google.com/notebooks/data_table.ipynb>data table notebook</a>'\n",
       "          + ' to learn more about interactive tables.';\n",
       "        element.innerHTML = '';\n",
       "        dataTable['output_type'] = 'display_data';\n",
       "        await google.colab.output.renderOutput(dataTable, element);\n",
       "        const docLink = document.createElement('div');\n",
       "        docLink.innerHTML = docLinkHtml;\n",
       "        element.appendChild(docLink);\n",
       "      }\n",
       "    </script>\n",
       "  </div>\n",
       "\n",
       "\n",
       "<div id=\"df-c0d75419-60c5-473c-b94c-675cc08647bc\">\n",
       "  <button class=\"colab-df-quickchart\" onclick=\"quickchart('df-c0d75419-60c5-473c-b94c-675cc08647bc')\"\n",
       "            title=\"Suggest charts.\"\n",
       "            style=\"display:none;\">\n",
       "\n",
       "<svg xmlns=\"http://www.w3.org/2000/svg\" height=\"24px\"viewBox=\"0 0 24 24\"\n",
       "     width=\"24px\">\n",
       "    <g>\n",
       "        <path d=\"M19 3H5c-1.1 0-2 .9-2 2v14c0 1.1.9 2 2 2h14c1.1 0 2-.9 2-2V5c0-1.1-.9-2-2-2zM9 17H7v-7h2v7zm4 0h-2V7h2v10zm4 0h-2v-4h2v4z\"/>\n",
       "    </g>\n",
       "</svg>\n",
       "  </button>\n",
       "\n",
       "<style>\n",
       "  .colab-df-quickchart {\n",
       "      --bg-color: #E8F0FE;\n",
       "      --fill-color: #1967D2;\n",
       "      --hover-bg-color: #E2EBFA;\n",
       "      --hover-fill-color: #174EA6;\n",
       "      --disabled-fill-color: #AAA;\n",
       "      --disabled-bg-color: #DDD;\n",
       "  }\n",
       "\n",
       "  [theme=dark] .colab-df-quickchart {\n",
       "      --bg-color: #3B4455;\n",
       "      --fill-color: #D2E3FC;\n",
       "      --hover-bg-color: #434B5C;\n",
       "      --hover-fill-color: #FFFFFF;\n",
       "      --disabled-bg-color: #3B4455;\n",
       "      --disabled-fill-color: #666;\n",
       "  }\n",
       "\n",
       "  .colab-df-quickchart {\n",
       "    background-color: var(--bg-color);\n",
       "    border: none;\n",
       "    border-radius: 50%;\n",
       "    cursor: pointer;\n",
       "    display: none;\n",
       "    fill: var(--fill-color);\n",
       "    height: 32px;\n",
       "    padding: 0;\n",
       "    width: 32px;\n",
       "  }\n",
       "\n",
       "  .colab-df-quickchart:hover {\n",
       "    background-color: var(--hover-bg-color);\n",
       "    box-shadow: 0 1px 2px rgba(60, 64, 67, 0.3), 0 1px 3px 1px rgba(60, 64, 67, 0.15);\n",
       "    fill: var(--button-hover-fill-color);\n",
       "  }\n",
       "\n",
       "  .colab-df-quickchart-complete:disabled,\n",
       "  .colab-df-quickchart-complete:disabled:hover {\n",
       "    background-color: var(--disabled-bg-color);\n",
       "    fill: var(--disabled-fill-color);\n",
       "    box-shadow: none;\n",
       "  }\n",
       "\n",
       "  .colab-df-spinner {\n",
       "    border: 2px solid var(--fill-color);\n",
       "    border-color: transparent;\n",
       "    border-bottom-color: var(--fill-color);\n",
       "    animation:\n",
       "      spin 1s steps(1) infinite;\n",
       "  }\n",
       "\n",
       "  @keyframes spin {\n",
       "    0% {\n",
       "      border-color: transparent;\n",
       "      border-bottom-color: var(--fill-color);\n",
       "      border-left-color: var(--fill-color);\n",
       "    }\n",
       "    20% {\n",
       "      border-color: transparent;\n",
       "      border-left-color: var(--fill-color);\n",
       "      border-top-color: var(--fill-color);\n",
       "    }\n",
       "    30% {\n",
       "      border-color: transparent;\n",
       "      border-left-color: var(--fill-color);\n",
       "      border-top-color: var(--fill-color);\n",
       "      border-right-color: var(--fill-color);\n",
       "    }\n",
       "    40% {\n",
       "      border-color: transparent;\n",
       "      border-right-color: var(--fill-color);\n",
       "      border-top-color: var(--fill-color);\n",
       "    }\n",
       "    60% {\n",
       "      border-color: transparent;\n",
       "      border-right-color: var(--fill-color);\n",
       "    }\n",
       "    80% {\n",
       "      border-color: transparent;\n",
       "      border-right-color: var(--fill-color);\n",
       "      border-bottom-color: var(--fill-color);\n",
       "    }\n",
       "    90% {\n",
       "      border-color: transparent;\n",
       "      border-bottom-color: var(--fill-color);\n",
       "    }\n",
       "  }\n",
       "</style>\n",
       "\n",
       "  <script>\n",
       "    async function quickchart(key) {\n",
       "      const quickchartButtonEl =\n",
       "        document.querySelector('#' + key + ' button');\n",
       "      quickchartButtonEl.disabled = true;  // To prevent multiple clicks.\n",
       "      quickchartButtonEl.classList.add('colab-df-spinner');\n",
       "      try {\n",
       "        const charts = await google.colab.kernel.invokeFunction(\n",
       "            'suggestCharts', [key], {});\n",
       "      } catch (error) {\n",
       "        console.error('Error during call to suggestCharts:', error);\n",
       "      }\n",
       "      quickchartButtonEl.classList.remove('colab-df-spinner');\n",
       "      quickchartButtonEl.classList.add('colab-df-quickchart-complete');\n",
       "    }\n",
       "    (() => {\n",
       "      let quickchartButtonEl =\n",
       "        document.querySelector('#df-c0d75419-60c5-473c-b94c-675cc08647bc button');\n",
       "      quickchartButtonEl.style.display =\n",
       "        google.colab.kernel.accessAllowed ? 'block' : 'none';\n",
       "    })();\n",
       "  </script>\n",
       "</div>\n",
       "    </div>\n",
       "  </div>\n"
      ],
      "text/plain": [
       "         count        mean        std      min       25%       50%       75%  \\\n",
       "Density  252.0    1.055574   0.019031    0.995    1.0414    1.0549    1.0704   \n",
       "BodyFat  252.0   19.150794   8.368740    0.000   12.4750   19.2000   25.3000   \n",
       "Age      252.0   44.884921  12.602040   22.000   35.7500   43.0000   54.0000   \n",
       "Weight   252.0  178.924405  29.389160  118.500  159.0000  176.5000  197.0000   \n",
       "Height   252.0   70.148810   3.662856   29.500   68.2500   70.0000   72.2500   \n",
       "Neck     252.0   37.992063   2.430913   31.100   36.4000   38.0000   39.4250   \n",
       "Chest    252.0  100.824206   8.430476   79.300   94.3500   99.6500  105.3750   \n",
       "Abdomen  252.0   92.555952  10.783077   69.400   84.5750   90.9500   99.3250   \n",
       "Hip      252.0   99.904762   7.164058   85.000   95.5000   99.3000  103.5250   \n",
       "Thigh    252.0   59.405952   5.249952   47.200   56.0000   59.0000   62.3500   \n",
       "Knee     252.0   38.590476   2.411805   33.000   36.9750   38.5000   39.9250   \n",
       "Ankle    252.0   23.102381   1.694893   19.100   22.0000   22.8000   24.0000   \n",
       "Biceps   252.0   32.273413   3.021274   24.800   30.2000   32.0500   34.3250   \n",
       "Forearm  252.0   28.663889   2.020691   21.000   27.3000   28.7000   30.0000   \n",
       "Wrist    252.0   18.229762   0.933585   15.800   17.6000   18.3000   18.8000   \n",
       "\n",
       "              max  \n",
       "Density    1.1089  \n",
       "BodyFat   47.5000  \n",
       "Age       81.0000  \n",
       "Weight   363.1500  \n",
       "Height    77.7500  \n",
       "Neck      51.2000  \n",
       "Chest    136.2000  \n",
       "Abdomen  148.1000  \n",
       "Hip      147.7000  \n",
       "Thigh     87.3000  \n",
       "Knee      49.1000  \n",
       "Ankle     33.9000  \n",
       "Biceps    45.0000  \n",
       "Forearm   34.9000  \n",
       "Wrist     21.4000  "
      ]
     },
     "execution_count": 7,
     "metadata": {},
     "output_type": "execute_result"
    }
   ],
   "source": [
    "df.describe().transpose()"
   ]
  },
  {
   "cell_type": "markdown",
   "metadata": {
    "id": "h8RwQLMKsLHw"
   },
   "source": [
    "### Sesgo de los datos"
   ]
  },
  {
   "cell_type": "code",
   "execution_count": 8,
   "metadata": {
    "executionInfo": {
     "elapsed": 9,
     "status": "ok",
     "timestamp": 1695337169592,
     "user": {
      "displayName": "Judith A. H. R.",
      "userId": "16951681262866800693"
     },
     "user_tz": 360
    },
    "id": "igZIXHxVpxkE"
   },
   "outputs": [],
   "source": [
    "#Función para señalar sesgo\n",
    "def f(x):\n",
    "    if x['value'] < -1 or x['value'] > 1: return 'Altamente sesgada'\n",
    "    elif (x['value']<=0 and x['value']>=-0.5) or (x['value'] >=0 and x['value']<=0.5):\n",
    "        return 'Distribución simétrica'\n",
    "    else: return 'Moderadamenta sesgada'"
   ]
  },
  {
   "cell_type": "code",
   "execution_count": 9,
   "metadata": {
    "colab": {
     "base_uri": "https://localhost:8080/",
     "height": 54
    },
    "executionInfo": {
     "elapsed": 2045,
     "status": "ok",
     "timestamp": 1695337171630,
     "user": {
      "displayName": "Judith A. H. R.",
      "userId": "16951681262866800693"
     },
     "user_tz": 360
    },
    "id": "w76x3t37ncv6",
    "outputId": "39274719-e119-4871-aa44-b83252a4a721"
   },
   "outputs": [
    {
     "data": {
      "image/png": "[encoded data removed]",
      "text/plain": [
       "<Figure size 1000x1000 with 16 Axes>"
      ]
     },
     "metadata": {},
     "output_type": "display_data"
    }
   ],
   "source": [
    "df.hist(bins=\"auto\", figsize=(10,10))\n",
    "plt.show()"
   ]
  },
  {
   "cell_type": "code",
   "execution_count": 10,
   "metadata": {
    "colab": {
     "base_uri": "https://localhost:8080/",
     "height": 800
    },
    "executionInfo": {
     "elapsed": 13,
     "status": "ok",
     "timestamp": 1695337171630,
     "user": {
      "displayName": "Judith A. H. R.",
      "userId": "16951681262866800693"
     },
     "user_tz": 360
    },
    "id": "yXtR1pXHq4nt",
    "outputId": "2cba2fb9-8a15-47b6-8617-ebfa6e3a945b"
   },
   "outputs": [
    {
     "data": {
      "text/html": [
       "\n",
       "  <div id=\"df-0c08c7c6-b86c-40ca-8554-0614d554e472\" class=\"colab-df-container\">\n",
       "    <div>\n",
       "<style scoped>\n",
       "    .dataframe tbody tr th:only-of-type {\n",
       "        vertical-align: middle;\n",
       "    }\n",
       "\n",
       "    .dataframe tbody tr th {\n",
       "        vertical-align: top;\n",
       "    }\n",
       "\n",
       "    .dataframe thead th {\n",
       "        text-align: right;\n",
       "    }\n",
       "</style>\n",
       "<table border=\"1\" class=\"dataframe\">\n",
       "  <thead>\n",
       "    <tr style=\"text-align: right;\">\n",
       "      <th></th>\n",
       "      <th>value</th>\n",
       "      <th>skewness</th>\n",
       "    </tr>\n",
       "  </thead>\n",
       "  <tbody>\n",
       "    <tr>\n",
       "      <th>Density</th>\n",
       "      <td>-0.02</td>\n",
       "      <td>Distribución simétrica</td>\n",
       "    </tr>\n",
       "    <tr>\n",
       "      <th>BodyFat</th>\n",
       "      <td>0.15</td>\n",
       "      <td>Distribución simétrica</td>\n",
       "    </tr>\n",
       "    <tr>\n",
       "      <th>Age</th>\n",
       "      <td>0.28</td>\n",
       "      <td>Distribución simétrica</td>\n",
       "    </tr>\n",
       "    <tr>\n",
       "      <th>Weight</th>\n",
       "      <td>1.21</td>\n",
       "      <td>Altamente sesgada</td>\n",
       "    </tr>\n",
       "    <tr>\n",
       "      <th>Height</th>\n",
       "      <td>-5.38</td>\n",
       "      <td>Altamente sesgada</td>\n",
       "    </tr>\n",
       "    <tr>\n",
       "      <th>Neck</th>\n",
       "      <td>0.55</td>\n",
       "      <td>Moderadamenta sesgada</td>\n",
       "    </tr>\n",
       "    <tr>\n",
       "      <th>Chest</th>\n",
       "      <td>0.68</td>\n",
       "      <td>Moderadamenta sesgada</td>\n",
       "    </tr>\n",
       "    <tr>\n",
       "      <th>Abdomen</th>\n",
       "      <td>0.84</td>\n",
       "      <td>Moderadamenta sesgada</td>\n",
       "    </tr>\n",
       "    <tr>\n",
       "      <th>Hip</th>\n",
       "      <td>1.50</td>\n",
       "      <td>Altamente sesgada</td>\n",
       "    </tr>\n",
       "    <tr>\n",
       "      <th>Thigh</th>\n",
       "      <td>0.82</td>\n",
       "      <td>Moderadamenta sesgada</td>\n",
       "    </tr>\n",
       "    <tr>\n",
       "      <th>Knee</th>\n",
       "      <td>0.52</td>\n",
       "      <td>Moderadamenta sesgada</td>\n",
       "    </tr>\n",
       "    <tr>\n",
       "      <th>Ankle</th>\n",
       "      <td>2.26</td>\n",
       "      <td>Altamente sesgada</td>\n",
       "    </tr>\n",
       "    <tr>\n",
       "      <th>Biceps</th>\n",
       "      <td>0.29</td>\n",
       "      <td>Distribución simétrica</td>\n",
       "    </tr>\n",
       "    <tr>\n",
       "      <th>Forearm</th>\n",
       "      <td>-0.22</td>\n",
       "      <td>Distribución simétrica</td>\n",
       "    </tr>\n",
       "    <tr>\n",
       "      <th>Wrist</th>\n",
       "      <td>0.28</td>\n",
       "      <td>Distribución simétrica</td>\n",
       "    </tr>\n",
       "  </tbody>\n",
       "</table>\n",
       "</div>\n",
       "    <div class=\"colab-df-buttons\">\n",
       "\n",
       "  <div class=\"colab-df-container\">\n",
       "    <button class=\"colab-df-convert\" onclick=\"convertToInteractive('df-0c08c7c6-b86c-40ca-8554-0614d554e472')\"\n",
       "            title=\"Convert this dataframe to an interactive table.\"\n",
       "            style=\"display:none;\">\n",
       "\n",
       "  <svg xmlns=\"http://www.w3.org/2000/svg\" height=\"24px\" viewBox=\"0 -960 960 960\">\n",
       "    <path d=\"M120-120v-720h720v720H120Zm60-500h600v-160H180v160Zm220 220h160v-160H400v160Zm0 220h160v-160H400v160ZM180-400h160v-160H180v160Zm440 0h160v-160H620v160ZM180-180h160v-160H180v160Zm440 0h160v-160H620v160Z\"/>\n",
       "  </svg>\n",
       "    </button>\n",
       "\n",
       "  <style>\n",
       "    .colab-df-container {\n",
       "      display:flex;\n",
       "      gap: 12px;\n",
       "    }\n",
       "\n",
       "    .colab-df-convert {\n",
       "      background-color: #E8F0FE;\n",
       "      border: none;\n",
       "      border-radius: 50%;\n",
       "      cursor: pointer;\n",
       "      display: none;\n",
       "      fill: #1967D2;\n",
       "      height: 32px;\n",
       "      padding: 0 0 0 0;\n",
       "      width: 32px;\n",
       "    }\n",
       "\n",
       "    .colab-df-convert:hover {\n",
       "      background-color: #E2EBFA;\n",
       "      box-shadow: 0px 1px 2px rgba(60, 64, 67, 0.3), 0px 1px 3px 1px rgba(60, 64, 67, 0.15);\n",
       "      fill: #174EA6;\n",
       "    }\n",
       "\n",
       "    .colab-df-buttons div {\n",
       "      margin-bottom: 4px;\n",
       "    }\n",
       "\n",
       "    [theme=dark] .colab-df-convert {\n",
       "      background-color: #3B4455;\n",
       "      fill: #D2E3FC;\n",
       "    }\n",
       "\n",
       "    [theme=dark] .colab-df-convert:hover {\n",
       "      background-color: #434B5C;\n",
       "      box-shadow: 0px 1px 3px 1px rgba(0, 0, 0, 0.15);\n",
       "      filter: drop-shadow(0px 1px 2px rgba(0, 0, 0, 0.3));\n",
       "      fill: #FFFFFF;\n",
       "    }\n",
       "  </style>\n",
       "\n",
       "    <script>\n",
       "      const buttonEl =\n",
       "        document.querySelector('#df-0c08c7c6-b86c-40ca-8554-0614d554e472 button.colab-df-convert');\n",
       "      buttonEl.style.display =\n",
       "        google.colab.kernel.accessAllowed ? 'block' : 'none';\n",
       "\n",
       "      async function convertToInteractive(key) {\n",
       "        const element = document.querySelector('#df-0c08c7c6-b86c-40ca-8554-0614d554e472');\n",
       "        const dataTable =\n",
       "          await google.colab.kernel.invokeFunction('convertToInteractive',\n",
       "                                                    [key], {});\n",
       "        if (!dataTable) return;\n",
       "\n",
       "        const docLinkHtml = 'Like what you see? Visit the ' +\n",
       "          '<a target=\"_blank\" href=https://colab.research.google.com/notebooks/data_table.ipynb>data table notebook</a>'\n",
       "          + ' to learn more about interactive tables.';\n",
       "        element.innerHTML = '';\n",
       "        dataTable['output_type'] = 'display_data';\n",
       "        await google.colab.output.renderOutput(dataTable, element);\n",
       "        const docLink = document.createElement('div');\n",
       "        docLink.innerHTML = docLinkHtml;\n",
       "        element.appendChild(docLink);\n",
       "      }\n",
       "    </script>\n",
       "  </div>\n",
       "\n",
       "\n",
       "<div id=\"df-72dba6e5-0098-4f28-aa21-9a78649a09fe\">\n",
       "  <button class=\"colab-df-quickchart\" onclick=\"quickchart('df-72dba6e5-0098-4f28-aa21-9a78649a09fe')\"\n",
       "            title=\"Suggest charts.\"\n",
       "            style=\"display:none;\">\n",
       "\n",
       "<svg xmlns=\"http://www.w3.org/2000/svg\" height=\"24px\"viewBox=\"0 0 24 24\"\n",
       "     width=\"24px\">\n",
       "    <g>\n",
       "        <path d=\"M19 3H5c-1.1 0-2 .9-2 2v14c0 1.1.9 2 2 2h14c1.1 0 2-.9 2-2V5c0-1.1-.9-2-2-2zM9 17H7v-7h2v7zm4 0h-2V7h2v10zm4 0h-2v-4h2v4z\"/>\n",
       "    </g>\n",
       "</svg>\n",
       "  </button>\n",
       "\n",
       "<style>\n",
       "  .colab-df-quickchart {\n",
       "      --bg-color: #E8F0FE;\n",
       "      --fill-color: #1967D2;\n",
       "      --hover-bg-color: #E2EBFA;\n",
       "      --hover-fill-color: #174EA6;\n",
       "      --disabled-fill-color: #AAA;\n",
       "      --disabled-bg-color: #DDD;\n",
       "  }\n",
       "\n",
       "  [theme=dark] .colab-df-quickchart {\n",
       "      --bg-color: #3B4455;\n",
       "      --fill-color: #D2E3FC;\n",
       "      --hover-bg-color: #434B5C;\n",
       "      --hover-fill-color: #FFFFFF;\n",
       "      --disabled-bg-color: #3B4455;\n",
       "      --disabled-fill-color: #666;\n",
       "  }\n",
       "\n",
       "  .colab-df-quickchart {\n",
       "    background-color: var(--bg-color);\n",
       "    border: none;\n",
       "    border-radius: 50%;\n",
       "    cursor: pointer;\n",
       "    display: none;\n",
       "    fill: var(--fill-color);\n",
       "    height: 32px;\n",
       "    padding: 0;\n",
       "    width: 32px;\n",
       "  }\n",
       "\n",
       "  .colab-df-quickchart:hover {\n",
       "    background-color: var(--hover-bg-color);\n",
       "    box-shadow: 0 1px 2px rgba(60, 64, 67, 0.3), 0 1px 3px 1px rgba(60, 64, 67, 0.15);\n",
       "    fill: var(--button-hover-fill-color);\n",
       "  }\n",
       "\n",
       "  .colab-df-quickchart-complete:disabled,\n",
       "  .colab-df-quickchart-complete:disabled:hover {\n",
       "    background-color: var(--disabled-bg-color);\n",
       "    fill: var(--disabled-fill-color);\n",
       "    box-shadow: none;\n",
       "  }\n",
       "\n",
       "  .colab-df-spinner {\n",
       "    border: 2px solid var(--fill-color);\n",
       "    border-color: transparent;\n",
       "    border-bottom-color: var(--fill-color);\n",
       "    animation:\n",
       "      spin 1s steps(1) infinite;\n",
       "  }\n",
       "\n",
       "  @keyframes spin {\n",
       "    0% {\n",
       "      border-color: transparent;\n",
       "      border-bottom-color: var(--fill-color);\n",
       "      border-left-color: var(--fill-color);\n",
       "    }\n",
       "    20% {\n",
       "      border-color: transparent;\n",
       "      border-left-color: var(--fill-color);\n",
       "      border-top-color: var(--fill-color);\n",
       "    }\n",
       "    30% {\n",
       "      border-color: transparent;\n",
       "      border-left-color: var(--fill-color);\n",
       "      border-top-color: var(--fill-color);\n",
       "      border-right-color: var(--fill-color);\n",
       "    }\n",
       "    40% {\n",
       "      border-color: transparent;\n",
       "      border-right-color: var(--fill-color);\n",
       "      border-top-color: var(--fill-color);\n",
       "    }\n",
       "    60% {\n",
       "      border-color: transparent;\n",
       "      border-right-color: var(--fill-color);\n",
       "    }\n",
       "    80% {\n",
       "      border-color: transparent;\n",
       "      border-right-color: var(--fill-color);\n",
       "      border-bottom-color: var(--fill-color);\n",
       "    }\n",
       "    90% {\n",
       "      border-color: transparent;\n",
       "      border-bottom-color: var(--fill-color);\n",
       "    }\n",
       "  }\n",
       "</style>\n",
       "\n",
       "  <script>\n",
       "    async function quickchart(key) {\n",
       "      const quickchartButtonEl =\n",
       "        document.querySelector('#' + key + ' button');\n",
       "      quickchartButtonEl.disabled = true;  // To prevent multiple clicks.\n",
       "      quickchartButtonEl.classList.add('colab-df-spinner');\n",
       "      try {\n",
       "        const charts = await google.colab.kernel.invokeFunction(\n",
       "            'suggestCharts', [key], {});\n",
       "      } catch (error) {\n",
       "        console.error('Error during call to suggestCharts:', error);\n",
       "      }\n",
       "      quickchartButtonEl.classList.remove('colab-df-spinner');\n",
       "      quickchartButtonEl.classList.add('colab-df-quickchart-complete');\n",
       "    }\n",
       "    (() => {\n",
       "      let quickchartButtonEl =\n",
       "        document.querySelector('#df-72dba6e5-0098-4f28-aa21-9a78649a09fe button');\n",
       "      quickchartButtonEl.style.display =\n",
       "        google.colab.kernel.accessAllowed ? 'block' : 'none';\n",
       "    })();\n",
       "  </script>\n",
       "</div>\n",
       "    </div>\n",
       "  </div>\n"
      ],
      "text/plain": [
       "         value                skewness\n",
       "Density  -0.02  Distribución simétrica\n",
       "BodyFat   0.15  Distribución simétrica\n",
       "Age       0.28  Distribución simétrica\n",
       "Weight    1.21       Altamente sesgada\n",
       "Height   -5.38       Altamente sesgada\n",
       "Neck      0.55   Moderadamenta sesgada\n",
       "Chest     0.68   Moderadamenta sesgada\n",
       "Abdomen   0.84   Moderadamenta sesgada\n",
       "Hip       1.50       Altamente sesgada\n",
       "Thigh     0.82   Moderadamenta sesgada\n",
       "Knee      0.52   Moderadamenta sesgada\n",
       "Ankle     2.26       Altamente sesgada\n",
       "Biceps    0.29  Distribución simétrica\n",
       "Forearm  -0.22  Distribución simétrica\n",
       "Wrist     0.28  Distribución simétrica"
      ]
     },
     "execution_count": 10,
     "metadata": {},
     "output_type": "execute_result"
    }
   ],
   "source": [
    "# Cálculo del sesgo\n",
    "skewness = round(df.select_dtypes(exclude=['object']).skew(), 2)\n",
    "skewness = skewness.to_frame()\n",
    "skewness = skewness.rename(columns={0: \"value\"})\n",
    "\n",
    "skewness['skewness'] = skewness.apply(f, axis=1)\n",
    "skewness"
   ]
  },
  {
   "cell_type": "markdown",
   "metadata": {
    "id": "NyqV4SwAtreb"
   },
   "source": [
    "### Datos atípicos"
   ]
  },
  {
   "cell_type": "code",
   "execution_count": 11,
   "metadata": {
    "colab": {
     "base_uri": "https://localhost:8080/",
     "height": 54
    },
    "executionInfo": {
     "elapsed": 1916,
     "status": "ok",
     "timestamp": 1695337173535,
     "user": {
      "displayName": "Judith A. H. R.",
      "userId": "16951681262866800693"
     },
     "user_tz": 360
    },
    "id": "9qd7ffubnChY",
    "outputId": "777a1810-c0e7-41e2-aa18-34f8c7bbed37"
   },
   "outputs": [
    {
     "data": {
      "image/png": "[encoded data removed]",
      "text/plain": [
       "<Figure size 1800x2000 with 15 Axes>"
      ]
     },
     "metadata": {},
     "output_type": "display_data"
    }
   ],
   "source": [
    "labels = df.columns\n",
    "\n",
    "ncols = 3\n",
    "nrows = int(np.ceil(len(labels) / 3))\n",
    "figsize = (ncols * 6, nrows * 4)\n",
    "\n",
    "fig, axes = plt.subplots(\n",
    "    nrows=nrows,\n",
    "    ncols=ncols,\n",
    "    figsize=figsize,\n",
    "    constrained_layout=True)\n",
    "fig.suptitle('Boxplots', fontsize=18)\n",
    "\n",
    "id = 0\n",
    "\n",
    "for axs in axes:\n",
    "    for ax in axs:\n",
    "        sns.boxplot(ax=ax, data=df, x=labels[id])\n",
    "\n",
    "        id += 1"
   ]
  },
  {
   "cell_type": "code",
   "execution_count": 12,
   "metadata": {
    "executionInfo": {
     "elapsed": 12,
     "status": "ok",
     "timestamp": 1695337173536,
     "user": {
      "displayName": "Judith A. H. R.",
      "userId": "16951681262866800693"
     },
     "user_tz": 360
    },
    "id": "7jbKFvgYt_Fv"
   },
   "outputs": [],
   "source": [
    "# Función para determinar outliers\n",
    "def find_boundaries(df_var,distance=1.5):\n",
    "    IQR = df_var.quantile(0.75)-df_var.quantile(0.25)\n",
    "    lower = df_var.quantile(0.25)-IQR*distance\n",
    "    upper = df_var.quantile(0.75)+IQR*distance\n",
    "    return lower,upper\n",
    "\n",
    "def find_outliers(x, var, distance = 1.5):\n",
    "  lmin,lmax = find_boundaries(x[var], distance)\n",
    "  outliers = np.where(x[var] > lmax, True, np.where(x[var] < lmin, True, False))\n",
    "  outliers_df = x.loc[outliers, var]\n",
    "  return outliers_df"
   ]
  },
  {
   "cell_type": "code",
   "execution_count": 13,
   "metadata": {
    "colab": {
     "base_uri": "https://localhost:8080/"
    },
    "executionInfo": {
     "elapsed": 11,
     "status": "ok",
     "timestamp": 1695337173537,
     "user": {
      "displayName": "Judith A. H. R.",
      "userId": "16951681262866800693"
     },
     "user_tz": 360
    },
    "id": "_mj7NRK_vOHB",
    "outputId": "2c06d5a5-e59a-4e33-a023-f6cbaca6c9a0"
   },
   "outputs": [
    {
     "data": {
      "text/plain": [
       "215    0.995\n",
       "Name: Density, dtype: float64"
      ]
     },
     "execution_count": 13,
     "metadata": {},
     "output_type": "execute_result"
    }
   ],
   "source": [
    "find_outliers(df, 'Density')"
   ]
  },
  {
   "cell_type": "code",
   "execution_count": 14,
   "metadata": {
    "colab": {
     "base_uri": "https://localhost:8080/"
    },
    "executionInfo": {
     "elapsed": 251,
     "status": "ok",
     "timestamp": 1695337173779,
     "user": {
      "displayName": "Judith A. H. R.",
      "userId": "16951681262866800693"
     },
     "user_tz": 360
    },
    "id": "zh1kKrmsvQwd",
    "outputId": "be0a5dff-c7c9-4850-b01b-2e9477dc0224"
   },
   "outputs": [
    {
     "data": {
      "text/plain": [
       "215    47.5\n",
       "Name: BodyFat, dtype: float64"
      ]
     },
     "execution_count": 14,
     "metadata": {},
     "output_type": "execute_result"
    }
   ],
   "source": [
    "find_outliers(df, 'BodyFat')"
   ]
  },
  {
   "cell_type": "code",
   "execution_count": 15,
   "metadata": {
    "colab": {
     "base_uri": "https://localhost:8080/"
    },
    "executionInfo": {
     "elapsed": 42,
     "status": "ok",
     "timestamp": 1695337173780,
     "user": {
      "displayName": "Judith A. H. R.",
      "userId": "16951681262866800693"
     },
     "user_tz": 360
    },
    "id": "tc84rHCuvS-A",
    "outputId": "68e5ead5-c866-425b-b92d-89ed406c93f4"
   },
   "outputs": [
    {
     "data": {
      "text/plain": [
       "Series([], Name: Age, dtype: int64)"
      ]
     },
     "execution_count": 15,
     "metadata": {},
     "output_type": "execute_result"
    }
   ],
   "source": [
    "find_outliers(df, 'Age')"
   ]
  },
  {
   "cell_type": "code",
   "execution_count": 16,
   "metadata": {
    "colab": {
     "base_uri": "https://localhost:8080/"
    },
    "executionInfo": {
     "elapsed": 40,
     "status": "ok",
     "timestamp": 1695337173780,
     "user": {
      "displayName": "Judith A. H. R.",
      "userId": "16951681262866800693"
     },
     "user_tz": 360
    },
    "id": "fjLy3u1QvVxi",
    "outputId": "3d60b677-0a09-43af-e3fa-1aea4a2ec016"
   },
   "outputs": [
    {
     "data": {
      "text/plain": [
       "38    363.15\n",
       "40    262.75\n",
       "Name: Weight, dtype: float64"
      ]
     },
     "execution_count": 16,
     "metadata": {},
     "output_type": "execute_result"
    }
   ],
   "source": [
    "find_outliers(df, 'Weight')"
   ]
  },
  {
   "cell_type": "code",
   "execution_count": 17,
   "metadata": {
    "colab": {
     "base_uri": "https://localhost:8080/"
    },
    "executionInfo": {
     "elapsed": 39,
     "status": "ok",
     "timestamp": 1695337173781,
     "user": {
      "displayName": "Judith A. H. R.",
      "userId": "16951681262866800693"
     },
     "user_tz": 360
    },
    "id": "MiHuQ1TTvYAI",
    "outputId": "2e56ecae-e4ae-4f33-8547-c58c3042a8a7"
   },
   "outputs": [
    {
     "data": {
      "text/plain": [
       "41    29.5\n",
       "Name: Height, dtype: float64"
      ]
     },
     "execution_count": 17,
     "metadata": {},
     "output_type": "execute_result"
    }
   ],
   "source": [
    "find_outliers(df, 'Height')"
   ]
  },
  {
   "cell_type": "code",
   "execution_count": 18,
   "metadata": {
    "colab": {
     "base_uri": "https://localhost:8080/"
    },
    "executionInfo": {
     "elapsed": 35,
     "status": "ok",
     "timestamp": 1695337173781,
     "user": {
      "displayName": "Judith A. H. R.",
      "userId": "16951681262866800693"
     },
     "user_tz": 360
    },
    "id": "50G37nkNjJQZ",
    "outputId": "cf399615-3128-4416-c42c-ccf376e79c77"
   },
   "outputs": [
    {
     "data": {
      "text/plain": [
       "Density      1.025\n",
       "BodyFat     32.900\n",
       "Age         44.000\n",
       "Weight     205.000\n",
       "Height      29.500\n",
       "Neck        36.600\n",
       "Chest      106.000\n",
       "Abdomen    104.300\n",
       "Hip        115.500\n",
       "Thigh       70.600\n",
       "Knee        42.500\n",
       "Ankle       23.700\n",
       "Biceps      33.600\n",
       "Forearm     28.700\n",
       "Wrist       17.400\n",
       "Name: 41, dtype: float64"
      ]
     },
     "execution_count": 18,
     "metadata": {},
     "output_type": "execute_result"
    }
   ],
   "source": [
    "df.iloc[41]"
   ]
  },
  {
   "cell_type": "code",
   "execution_count": 19,
   "metadata": {
    "colab": {
     "base_uri": "https://localhost:8080/"
    },
    "executionInfo": {
     "elapsed": 31,
     "status": "ok",
     "timestamp": 1695337173781,
     "user": {
      "displayName": "Judith A. H. R.",
      "userId": "16951681262866800693"
     },
     "user_tz": 360
    },
    "id": "R8PxdUN34tqb",
    "outputId": "b9b7ce64-c4dc-4136-be84-0bd0171aef47"
   },
   "outputs": [
    {
     "data": {
      "text/plain": [
       "41     29.50\n",
       "215    64.00\n",
       "73     64.00\n",
       "28     64.75\n",
       "35     65.00\n",
       "Name: Height, dtype: float64"
      ]
     },
     "execution_count": 19,
     "metadata": {},
     "output_type": "execute_result"
    }
   ],
   "source": [
    "df.Height.sort_values().head()"
   ]
  },
  {
   "cell_type": "markdown",
   "metadata": {
    "id": "4gIScqgB4a-K"
   },
   "source": [
    "***La altura de una persona es de 29.5 pulgadas.***"
   ]
  },
  {
   "cell_type": "code",
   "execution_count": 20,
   "metadata": {
    "colab": {
     "base_uri": "https://localhost:8080/"
    },
    "executionInfo": {
     "elapsed": 31,
     "status": "ok",
     "timestamp": 1695337173783,
     "user": {
      "displayName": "Judith A. H. R.",
      "userId": "16951681262866800693"
     },
     "user_tz": 360
    },
    "id": "QgpT7LEuvaQH",
    "outputId": "01dece7e-0831-4737-829a-ffdd3c7f1802"
   },
   "outputs": [
    {
     "data": {
      "text/plain": [
       "38     51.2\n",
       "44     31.5\n",
       "105    31.1\n",
       "Name: Neck, dtype: float64"
      ]
     },
     "execution_count": 20,
     "metadata": {},
     "output_type": "execute_result"
    }
   ],
   "source": [
    "find_outliers(df, 'Neck')"
   ]
  },
  {
   "cell_type": "code",
   "execution_count": 21,
   "metadata": {
    "colab": {
     "base_uri": "https://localhost:8080/"
    },
    "executionInfo": {
     "elapsed": 28,
     "status": "ok",
     "timestamp": 1695337173783,
     "user": {
      "displayName": "Judith A. H. R.",
      "userId": "16951681262866800693"
     },
     "user_tz": 360
    },
    "id": "kBYC70WivdK0",
    "outputId": "492b4b6d-1ce9-4bf9-9689-5e7ca22d8ae3"
   },
   "outputs": [
    {
     "data": {
      "text/plain": [
       "38    136.2\n",
       "40    128.3\n",
       "Name: Chest, dtype: float64"
      ]
     },
     "execution_count": 21,
     "metadata": {},
     "output_type": "execute_result"
    }
   ],
   "source": [
    "find_outliers(df, 'Chest')"
   ]
  },
  {
   "cell_type": "code",
   "execution_count": 22,
   "metadata": {
    "colab": {
     "base_uri": "https://localhost:8080/"
    },
    "executionInfo": {
     "elapsed": 26,
     "status": "ok",
     "timestamp": 1695337173783,
     "user": {
      "displayName": "Judith A. H. R.",
      "userId": "16951681262866800693"
     },
     "user_tz": 360
    },
    "id": "F8Sj1xjQvfVL",
    "outputId": "09e7f83f-ca59-4bfc-8d01-4798d6f63dfe"
   },
   "outputs": [
    {
     "data": {
      "text/plain": [
       "38     148.1\n",
       "40     126.2\n",
       "215    122.1\n",
       "Name: Abdomen, dtype: float64"
      ]
     },
     "execution_count": 22,
     "metadata": {},
     "output_type": "execute_result"
    }
   ],
   "source": [
    "find_outliers(df, 'Abdomen')"
   ]
  },
  {
   "cell_type": "code",
   "execution_count": 23,
   "metadata": {
    "colab": {
     "base_uri": "https://localhost:8080/"
    },
    "executionInfo": {
     "elapsed": 24,
     "status": "ok",
     "timestamp": 1695337173784,
     "user": {
      "displayName": "Judith A. H. R.",
      "userId": "16951681262866800693"
     },
     "user_tz": 360
    },
    "id": "NFEpObhgvhtS",
    "outputId": "fbe06b3c-9223-4c19-a24c-26ec4552cf3a"
   },
   "outputs": [
    {
     "data": {
      "text/plain": [
       "34    116.1\n",
       "38    147.7\n",
       "40    125.6\n",
       "Name: Hip, dtype: float64"
      ]
     },
     "execution_count": 23,
     "metadata": {},
     "output_type": "execute_result"
    }
   ],
   "source": [
    "find_outliers(df, 'Hip')"
   ]
  },
  {
   "cell_type": "code",
   "execution_count": 24,
   "metadata": {
    "colab": {
     "base_uri": "https://localhost:8080/"
    },
    "executionInfo": {
     "elapsed": 18,
     "status": "ok",
     "timestamp": 1695337173784,
     "user": {
      "displayName": "Judith A. H. R.",
      "userId": "16951681262866800693"
     },
     "user_tz": 360
    },
    "id": "g4sxazq-vjiR",
    "outputId": "e011f726-2649-4e39-b43e-1b5dd147c8a9"
   },
   "outputs": [
    {
     "data": {
      "text/plain": [
       "38     87.3\n",
       "40     72.5\n",
       "151    72.9\n",
       "168    74.4\n",
       "Name: Thigh, dtype: float64"
      ]
     },
     "execution_count": 24,
     "metadata": {},
     "output_type": "execute_result"
    }
   ],
   "source": [
    "find_outliers(df, 'Thigh')"
   ]
  },
  {
   "cell_type": "code",
   "execution_count": 25,
   "metadata": {
    "colab": {
     "base_uri": "https://localhost:8080/"
    },
    "executionInfo": {
     "elapsed": 19,
     "status": "ok",
     "timestamp": 1695337173785,
     "user": {
      "displayName": "Judith A. H. R.",
      "userId": "16951681262866800693"
     },
     "user_tz": 360
    },
    "id": "LBO1ZJavvmX5",
    "outputId": "44e69134-38c8-4f4c-a056-8f206cea93dc"
   },
   "outputs": [
    {
     "data": {
      "text/plain": [
       "38     49.1\n",
       "191    45.0\n",
       "243    46.0\n",
       "Name: Knee, dtype: float64"
      ]
     },
     "execution_count": 25,
     "metadata": {},
     "output_type": "execute_result"
    }
   ],
   "source": [
    "find_outliers(df, 'Knee')"
   ]
  },
  {
   "cell_type": "code",
   "execution_count": 26,
   "metadata": {
    "colab": {
     "base_uri": "https://localhost:8080/"
    },
    "executionInfo": {
     "elapsed": 18,
     "status": "ok",
     "timestamp": 1695337173785,
     "user": {
      "displayName": "Judith A. H. R.",
      "userId": "16951681262866800693"
     },
     "user_tz": 360
    },
    "id": "G_yClb_DuzE4",
    "outputId": "832d66e1-b7c2-4b9f-adc1-843a1815ba37"
   },
   "outputs": [
    {
     "data": {
      "text/plain": [
       "30    33.9\n",
       "38    29.6\n",
       "85    33.7\n",
       "Name: Ankle, dtype: float64"
      ]
     },
     "execution_count": 26,
     "metadata": {},
     "output_type": "execute_result"
    }
   ],
   "source": [
    "find_outliers(df, 'Ankle')"
   ]
  },
  {
   "cell_type": "code",
   "execution_count": 27,
   "metadata": {
    "colab": {
     "base_uri": "https://localhost:8080/"
    },
    "executionInfo": {
     "elapsed": 17,
     "status": "ok",
     "timestamp": 1695337173785,
     "user": {
      "displayName": "Judith A. H. R.",
      "userId": "16951681262866800693"
     },
     "user_tz": 360
    },
    "id": "LTM4S4VEJst4",
    "outputId": "870af825-429f-4ca9-d50b-1323ae571ac0"
   },
   "outputs": [
    {
     "data": {
      "text/plain": [
       "Density      1.0716\n",
       "BodyFat     11.9000\n",
       "Age         32.0000\n",
       "Weight     182.0000\n",
       "Height      73.7500\n",
       "Neck        38.7000\n",
       "Chest      100.5000\n",
       "Abdomen     88.7000\n",
       "Hip         99.8000\n",
       "Thigh       57.5000\n",
       "Knee        38.7000\n",
       "Ankle       33.9000\n",
       "Biceps      32.5000\n",
       "Forearm     27.7000\n",
       "Wrist       18.4000\n",
       "Name: 30, dtype: float64"
      ]
     },
     "execution_count": 27,
     "metadata": {},
     "output_type": "execute_result"
    }
   ],
   "source": [
    "df.iloc[30]"
   ]
  },
  {
   "cell_type": "code",
   "execution_count": 28,
   "metadata": {
    "colab": {
     "base_uri": "https://localhost:8080/"
    },
    "executionInfo": {
     "elapsed": 17,
     "status": "ok",
     "timestamp": 1695337173786,
     "user": {
      "displayName": "Judith A. H. R.",
      "userId": "16951681262866800693"
     },
     "user_tz": 360
    },
    "id": "zjgB8xIDJvfC",
    "outputId": "e6bae479-6671-45e3-e854-66f2c16fee96"
   },
   "outputs": [
    {
     "data": {
      "text/plain": [
       "Density      1.0386\n",
       "BodyFat     26.6000\n",
       "Age         67.0000\n",
       "Weight     167.0000\n",
       "Height      67.5000\n",
       "Neck        36.5000\n",
       "Chest       98.9000\n",
       "Abdomen     89.7000\n",
       "Hip         96.2000\n",
       "Thigh       54.7000\n",
       "Knee        37.8000\n",
       "Ankle       33.7000\n",
       "Biceps      32.4000\n",
       "Forearm     27.7000\n",
       "Wrist       18.2000\n",
       "Name: 85, dtype: float64"
      ]
     },
     "execution_count": 28,
     "metadata": {},
     "output_type": "execute_result"
    }
   ],
   "source": [
    "df.iloc[85]"
   ]
  },
  {
   "cell_type": "code",
   "execution_count": 29,
   "metadata": {
    "colab": {
     "base_uri": "https://localhost:8080/"
    },
    "executionInfo": {
     "elapsed": 16,
     "status": "ok",
     "timestamp": 1695337173786,
     "user": {
      "displayName": "Judith A. H. R.",
      "userId": "16951681262866800693"
     },
     "user_tz": 360
    },
    "id": "GfjcHOvAOsJ1",
    "outputId": "a81bd516-9c5f-4203-af03-1ab22ec7948f"
   },
   "outputs": [
    {
     "data": {
      "text/plain": [
       "Density      1.0202\n",
       "BodyFat     35.2000\n",
       "Age         46.0000\n",
       "Weight     363.1500\n",
       "Height      72.2500\n",
       "Neck        51.2000\n",
       "Chest      136.2000\n",
       "Abdomen    148.1000\n",
       "Hip        147.7000\n",
       "Thigh       87.3000\n",
       "Knee        49.1000\n",
       "Ankle       29.6000\n",
       "Biceps      45.0000\n",
       "Forearm     29.0000\n",
       "Wrist       21.4000\n",
       "Name: 38, dtype: float64"
      ]
     },
     "execution_count": 29,
     "metadata": {},
     "output_type": "execute_result"
    }
   ],
   "source": [
    "df.iloc[38]"
   ]
  },
  {
   "cell_type": "code",
   "execution_count": 30,
   "metadata": {
    "colab": {
     "base_uri": "https://localhost:8080/"
    },
    "executionInfo": {
     "elapsed": 15,
     "status": "ok",
     "timestamp": 1695337173786,
     "user": {
      "displayName": "Judith A. H. R.",
      "userId": "16951681262866800693"
     },
     "user_tz": 360
    },
    "id": "tgYbLFIbMQAt",
    "outputId": "9cb4ef7b-7f72-4054-a174-cdc505726c6e"
   },
   "outputs": [
    {
     "data": {
      "text/plain": [
       "30     33.9\n",
       "85     33.7\n",
       "38     29.6\n",
       "221    27.0\n",
       "40     26.6\n",
       "Name: Ankle, dtype: float64"
      ]
     },
     "execution_count": 30,
     "metadata": {},
     "output_type": "execute_result"
    }
   ],
   "source": [
    "df.Ankle.sort_values(ascending=False).head()"
   ]
  },
  {
   "cell_type": "code",
   "execution_count": 31,
   "metadata": {
    "colab": {
     "base_uri": "https://localhost:8080/"
    },
    "executionInfo": {
     "elapsed": 172,
     "status": "ok",
     "timestamp": 1695337173943,
     "user": {
      "displayName": "Judith A. H. R.",
      "userId": "16951681262866800693"
     },
     "user_tz": 360
    },
    "id": "nhonBOHivEbZ",
    "outputId": "d7a9a17c-c0dc-4cfe-f9e5-6716becff1d3"
   },
   "outputs": [
    {
     "data": {
      "text/plain": [
       "38    45.0\n",
       "Name: Biceps, dtype: float64"
      ]
     },
     "execution_count": 31,
     "metadata": {},
     "output_type": "execute_result"
    }
   ],
   "source": [
    "find_outliers(df, 'Biceps')"
   ]
  },
  {
   "cell_type": "code",
   "execution_count": 32,
   "metadata": {
    "colab": {
     "base_uri": "https://localhost:8080/"
    },
    "executionInfo": {
     "elapsed": 6,
     "status": "ok",
     "timestamp": 1695337173943,
     "user": {
      "displayName": "Judith A. H. R.",
      "userId": "16951681262866800693"
     },
     "user_tz": 360
    },
    "id": "Qf-Hixbavo27",
    "outputId": "e7cf917a-145e-408f-f657-8f625194fe8a"
   },
   "outputs": [
    {
     "data": {
      "text/plain": [
       "44     23.1\n",
       "158    34.9\n",
       "174    21.0\n",
       "205    23.1\n",
       "225    22.0\n",
       "Name: Forearm, dtype: float64"
      ]
     },
     "execution_count": 32,
     "metadata": {},
     "output_type": "execute_result"
    }
   ],
   "source": [
    "find_outliers(df, 'Forearm')"
   ]
  },
  {
   "cell_type": "code",
   "execution_count": 33,
   "metadata": {
    "colab": {
     "base_uri": "https://localhost:8080/"
    },
    "executionInfo": {
     "elapsed": 6,
     "status": "ok",
     "timestamp": 1695337173944,
     "user": {
      "displayName": "Judith A. H. R.",
      "userId": "16951681262866800693"
     },
     "user_tz": 360
    },
    "id": "rQRKMFfDvKuo",
    "outputId": "9e73e4af-fab0-4fec-f3e1-d42fb49a03e8"
   },
   "outputs": [
    {
     "data": {
      "text/plain": [
       "38     21.4\n",
       "40     21.4\n",
       "225    15.8\n",
       "251    20.9\n",
       "Name: Wrist, dtype: float64"
      ]
     },
     "execution_count": 33,
     "metadata": {},
     "output_type": "execute_result"
    }
   ],
   "source": [
    "find_outliers(df, 'Wrist')"
   ]
  },
  {
   "cell_type": "markdown",
   "metadata": {
    "id": "3Gr1qu4PDUxy"
   },
   "source": [
    "El registro 38 y 40 se repiten demasiado, en todas por estar por arriba de la norma."
   ]
  },
  {
   "cell_type": "markdown",
   "metadata": {
    "id": "uvyYlh0gsPUd"
   },
   "source": [
    "### Correlación de los datos"
   ]
  },
  {
   "cell_type": "code",
   "execution_count": 34,
   "metadata": {
    "colab": {
     "base_uri": "https://localhost:8080/",
     "height": 54,
     "output_embedded_package_id": "16Xtt3htNBj1rTljZx5Kv0qmWq7RwHiOx"
    },
    "executionInfo": {
     "elapsed": 61079,
     "status": "ok",
     "timestamp": 1695337235017,
     "user": {
      "displayName": "Judith A. H. R.",
      "userId": "16951681262866800693"
     },
     "user_tz": 360
    },
    "id": "pCl5_9q3GyU2",
    "outputId": "8d75b88a-d6f4-4608-d3af-b5fcd4272510"
   },
   "outputs": [
    {
     "data": {
      "text/plain": [
       "Output hidden; open in https://colab.research.google.com to view."
      ]
     },
     "metadata": {},
     "output_type": "display_data"
    }
   ],
   "source": [
    "sns.pairplot(df)\n",
    "plt.show()"
   ]
  },
  {
   "cell_type": "code",
   "execution_count": 35,
   "metadata": {
    "colab": {
     "base_uri": "https://localhost:8080/",
     "height": 54
    },
    "executionInfo": {
     "elapsed": 451,
     "status": "ok",
     "timestamp": 1695337235459,
     "user": {
      "displayName": "Judith A. H. R.",
      "userId": "16951681262866800693"
     },
     "user_tz": 360
    },
    "id": "cezRzs_gGk-o",
    "outputId": "7bac6151-89bf-4689-ca01-f626e214167b"
   },
   "outputs": [
    {
     "data": {
      "image/png": "[encoded data removed]",
      "text/plain": [
       "<Figure size 1600x600 with 2 Axes>"
      ]
     },
     "metadata": {},
     "output_type": "display_data"
    }
   ],
   "source": [
    "plt.figure(figsize=(16, 6))\n",
    "heatmap = sns.heatmap(df.corr(), vmin=-1, vmax=1, annot=True, cmap='BrBG')\n",
    "heatmap.set_title('Mapa de calor - Correlaciones', fontdict={'fontsize':18}, pad=12)\n",
    "plt.show()"
   ]
  },
  {
   "cell_type": "markdown",
   "metadata": {
    "id": "N2dn-zvHEx2n"
   },
   "source": [
    "- Las variables `Height` y `Age` no tienen una correlación aparente con las demás variables.\n",
    "- `BodyFat` y `Density` tienen una correlación negativa muy alta (de casi -1)."
   ]
  },
  {
   "cell_type": "markdown",
   "metadata": {
    "id": "JutHT3Y-orxl"
   },
   "source": [
    "#### Correlación de variables predictoras"
   ]
  },
  {
   "cell_type": "markdown",
   "metadata": {
    "id": "97lAsLvRtC-k"
   },
   "source": [
    "Tomemos $|x_n|>0.8$ como alta correlación."
   ]
  },
  {
   "cell_type": "code",
   "execution_count": 36,
   "metadata": {
    "colab": {
     "base_uri": "https://localhost:8080/",
     "height": 54
    },
    "executionInfo": {
     "elapsed": 26,
     "status": "ok",
     "timestamp": 1695337235461,
     "user": {
      "displayName": "Judith A. H. R.",
      "userId": "16951681262866800693"
     },
     "user_tz": 360
    },
    "id": "MWHxn76FpFbu",
    "outputId": "563159d5-7ad7-46b8-d8cd-031c78a03029"
   },
   "outputs": [
    {
     "data": {
      "image/png": "[encoded data removed]",
      "text/plain": [
       "<Figure size 1600x600 with 1 Axes>"
      ]
     },
     "metadata": {},
     "output_type": "display_data"
    }
   ],
   "source": [
    "plt.figure(figsize=(16, 6))\n",
    "mask = np.tril(np.ones_like(X.corr(), dtype=bool)) * X.corr().abs() <= 0.8\n",
    "sns.heatmap(X.corr(), mask=mask, vmin=-1, vmax=1, annot=True, cmap='BrBG', cbar=False)\n",
    "plt.show()"
   ]
  },
  {
   "cell_type": "markdown",
   "metadata": {
    "id": "gHObiu1vD-80"
   },
   "source": [
    "Parece haber altas correlaciones absolutas entre:\n",
    "- `BodyFat` y `Density`: -0.99\n",
    "- `Abdomen` y `Chest`: 0.92\n",
    "- `Hip` y `Thigh`: 0.9\n",
    "- `Hip` y `Abdomen`: 0.87\n",
    "- `Hip` y `Chest`: 0.83\n",
    "- `Hip` y `Knee`: 0.82\n",
    "- `Abdomen` y `BodyFat`: 0.81\n",
    "\n",
    "\\\n",
    "*Sería importante considerarlo a la hora de seleccionar características, ya que puede haber colinealidad.*"
   ]
  },
  {
   "cell_type": "markdown",
   "metadata": {
    "id": "IUsIxEghmFh1"
   },
   "source": [
    "#### Correlación de variables predictoras vs variable objetivo"
   ]
  },
  {
   "cell_type": "code",
   "execution_count": 37,
   "metadata": {
    "colab": {
     "base_uri": "https://localhost:8080/",
     "height": 54
    },
    "executionInfo": {
     "elapsed": 23,
     "status": "ok",
     "timestamp": 1695337235462,
     "user": {
      "displayName": "Judith A. H. R.",
      "userId": "16951681262866800693"
     },
     "user_tz": 360
    },
    "id": "vNhdJpM87TP1",
    "outputId": "bd1529ef-38de-40b4-e049-6f7ebe746291"
   },
   "outputs": [
    {
     "data": {
      "image/png": "[encoded data removed]",
      "text/plain": [
       "<Figure size 1600x200 with 2 Axes>"
      ]
     },
     "metadata": {},
     "output_type": "display_data"
    }
   ],
   "source": [
    "plt.figure(figsize=(16, 2))\n",
    "sns.heatmap(\n",
    "    data=df.corr()[['Weight']].T,\n",
    "    vmin=-1, vmax=1, annot=True, cmap='BrBG')\n",
    "plt.show()"
   ]
  },
  {
   "cell_type": "code",
   "execution_count": 38,
   "metadata": {
    "colab": {
     "base_uri": "https://localhost:8080/",
     "height": 54
    },
    "executionInfo": {
     "elapsed": 1170,
     "status": "ok",
     "timestamp": 1695337236612,
     "user": {
      "displayName": "Judith A. H. R.",
      "userId": "16951681262866800693"
     },
     "user_tz": 360
    },
    "id": "8rJh-nRGkPv7",
    "outputId": "efa74f22-5a61-4413-d0ee-4915f98e39d3"
   },
   "outputs": [
    {
     "data": {
      "image/png": "[encoded data removed]",
      "text/plain": [
       "<Figure size 3500x250 with 14 Axes>"
      ]
     },
     "metadata": {},
     "output_type": "display_data"
    }
   ],
   "source": [
    "sns.pairplot(data=df,\n",
    "                  y_vars=['Weight'],\n",
    "                  x_vars=X.columns)\n",
    "plt.show()"
   ]
  },
  {
   "cell_type": "markdown",
   "metadata": {
    "id": "4SZm1x_OGKbj"
   },
   "source": [
    "Las variables que tienen un ajuste cercano a una línea recta y una alta correlación (mayor a 0.8) con la variable objetivo son: `Neck`, `Chest`, `Abdomen`, `Hip`, `Thigh`, `Knee` y `Biceps`."
   ]
  },
  {
   "cell_type": "markdown",
   "metadata": {
    "id": "Tpaxwh8OwJVR"
   },
   "source": [
    "## Tratamiento de las variables"
   ]
  },
  {
   "cell_type": "code",
   "execution_count": 39,
   "metadata": {
    "executionInfo": {
     "elapsed": 8,
     "status": "ok",
     "timestamp": 1695337236613,
     "user": {
      "displayName": "Judith A. H. R.",
      "userId": "16951681262866800693"
     },
     "user_tz": 360
    },
    "id": "YVV5CklUp-6m"
   },
   "outputs": [],
   "source": [
    "mask = mask.to_numpy() == False\n",
    "np.fill_diagonal(mask, False)\n",
    "comp_col = np.argwhere(mask)"
   ]
  },
  {
   "cell_type": "code",
   "execution_count": 40,
   "metadata": {
    "colab": {
     "base_uri": "https://localhost:8080/"
    },
    "executionInfo": {
     "elapsed": 25,
     "status": "ok",
     "timestamp": 1695337236815,
     "user": {
      "displayName": "Judith A. H. R.",
      "userId": "16951681262866800693"
     },
     "user_tz": 360
    },
    "id": "HlPiYYjQs5wb",
    "outputId": "09dc930f-be25-4715-d071-cdcb560e1d32"
   },
   "outputs": [
    {
     "data": {
      "text/plain": [
       "array([[1, 0],\n",
       "       [6, 1],\n",
       "       [6, 5],\n",
       "       [7, 5],\n",
       "       [7, 6],\n",
       "       [8, 7],\n",
       "       [9, 7]])"
      ]
     },
     "execution_count": 40,
     "metadata": {},
     "output_type": "execute_result"
    }
   ],
   "source": [
    "comp_col"
   ]
  },
  {
   "cell_type": "markdown",
   "metadata": {
    "id": "L2tR-aCa3oq3"
   },
   "source": [
    "### Eliminar datos atípicos"
   ]
  },
  {
   "cell_type": "markdown",
   "metadata": {
    "id": "6qMCZ6X2LnDC"
   },
   "source": [
    "Basado en las variables con los sesgos más altos se identifican 4 registros con datos atípicos, se probará eliminandolos y sin eliminar."
   ]
  },
  {
   "cell_type": "code",
   "execution_count": 41,
   "metadata": {
    "executionInfo": {
     "elapsed": 20,
     "status": "ok",
     "timestamp": 1695337236816,
     "user": {
      "displayName": "Judith A. H. R.",
      "userId": "16951681262866800693"
     },
     "user_tz": 360
    },
    "id": "Cym9icx0KtWj"
   },
   "outputs": [],
   "source": [
    "df_deleted = df[~df.index.isin([41, 30, 38, 85])]\n",
    "X_deleted =  df_deleted.drop(columns='Weight')\n",
    "y_deleted = df_deleted['Weight']"
   ]
  },
  {
   "cell_type": "markdown",
   "metadata": {
    "id": "wiA8ViIUoX1e"
   },
   "source": [
    "### Mitigar sesgo"
   ]
  },
  {
   "cell_type": "markdown",
   "metadata": {
    "id": "HFgTG0DXP0o4"
   },
   "source": [
    "#### Si eliminamos datos atípicos de `Ankle` y `Height`"
   ]
  },
  {
   "cell_type": "code",
   "execution_count": 42,
   "metadata": {
    "colab": {
     "base_uri": "https://localhost:8080/",
     "height": 53
    },
    "executionInfo": {
     "elapsed": 21,
     "status": "ok",
     "timestamp": 1695337236817,
     "user": {
      "displayName": "Judith A. H. R.",
      "userId": "16951681262866800693"
     },
     "user_tz": 360
    },
    "id": "ljZ3R-KUIZSX",
    "outputId": "0c7b4f13-a2d5-41e9-a862-162f898415cd"
   },
   "outputs": [
    {
     "data": {
      "text/html": [
       "\n",
       "  <div id=\"df-48db135f-8710-470f-bfed-3d85bcb8ddb9\" class=\"colab-df-container\">\n",
       "    <div>\n",
       "<style scoped>\n",
       "    .dataframe tbody tr th:only-of-type {\n",
       "        vertical-align: middle;\n",
       "    }\n",
       "\n",
       "    .dataframe tbody tr th {\n",
       "        vertical-align: top;\n",
       "    }\n",
       "\n",
       "    .dataframe thead th {\n",
       "        text-align: right;\n",
       "    }\n",
       "</style>\n",
       "<table border=\"1\" class=\"dataframe\">\n",
       "  <thead>\n",
       "    <tr style=\"text-align: right;\">\n",
       "      <th></th>\n",
       "      <th>value</th>\n",
       "      <th>skewness</th>\n",
       "    </tr>\n",
       "  </thead>\n",
       "  <tbody>\n",
       "  </tbody>\n",
       "</table>\n",
       "</div>\n",
       "    <div class=\"colab-df-buttons\">\n",
       "\n",
       "  <div class=\"colab-df-container\">\n",
       "    <button class=\"colab-df-convert\" onclick=\"convertToInteractive('df-48db135f-8710-470f-bfed-3d85bcb8ddb9')\"\n",
       "            title=\"Convert this dataframe to an interactive table.\"\n",
       "            style=\"display:none;\">\n",
       "\n",
       "  <svg xmlns=\"http://www.w3.org/2000/svg\" height=\"24px\" viewBox=\"0 -960 960 960\">\n",
       "    <path d=\"M120-120v-720h720v720H120Zm60-500h600v-160H180v160Zm220 220h160v-160H400v160Zm0 220h160v-160H400v160ZM180-400h160v-160H180v160Zm440 0h160v-160H620v160ZM180-180h160v-160H180v160Zm440 0h160v-160H620v160Z\"/>\n",
       "  </svg>\n",
       "    </button>\n",
       "\n",
       "  <style>\n",
       "    .colab-df-container {\n",
       "      display:flex;\n",
       "      gap: 12px;\n",
       "    }\n",
       "\n",
       "    .colab-df-convert {\n",
       "      background-color: #E8F0FE;\n",
       "      border: none;\n",
       "      border-radius: 50%;\n",
       "      cursor: pointer;\n",
       "      display: none;\n",
       "      fill: #1967D2;\n",
       "      height: 32px;\n",
       "      padding: 0 0 0 0;\n",
       "      width: 32px;\n",
       "    }\n",
       "\n",
       "    .colab-df-convert:hover {\n",
       "      background-color: #E2EBFA;\n",
       "      box-shadow: 0px 1px 2px rgba(60, 64, 67, 0.3), 0px 1px 3px 1px rgba(60, 64, 67, 0.15);\n",
       "      fill: #174EA6;\n",
       "    }\n",
       "\n",
       "    .colab-df-buttons div {\n",
       "      margin-bottom: 4px;\n",
       "    }\n",
       "\n",
       "    [theme=dark] .colab-df-convert {\n",
       "      background-color: #3B4455;\n",
       "      fill: #D2E3FC;\n",
       "    }\n",
       "\n",
       "    [theme=dark] .colab-df-convert:hover {\n",
       "      background-color: #434B5C;\n",
       "      box-shadow: 0px 1px 3px 1px rgba(0, 0, 0, 0.15);\n",
       "      filter: drop-shadow(0px 1px 2px rgba(0, 0, 0, 0.3));\n",
       "      fill: #FFFFFF;\n",
       "    }\n",
       "  </style>\n",
       "\n",
       "    <script>\n",
       "      const buttonEl =\n",
       "        document.querySelector('#df-48db135f-8710-470f-bfed-3d85bcb8ddb9 button.colab-df-convert');\n",
       "      buttonEl.style.display =\n",
       "        google.colab.kernel.accessAllowed ? 'block' : 'none';\n",
       "\n",
       "      async function convertToInteractive(key) {\n",
       "        const element = document.querySelector('#df-48db135f-8710-470f-bfed-3d85bcb8ddb9');\n",
       "        const dataTable =\n",
       "          await google.colab.kernel.invokeFunction('convertToInteractive',\n",
       "                                                    [key], {});\n",
       "        if (!dataTable) return;\n",
       "\n",
       "        const docLinkHtml = 'Like what you see? Visit the ' +\n",
       "          '<a target=\"_blank\" href=https://colab.research.google.com/notebooks/data_table.ipynb>data table notebook</a>'\n",
       "          + ' to learn more about interactive tables.';\n",
       "        element.innerHTML = '';\n",
       "        dataTable['output_type'] = 'display_data';\n",
       "        await google.colab.output.renderOutput(dataTable, element);\n",
       "        const docLink = document.createElement('div');\n",
       "        docLink.innerHTML = docLinkHtml;\n",
       "        element.appendChild(docLink);\n",
       "      }\n",
       "    </script>\n",
       "  </div>\n",
       "\n",
       "    </div>\n",
       "  </div>\n"
      ],
      "text/plain": [
       "Empty DataFrame\n",
       "Columns: [value, skewness]\n",
       "Index: []"
      ]
     },
     "execution_count": 42,
     "metadata": {},
     "output_type": "execute_result"
    }
   ],
   "source": [
    "# Cálculo del sesgo con valores eliminados\n",
    "skewness_deleted = round(df_deleted.select_dtypes(exclude=['object']).skew(), 2)\n",
    "skewness_deleted = skewness_deleted.to_frame()\n",
    "skewness_deleted = skewness_deleted.rename(columns={0: \"value\"})\n",
    "\n",
    "skewness_deleted['skewness'] = skewness_deleted.apply(f, axis=1)\n",
    "skewness_deleted[skewness_deleted['skewness'] != 'Distribución simétrica']"
   ]
  },
  {
   "cell_type": "markdown",
   "metadata": {
    "id": "U7nGIostP8Fo"
   },
   "source": [
    "No necesitamos mitigar el sesgo"
   ]
  },
  {
   "cell_type": "markdown",
   "metadata": {
    "id": "oqqq7pX6QODs"
   },
   "source": [
    "#### Si eliminamos dato atípico de `Height`"
   ]
  },
  {
   "cell_type": "code",
   "execution_count": 43,
   "metadata": {
    "colab": {
     "base_uri": "https://localhost:8080/",
     "height": 332
    },
    "executionInfo": {
     "elapsed": 20,
     "status": "ok",
     "timestamp": 1695337236817,
     "user": {
      "displayName": "Judith A. H. R.",
      "userId": "16951681262866800693"
     },
     "user_tz": 360
    },
    "id": "NDzYtJvwoXVu",
    "outputId": "b755cae3-fa55-4e63-d37d-4f6477310441"
   },
   "outputs": [
    {
     "data": {
      "text/html": [
       "\n",
       "  <div id=\"df-0502d932-01c0-4adb-992a-503a6e8e49aa\" class=\"colab-df-container\">\n",
       "    <div>\n",
       "<style scoped>\n",
       "    .dataframe tbody tr th:only-of-type {\n",
       "        vertical-align: middle;\n",
       "    }\n",
       "\n",
       "    .dataframe tbody tr th {\n",
       "        vertical-align: top;\n",
       "    }\n",
       "\n",
       "    .dataframe thead th {\n",
       "        text-align: right;\n",
       "    }\n",
       "</style>\n",
       "<table border=\"1\" class=\"dataframe\">\n",
       "  <thead>\n",
       "    <tr style=\"text-align: right;\">\n",
       "      <th></th>\n",
       "      <th>value</th>\n",
       "      <th>skewness</th>\n",
       "    </tr>\n",
       "  </thead>\n",
       "  <tbody>\n",
       "    <tr>\n",
       "      <th>Weight</th>\n",
       "      <td>1.21</td>\n",
       "      <td>Altamente sesgada</td>\n",
       "    </tr>\n",
       "    <tr>\n",
       "      <th>Height</th>\n",
       "      <td>-5.38</td>\n",
       "      <td>Altamente sesgada</td>\n",
       "    </tr>\n",
       "    <tr>\n",
       "      <th>Neck</th>\n",
       "      <td>0.55</td>\n",
       "      <td>Moderadamenta sesgada</td>\n",
       "    </tr>\n",
       "    <tr>\n",
       "      <th>Chest</th>\n",
       "      <td>0.68</td>\n",
       "      <td>Moderadamenta sesgada</td>\n",
       "    </tr>\n",
       "    <tr>\n",
       "      <th>Abdomen</th>\n",
       "      <td>0.84</td>\n",
       "      <td>Moderadamenta sesgada</td>\n",
       "    </tr>\n",
       "    <tr>\n",
       "      <th>Hip</th>\n",
       "      <td>1.50</td>\n",
       "      <td>Altamente sesgada</td>\n",
       "    </tr>\n",
       "    <tr>\n",
       "      <th>Thigh</th>\n",
       "      <td>0.82</td>\n",
       "      <td>Moderadamenta sesgada</td>\n",
       "    </tr>\n",
       "    <tr>\n",
       "      <th>Knee</th>\n",
       "      <td>0.52</td>\n",
       "      <td>Moderadamenta sesgada</td>\n",
       "    </tr>\n",
       "    <tr>\n",
       "      <th>Ankle</th>\n",
       "      <td>2.26</td>\n",
       "      <td>Altamente sesgada</td>\n",
       "    </tr>\n",
       "  </tbody>\n",
       "</table>\n",
       "</div>\n",
       "    <div class=\"colab-df-buttons\">\n",
       "\n",
       "  <div class=\"colab-df-container\">\n",
       "    <button class=\"colab-df-convert\" onclick=\"convertToInteractive('df-0502d932-01c0-4adb-992a-503a6e8e49aa')\"\n",
       "            title=\"Convert this dataframe to an interactive table.\"\n",
       "            style=\"display:none;\">\n",
       "\n",
       "  <svg xmlns=\"http://www.w3.org/2000/svg\" height=\"24px\" viewBox=\"0 -960 960 960\">\n",
       "    <path d=\"M120-120v-720h720v720H120Zm60-500h600v-160H180v160Zm220 220h160v-160H400v160Zm0 220h160v-160H400v160ZM180-400h160v-160H180v160Zm440 0h160v-160H620v160ZM180-180h160v-160H180v160Zm440 0h160v-160H620v160Z\"/>\n",
       "  </svg>\n",
       "    </button>\n",
       "\n",
       "  <style>\n",
       "    .colab-df-container {\n",
       "      display:flex;\n",
       "      gap: 12px;\n",
       "    }\n",
       "\n",
       "    .colab-df-convert {\n",
       "      background-color: #E8F0FE;\n",
       "      border: none;\n",
       "      border-radius: 50%;\n",
       "      cursor: pointer;\n",
       "      display: none;\n",
       "      fill: #1967D2;\n",
       "      height: 32px;\n",
       "      padding: 0 0 0 0;\n",
       "      width: 32px;\n",
       "    }\n",
       "\n",
       "    .colab-df-convert:hover {\n",
       "      background-color: #E2EBFA;\n",
       "      box-shadow: 0px 1px 2px rgba(60, 64, 67, 0.3), 0px 1px 3px 1px rgba(60, 64, 67, 0.15);\n",
       "      fill: #174EA6;\n",
       "    }\n",
       "\n",
       "    .colab-df-buttons div {\n",
       "      margin-bottom: 4px;\n",
       "    }\n",
       "\n",
       "    [theme=dark] .colab-df-convert {\n",
       "      background-color: #3B4455;\n",
       "      fill: #D2E3FC;\n",
       "    }\n",
       "\n",
       "    [theme=dark] .colab-df-convert:hover {\n",
       "      background-color: #434B5C;\n",
       "      box-shadow: 0px 1px 3px 1px rgba(0, 0, 0, 0.15);\n",
       "      filter: drop-shadow(0px 1px 2px rgba(0, 0, 0, 0.3));\n",
       "      fill: #FFFFFF;\n",
       "    }\n",
       "  </style>\n",
       "\n",
       "    <script>\n",
       "      const buttonEl =\n",
       "        document.querySelector('#df-0502d932-01c0-4adb-992a-503a6e8e49aa button.colab-df-convert');\n",
       "      buttonEl.style.display =\n",
       "        google.colab.kernel.accessAllowed ? 'block' : 'none';\n",
       "\n",
       "      async function convertToInteractive(key) {\n",
       "        const element = document.querySelector('#df-0502d932-01c0-4adb-992a-503a6e8e49aa');\n",
       "        const dataTable =\n",
       "          await google.colab.kernel.invokeFunction('convertToInteractive',\n",
       "                                                    [key], {});\n",
       "        if (!dataTable) return;\n",
       "\n",
       "        const docLinkHtml = 'Like what you see? Visit the ' +\n",
       "          '<a target=\"_blank\" href=https://colab.research.google.com/notebooks/data_table.ipynb>data table notebook</a>'\n",
       "          + ' to learn more about interactive tables.';\n",
       "        element.innerHTML = '';\n",
       "        dataTable['output_type'] = 'display_data';\n",
       "        await google.colab.output.renderOutput(dataTable, element);\n",
       "        const docLink = document.createElement('div');\n",
       "        docLink.innerHTML = docLinkHtml;\n",
       "        element.appendChild(docLink);\n",
       "      }\n",
       "    </script>\n",
       "  </div>\n",
       "\n",
       "\n",
       "<div id=\"df-31bd1b68-bb39-45b4-9e31-233b7b7d0b75\">\n",
       "  <button class=\"colab-df-quickchart\" onclick=\"quickchart('df-31bd1b68-bb39-45b4-9e31-233b7b7d0b75')\"\n",
       "            title=\"Suggest charts.\"\n",
       "            style=\"display:none;\">\n",
       "\n",
       "<svg xmlns=\"http://www.w3.org/2000/svg\" height=\"24px\"viewBox=\"0 0 24 24\"\n",
       "     width=\"24px\">\n",
       "    <g>\n",
       "        <path d=\"M19 3H5c-1.1 0-2 .9-2 2v14c0 1.1.9 2 2 2h14c1.1 0 2-.9 2-2V5c0-1.1-.9-2-2-2zM9 17H7v-7h2v7zm4 0h-2V7h2v10zm4 0h-2v-4h2v4z\"/>\n",
       "    </g>\n",
       "</svg>\n",
       "  </button>\n",
       "\n",
       "<style>\n",
       "  .colab-df-quickchart {\n",
       "      --bg-color: #E8F0FE;\n",
       "      --fill-color: #1967D2;\n",
       "      --hover-bg-color: #E2EBFA;\n",
       "      --hover-fill-color: #174EA6;\n",
       "      --disabled-fill-color: #AAA;\n",
       "      --disabled-bg-color: #DDD;\n",
       "  }\n",
       "\n",
       "  [theme=dark] .colab-df-quickchart {\n",
       "      --bg-color: #3B4455;\n",
       "      --fill-color: #D2E3FC;\n",
       "      --hover-bg-color: #434B5C;\n",
       "      --hover-fill-color: #FFFFFF;\n",
       "      --disabled-bg-color: #3B4455;\n",
       "      --disabled-fill-color: #666;\n",
       "  }\n",
       "\n",
       "  .colab-df-quickchart {\n",
       "    background-color: var(--bg-color);\n",
       "    border: none;\n",
       "    border-radius: 50%;\n",
       "    cursor: pointer;\n",
       "    display: none;\n",
       "    fill: var(--fill-color);\n",
       "    height: 32px;\n",
       "    padding: 0;\n",
       "    width: 32px;\n",
       "  }\n",
       "\n",
       "  .colab-df-quickchart:hover {\n",
       "    background-color: var(--hover-bg-color);\n",
       "    box-shadow: 0 1px 2px rgba(60, 64, 67, 0.3), 0 1px 3px 1px rgba(60, 64, 67, 0.15);\n",
       "    fill: var(--button-hover-fill-color);\n",
       "  }\n",
       "\n",
       "  .colab-df-quickchart-complete:disabled,\n",
       "  .colab-df-quickchart-complete:disabled:hover {\n",
       "    background-color: var(--disabled-bg-color);\n",
       "    fill: var(--disabled-fill-color);\n",
       "    box-shadow: none;\n",
       "  }\n",
       "\n",
       "  .colab-df-spinner {\n",
       "    border: 2px solid var(--fill-color);\n",
       "    border-color: transparent;\n",
       "    border-bottom-color: var(--fill-color);\n",
       "    animation:\n",
       "      spin 1s steps(1) infinite;\n",
       "  }\n",
       "\n",
       "  @keyframes spin {\n",
       "    0% {\n",
       "      border-color: transparent;\n",
       "      border-bottom-color: var(--fill-color);\n",
       "      border-left-color: var(--fill-color);\n",
       "    }\n",
       "    20% {\n",
       "      border-color: transparent;\n",
       "      border-left-color: var(--fill-color);\n",
       "      border-top-color: var(--fill-color);\n",
       "    }\n",
       "    30% {\n",
       "      border-color: transparent;\n",
       "      border-left-color: var(--fill-color);\n",
       "      border-top-color: var(--fill-color);\n",
       "      border-right-color: var(--fill-color);\n",
       "    }\n",
       "    40% {\n",
       "      border-color: transparent;\n",
       "      border-right-color: var(--fill-color);\n",
       "      border-top-color: var(--fill-color);\n",
       "    }\n",
       "    60% {\n",
       "      border-color: transparent;\n",
       "      border-right-color: var(--fill-color);\n",
       "    }\n",
       "    80% {\n",
       "      border-color: transparent;\n",
       "      border-right-color: var(--fill-color);\n",
       "      border-bottom-color: var(--fill-color);\n",
       "    }\n",
       "    90% {\n",
       "      border-color: transparent;\n",
       "      border-bottom-color: var(--fill-color);\n",
       "    }\n",
       "  }\n",
       "</style>\n",
       "\n",
       "  <script>\n",
       "    async function quickchart(key) {\n",
       "      const quickchartButtonEl =\n",
       "        document.querySelector('#' + key + ' button');\n",
       "      quickchartButtonEl.disabled = true;  // To prevent multiple clicks.\n",
       "      quickchartButtonEl.classList.add('colab-df-spinner');\n",
       "      try {\n",
       "        const charts = await google.colab.kernel.invokeFunction(\n",
       "            'suggestCharts', [key], {});\n",
       "      } catch (error) {\n",
       "        console.error('Error during call to suggestCharts:', error);\n",
       "      }\n",
       "      quickchartButtonEl.classList.remove('colab-df-spinner');\n",
       "      quickchartButtonEl.classList.add('colab-df-quickchart-complete');\n",
       "    }\n",
       "    (() => {\n",
       "      let quickchartButtonEl =\n",
       "        document.querySelector('#df-31bd1b68-bb39-45b4-9e31-233b7b7d0b75 button');\n",
       "      quickchartButtonEl.style.display =\n",
       "        google.colab.kernel.accessAllowed ? 'block' : 'none';\n",
       "    })();\n",
       "  </script>\n",
       "</div>\n",
       "    </div>\n",
       "  </div>\n"
      ],
      "text/plain": [
       "         value               skewness\n",
       "Weight    1.21      Altamente sesgada\n",
       "Height   -5.38      Altamente sesgada\n",
       "Neck      0.55  Moderadamenta sesgada\n",
       "Chest     0.68  Moderadamenta sesgada\n",
       "Abdomen   0.84  Moderadamenta sesgada\n",
       "Hip       1.50      Altamente sesgada\n",
       "Thigh     0.82  Moderadamenta sesgada\n",
       "Knee      0.52  Moderadamenta sesgada\n",
       "Ankle     2.26      Altamente sesgada"
      ]
     },
     "execution_count": 43,
     "metadata": {},
     "output_type": "execute_result"
    }
   ],
   "source": [
    "skewness[skewness['skewness'] != 'Distribución simétrica']"
   ]
  },
  {
   "cell_type": "code",
   "execution_count": 44,
   "metadata": {
    "executionInfo": {
     "elapsed": 20,
     "status": "ok",
     "timestamp": 1695337236818,
     "user": {
      "displayName": "Judith A. H. R.",
      "userId": "16951681262866800693"
     },
     "user_tz": 360
    },
    "id": "lqXvSHETQZ7w"
   },
   "outputs": [],
   "source": [
    "df_transformed = df[~df.index.isin([41])].copy()\n",
    "\n",
    "# Varias transformaciones\n",
    "df_transformed['Weight'] = np.log(df_transformed['Weight'])\n",
    "df_transformed['Neck'] = np.log(df_transformed['Neck'])\n",
    "df_transformed['Chest'] = np.log(df_transformed['Chest'])\n",
    "df_transformed['Abdomen'] = np.log(df_transformed['Abdomen'])\n",
    "df_transformed['Hip'] = (df_transformed['Hip']) ** (-1)\n",
    "df_transformed['Thigh'] = np.log(df_transformed['Thigh'])\n",
    "df_transformed['Knee'] = np.log(df_transformed['Knee'])\n",
    "df_transformed['Ankle'] = (df_transformed['Ankle']) ** (-2)"
   ]
  },
  {
   "cell_type": "code",
   "execution_count": 45,
   "metadata": {
    "colab": {
     "base_uri": "https://localhost:8080/",
     "height": 53
    },
    "executionInfo": {
     "elapsed": 20,
     "status": "ok",
     "timestamp": 1695337236819,
     "user": {
      "displayName": "Judith A. H. R.",
      "userId": "16951681262866800693"
     },
     "user_tz": 360
    },
    "id": "bOuS1w3KQ5-C",
    "outputId": "b425788d-4f55-43b7-a2e6-1b4b6e592830"
   },
   "outputs": [
    {
     "data": {
      "text/html": [
       "\n",
       "  <div id=\"df-816dd4a2-01a1-4160-9134-ad10a6bf59c9\" class=\"colab-df-container\">\n",
       "    <div>\n",
       "<style scoped>\n",
       "    .dataframe tbody tr th:only-of-type {\n",
       "        vertical-align: middle;\n",
       "    }\n",
       "\n",
       "    .dataframe tbody tr th {\n",
       "        vertical-align: top;\n",
       "    }\n",
       "\n",
       "    .dataframe thead th {\n",
       "        text-align: right;\n",
       "    }\n",
       "</style>\n",
       "<table border=\"1\" class=\"dataframe\">\n",
       "  <thead>\n",
       "    <tr style=\"text-align: right;\">\n",
       "      <th></th>\n",
       "      <th>value</th>\n",
       "      <th>skewness</th>\n",
       "    </tr>\n",
       "  </thead>\n",
       "  <tbody>\n",
       "  </tbody>\n",
       "</table>\n",
       "</div>\n",
       "    <div class=\"colab-df-buttons\">\n",
       "\n",
       "  <div class=\"colab-df-container\">\n",
       "    <button class=\"colab-df-convert\" onclick=\"convertToInteractive('df-816dd4a2-01a1-4160-9134-ad10a6bf59c9')\"\n",
       "            title=\"Convert this dataframe to an interactive table.\"\n",
       "            style=\"display:none;\">\n",
       "\n",
       "  <svg xmlns=\"http://www.w3.org/2000/svg\" height=\"24px\" viewBox=\"0 -960 960 960\">\n",
       "    <path d=\"M120-120v-720h720v720H120Zm60-500h600v-160H180v160Zm220 220h160v-160H400v160Zm0 220h160v-160H400v160ZM180-400h160v-160H180v160Zm440 0h160v-160H620v160ZM180-180h160v-160H180v160Zm440 0h160v-160H620v160Z\"/>\n",
       "  </svg>\n",
       "    </button>\n",
       "\n",
       "  <style>\n",
       "    .colab-df-container {\n",
       "      display:flex;\n",
       "      gap: 12px;\n",
       "    }\n",
       "\n",
       "    .colab-df-convert {\n",
       "      background-color: #E8F0FE;\n",
       "      border: none;\n",
       "      border-radius: 50%;\n",
       "      cursor: pointer;\n",
       "      display: none;\n",
       "      fill: #1967D2;\n",
       "      height: 32px;\n",
       "      padding: 0 0 0 0;\n",
       "      width: 32px;\n",
       "    }\n",
       "\n",
       "    .colab-df-convert:hover {\n",
       "      background-color: #E2EBFA;\n",
       "      box-shadow: 0px 1px 2px rgba(60, 64, 67, 0.3), 0px 1px 3px 1px rgba(60, 64, 67, 0.15);\n",
       "      fill: #174EA6;\n",
       "    }\n",
       "\n",
       "    .colab-df-buttons div {\n",
       "      margin-bottom: 4px;\n",
       "    }\n",
       "\n",
       "    [theme=dark] .colab-df-convert {\n",
       "      background-color: #3B4455;\n",
       "      fill: #D2E3FC;\n",
       "    }\n",
       "\n",
       "    [theme=dark] .colab-df-convert:hover {\n",
       "      background-color: #434B5C;\n",
       "      box-shadow: 0px 1px 3px 1px rgba(0, 0, 0, 0.15);\n",
       "      filter: drop-shadow(0px 1px 2px rgba(0, 0, 0, 0.3));\n",
       "      fill: #FFFFFF;\n",
       "    }\n",
       "  </style>\n",
       "\n",
       "    <script>\n",
       "      const buttonEl =\n",
       "        document.querySelector('#df-816dd4a2-01a1-4160-9134-ad10a6bf59c9 button.colab-df-convert');\n",
       "      buttonEl.style.display =\n",
       "        google.colab.kernel.accessAllowed ? 'block' : 'none';\n",
       "\n",
       "      async function convertToInteractive(key) {\n",
       "        const element = document.querySelector('#df-816dd4a2-01a1-4160-9134-ad10a6bf59c9');\n",
       "        const dataTable =\n",
       "          await google.colab.kernel.invokeFunction('convertToInteractive',\n",
       "                                                    [key], {});\n",
       "        if (!dataTable) return;\n",
       "\n",
       "        const docLinkHtml = 'Like what you see? Visit the ' +\n",
       "          '<a target=\"_blank\" href=https://colab.research.google.com/notebooks/data_table.ipynb>data table notebook</a>'\n",
       "          + ' to learn more about interactive tables.';\n",
       "        element.innerHTML = '';\n",
       "        dataTable['output_type'] = 'display_data';\n",
       "        await google.colab.output.renderOutput(dataTable, element);\n",
       "        const docLink = document.createElement('div');\n",
       "        docLink.innerHTML = docLinkHtml;\n",
       "        element.appendChild(docLink);\n",
       "      }\n",
       "    </script>\n",
       "  </div>\n",
       "\n",
       "    </div>\n",
       "  </div>\n"
      ],
      "text/plain": [
       "Empty DataFrame\n",
       "Columns: [value, skewness]\n",
       "Index: []"
      ]
     },
     "execution_count": 45,
     "metadata": {},
     "output_type": "execute_result"
    }
   ],
   "source": [
    "# Cálculo del sesgo con valores transformados\n",
    "skewness_transformed = round(df_transformed.select_dtypes(exclude=['object']).skew(), 2)\n",
    "skewness_transformed = skewness_transformed.to_frame()\n",
    "skewness_transformed = skewness_transformed.rename(columns={0: \"value\"})\n",
    "\n",
    "skewness_transformed['skewness'] = skewness_transformed.apply(f, axis=1)\n",
    "skewness_transformed[skewness_transformed['skewness'] != 'Distribución simétrica']"
   ]
  },
  {
   "cell_type": "code",
   "execution_count": 46,
   "metadata": {
    "colab": {
     "base_uri": "https://localhost:8080/",
     "height": 677
    },
    "executionInfo": {
     "elapsed": 2975,
     "status": "ok",
     "timestamp": 1695337239776,
     "user": {
      "displayName": "Judith A. H. R.",
      "userId": "16951681262866800693"
     },
     "user_tz": 360
    },
    "id": "vv6YUld3XCpd",
    "outputId": "57730bae-e6f4-4cbf-90e5-7c4f086d1a31"
   },
   "outputs": [
    {
     "data": {
      "image/png": "[encoded data removed]",
      "text/plain": [
       "<Figure size 1500x1000 with 16 Axes>"
      ]
     },
     "metadata": {},
     "output_type": "display_data"
    }
   ],
   "source": [
    "df_transformed.hist(bins=\"auto\", figsize=(15,10))\n",
    "plt.show()"
   ]
  },
  {
   "cell_type": "code",
   "execution_count": 47,
   "metadata": {
    "executionInfo": {
     "elapsed": 24,
     "status": "ok",
     "timestamp": 1695337239777,
     "user": {
      "displayName": "Judith A. H. R.",
      "userId": "16951681262866800693"
     },
     "user_tz": 360
    },
    "id": "7dKgRM6IY-4P"
   },
   "outputs": [],
   "source": [
    "X_transformed =  df_transformed.drop(columns='Weight')\n",
    "y_transformed = df_transformed['Weight']"
   ]
  },
  {
   "cell_type": "markdown",
   "metadata": {
    "id": "AqURCiCs_lqw"
   },
   "source": [
    "### Selección de características"
   ]
  },
  {
   "cell_type": "code",
   "execution_count": 48,
   "metadata": {
    "colab": {
     "base_uri": "https://localhost:8080/"
    },
    "executionInfo": {
     "elapsed": 22,
     "status": "ok",
     "timestamp": 1695337239777,
     "user": {
      "displayName": "Judith A. H. R.",
      "userId": "16951681262866800693"
     },
     "user_tz": 360
    },
    "id": "-ZX-fcv_NYZx",
    "outputId": "0c8ce6c8-30fa-400c-b126-25678a83f59d"
   },
   "outputs": [
    {
     "name": "stdout",
     "output_type": "stream",
     "text": [
      "[ 4  5  6  7  8  9 10 11 12 13]\n"
     ]
    }
   ],
   "source": [
    "# Definir la selección de características\n",
    "fs = SelectKBest(score_func=f_regression, k=10)\n",
    "# Aplicar la selección de características\n",
    "fs.fit(X_deleted, y_deleted)\n",
    "cols_selected_deleted = fs.get_support(indices=True)\n",
    "print(cols_selected_deleted)"
   ]
  },
  {
   "cell_type": "code",
   "execution_count": 49,
   "metadata": {
    "colab": {
     "base_uri": "https://localhost:8080/"
    },
    "executionInfo": {
     "elapsed": 20,
     "status": "ok",
     "timestamp": 1695337239778,
     "user": {
      "displayName": "Judith A. H. R.",
      "userId": "16951681262866800693"
     },
     "user_tz": 360
    },
    "id": "JxbpQTJH9Ja1",
    "outputId": "29339fab-8270-4deb-fa43-0b3e2381c74c"
   },
   "outputs": [
    {
     "name": "stdout",
     "output_type": "stream",
     "text": [
      "[ 4  5  6  7  8  9 10 11 12 13]\n"
     ]
    }
   ],
   "source": [
    "# Definir la selección de características\n",
    "fs = SelectKBest(score_func=f_regression, k=10)\n",
    "# Aplicar la selección de características\n",
    "fs.fit(X_transformed, y_transformed)\n",
    "cols_selected = fs.get_support(indices=True)\n",
    "print(cols_selected)"
   ]
  },
  {
   "cell_type": "code",
   "execution_count": 50,
   "metadata": {
    "colab": {
     "base_uri": "https://localhost:8080/",
     "height": 81
    },
    "executionInfo": {
     "elapsed": 17,
     "status": "ok",
     "timestamp": 1695337239778,
     "user": {
      "displayName": "Judith A. H. R.",
      "userId": "16951681262866800693"
     },
     "user_tz": 360
    },
    "id": "metRpNlybKjt",
    "outputId": "cf18b61e-93f2-417d-c6d2-90a6a8d94393"
   },
   "outputs": [
    {
     "data": {
      "text/html": [
       "\n",
       "  <div id=\"df-753ef62f-a736-4fef-ad1f-7e10742d0ad2\" class=\"colab-df-container\">\n",
       "    <div>\n",
       "<style scoped>\n",
       "    .dataframe tbody tr th:only-of-type {\n",
       "        vertical-align: middle;\n",
       "    }\n",
       "\n",
       "    .dataframe tbody tr th {\n",
       "        vertical-align: top;\n",
       "    }\n",
       "\n",
       "    .dataframe thead th {\n",
       "        text-align: right;\n",
       "    }\n",
       "</style>\n",
       "<table border=\"1\" class=\"dataframe\">\n",
       "  <thead>\n",
       "    <tr style=\"text-align: right;\">\n",
       "      <th></th>\n",
       "      <th>Neck</th>\n",
       "      <th>Chest</th>\n",
       "      <th>Abdomen</th>\n",
       "      <th>Hip</th>\n",
       "      <th>Thigh</th>\n",
       "      <th>Knee</th>\n",
       "      <th>Ankle</th>\n",
       "      <th>Biceps</th>\n",
       "      <th>Forearm</th>\n",
       "      <th>Wrist</th>\n",
       "    </tr>\n",
       "  </thead>\n",
       "  <tbody>\n",
       "    <tr>\n",
       "      <th>Weight</th>\n",
       "      <td>0.824222</td>\n",
       "      <td>0.896701</td>\n",
       "      <td>0.884367</td>\n",
       "      <td>-0.941208</td>\n",
       "      <td>0.869355</td>\n",
       "      <td>0.859505</td>\n",
       "      <td>-0.683506</td>\n",
       "      <td>0.803079</td>\n",
       "      <td>0.662951</td>\n",
       "      <td>0.74364</td>\n",
       "    </tr>\n",
       "  </tbody>\n",
       "</table>\n",
       "</div>\n",
       "    <div class=\"colab-df-buttons\">\n",
       "\n",
       "  <div class=\"colab-df-container\">\n",
       "    <button class=\"colab-df-convert\" onclick=\"convertToInteractive('df-753ef62f-a736-4fef-ad1f-7e10742d0ad2')\"\n",
       "            title=\"Convert this dataframe to an interactive table.\"\n",
       "            style=\"display:none;\">\n",
       "\n",
       "  <svg xmlns=\"http://www.w3.org/2000/svg\" height=\"24px\" viewBox=\"0 -960 960 960\">\n",
       "    <path d=\"M120-120v-720h720v720H120Zm60-500h600v-160H180v160Zm220 220h160v-160H400v160Zm0 220h160v-160H400v160ZM180-400h160v-160H180v160Zm440 0h160v-160H620v160ZM180-180h160v-160H180v160Zm440 0h160v-160H620v160Z\"/>\n",
       "  </svg>\n",
       "    </button>\n",
       "\n",
       "  <style>\n",
       "    .colab-df-container {\n",
       "      display:flex;\n",
       "      gap: 12px;\n",
       "    }\n",
       "\n",
       "    .colab-df-convert {\n",
       "      background-color: #E8F0FE;\n",
       "      border: none;\n",
       "      border-radius: 50%;\n",
       "      cursor: pointer;\n",
       "      display: none;\n",
       "      fill: #1967D2;\n",
       "      height: 32px;\n",
       "      padding: 0 0 0 0;\n",
       "      width: 32px;\n",
       "    }\n",
       "\n",
       "    .colab-df-convert:hover {\n",
       "      background-color: #E2EBFA;\n",
       "      box-shadow: 0px 1px 2px rgba(60, 64, 67, 0.3), 0px 1px 3px 1px rgba(60, 64, 67, 0.15);\n",
       "      fill: #174EA6;\n",
       "    }\n",
       "\n",
       "    .colab-df-buttons div {\n",
       "      margin-bottom: 4px;\n",
       "    }\n",
       "\n",
       "    [theme=dark] .colab-df-convert {\n",
       "      background-color: #3B4455;\n",
       "      fill: #D2E3FC;\n",
       "    }\n",
       "\n",
       "    [theme=dark] .colab-df-convert:hover {\n",
       "      background-color: #434B5C;\n",
       "      box-shadow: 0px 1px 3px 1px rgba(0, 0, 0, 0.15);\n",
       "      filter: drop-shadow(0px 1px 2px rgba(0, 0, 0, 0.3));\n",
       "      fill: #FFFFFF;\n",
       "    }\n",
       "  </style>\n",
       "\n",
       "    <script>\n",
       "      const buttonEl =\n",
       "        document.querySelector('#df-753ef62f-a736-4fef-ad1f-7e10742d0ad2 button.colab-df-convert');\n",
       "      buttonEl.style.display =\n",
       "        google.colab.kernel.accessAllowed ? 'block' : 'none';\n",
       "\n",
       "      async function convertToInteractive(key) {\n",
       "        const element = document.querySelector('#df-753ef62f-a736-4fef-ad1f-7e10742d0ad2');\n",
       "        const dataTable =\n",
       "          await google.colab.kernel.invokeFunction('convertToInteractive',\n",
       "                                                    [key], {});\n",
       "        if (!dataTable) return;\n",
       "\n",
       "        const docLinkHtml = 'Like what you see? Visit the ' +\n",
       "          '<a target=\"_blank\" href=https://colab.research.google.com/notebooks/data_table.ipynb>data table notebook</a>'\n",
       "          + ' to learn more about interactive tables.';\n",
       "        element.innerHTML = '';\n",
       "        dataTable['output_type'] = 'display_data';\n",
       "        await google.colab.output.renderOutput(dataTable, element);\n",
       "        const docLink = document.createElement('div');\n",
       "        docLink.innerHTML = docLinkHtml;\n",
       "        element.appendChild(docLink);\n",
       "      }\n",
       "    </script>\n",
       "  </div>\n",
       "\n",
       "    </div>\n",
       "  </div>\n"
      ],
      "text/plain": [
       "            Neck     Chest   Abdomen       Hip     Thigh      Knee     Ankle  \\\n",
       "Weight  0.824222  0.896701  0.884367 -0.941208  0.869355  0.859505 -0.683506   \n",
       "\n",
       "          Biceps   Forearm    Wrist  \n",
       "Weight  0.803079  0.662951  0.74364  "
      ]
     },
     "execution_count": 50,
     "metadata": {},
     "output_type": "execute_result"
    }
   ],
   "source": [
    "df_transformed.corr()[['Weight']].T.drop(columns='Weight').iloc[:, cols_selected]"
   ]
  },
  {
   "cell_type": "markdown",
   "metadata": {
    "id": "I0hxakLp_O7L"
   },
   "source": [
    "### Dividir los datos en train y test"
   ]
  },
  {
   "cell_type": "markdown",
   "metadata": {
    "id": "WZbX1jiNLwgD"
   },
   "source": [
    "`X1` y `X2` tendrán las 10 características seleccionadas.\n",
    "\n",
    "- `X1` tiene eliminados los datos atípicos de `Ankle` y `Height`.\n",
    "- `X2` tiene eliminado sólo el dato atípico de `Height`."
   ]
  },
  {
   "cell_type": "code",
   "execution_count": 51,
   "metadata": {
    "executionInfo": {
     "elapsed": 16,
     "status": "ok",
     "timestamp": 1695337239779,
     "user": {
      "displayName": "Judith A. H. R.",
      "userId": "16951681262866800693"
     },
     "user_tz": 360
    },
    "id": "1kRufJls_byO"
   },
   "outputs": [],
   "source": [
    "#Dividimos los datos en test y train\n",
    "X1_train, X1_test, y1_train, y1_test = train_test_split(\n",
    "    X_deleted.iloc[:, cols_selected], y_deleted, test_size=0.3, random_state=42)"
   ]
  },
  {
   "cell_type": "code",
   "execution_count": 52,
   "metadata": {
    "executionInfo": {
     "elapsed": 16,
     "status": "ok",
     "timestamp": 1695337239780,
     "user": {
      "displayName": "Judith A. H. R.",
      "userId": "16951681262866800693"
     },
     "user_tz": 360
    },
    "id": "RoQrIWfTfNq9"
   },
   "outputs": [],
   "source": [
    "X2_train, X2_test, y2_train, y2_test = train_test_split(\n",
    "    X_transformed.iloc[:, cols_selected], y_transformed, test_size=0.3, random_state=42)"
   ]
  },
  {
   "cell_type": "markdown",
   "metadata": {
    "id": "usevMAkHL4pk"
   },
   "source": [
    "`X3` y `X4` tendrán 8 características, ya que se retirarán las dos con más alta correlación con alguna otra característica.\n",
    "\n",
    "- `X3` tiene eliminados los datos atípicos de `Ankle` y `Height`.\n",
    "- `X4` tiene eliminado sólo el dato atípico de `Height`."
   ]
  },
  {
   "cell_type": "code",
   "execution_count": null,
   "metadata": {
    "id": "Sq9c5CEYnoZp"
   },
   "outputs": [],
   "source": [
    "X3_train, X3_test, y3_train, y3_test = train_test_split(\n",
    "    X_deleted.iloc[:, cols_selected].drop(columns=['Chest', 'Thigh']),\n",
    "    y_deleted.drop(columns=['Chest', 'Thigh']),\n",
    "    test_size=0.3, random_state=42)"
   ]
  },
  {
   "cell_type": "code",
   "execution_count": null,
   "metadata": {
    "id": "5BhrYQxRnoZr"
   },
   "outputs": [],
   "source": [
    "X4_train, X4_test, y4_train, y4_test = train_test_split(\n",
    "    X_transformed.iloc[:, cols_selected].drop(columns=['Chest', 'Thigh']),\n",
    "    y_transformed.drop(columns=['Chest', 'Thigh']),\n",
    "    test_size=0.3, random_state=42)"
   ]
  },
  {
   "cell_type": "markdown",
   "metadata": {
    "id": "47WFveYF_cVa"
   },
   "source": [
    "### Escalar los datos conforme a los datos de entrenamiento"
   ]
  },
  {
   "cell_type": "code",
   "execution_count": 53,
   "metadata": {
    "executionInfo": {
     "elapsed": 7,
     "status": "ok",
     "timestamp": 1695337240001,
     "user": {
      "displayName": "Judith A. H. R.",
      "userId": "16951681262866800693"
     },
     "user_tz": 360
    },
    "id": "pv58eDH4_i4-"
   },
   "outputs": [],
   "source": [
    "StandardScaler = preprocessing.StandardScaler\n",
    "scaler = StandardScaler()"
   ]
  },
  {
   "cell_type": "code",
   "execution_count": null,
   "metadata": {
    "id": "TAWEGAdFf_rE"
   },
   "outputs": [],
   "source": [
    "X1_train = scaler.fit_transform(X1_train)\n",
    "X1_test = scaler.transform(X1_test)\n",
    "y1_train = scaler.fit_transform(y1_train.ravel().reshape(-1, 1))\n",
    "y1_test = scaler.transform(y1_test.ravel().reshape(-1, 1))"
   ]
  },
  {
   "cell_type": "code",
   "execution_count": null,
   "metadata": {
    "id": "dB9A5sTfgtwN"
   },
   "outputs": [],
   "source": [
    "X2_train = scaler.fit_transform(X2_train)\n",
    "X2_test = scaler.transform(X2_test)\n",
    "y2_train = scaler.fit_transform(y2_train.ravel().reshape(-1, 1))\n",
    "y2_test = scaler.transform(y2_test.ravel().reshape(-1, 1))"
   ]
  },
  {
   "cell_type": "code",
   "execution_count": null,
   "metadata": {
    "id": "foCAWYhfoSbE"
   },
   "outputs": [],
   "source": [
    "X3_train = scaler.fit_transform(X3_train)\n",
    "X3_test = scaler.transform(X3_test)\n",
    "y3_train = scaler.fit_transform(y3_train.ravel().reshape(-1, 1))\n",
    "y3_test = scaler.transform(y3_test.ravel().reshape(-1, 1))"
   ]
  },
  {
   "cell_type": "code",
   "execution_count": null,
   "metadata": {
    "id": "jm_v_9c2oR5Q"
   },
   "outputs": [],
   "source": [
    "X4_train = scaler.fit_transform(X4_train)\n",
    "X4_test = scaler.transform(X4_test)\n",
    "y4_train = scaler.fit_transform(y4_train.ravel().reshape(-1, 1))\n",
    "y4_test = scaler.transform(y4_test.ravel().reshape(-1, 1))"
   ]
  },
  {
   "cell_type": "markdown",
   "metadata": {
    "id": "GEZ9zyV3lK43"
   },
   "source": [
    "## Modelado: Definición de una red neuronal"
   ]
  },
  {
   "cell_type": "markdown",
   "metadata": {
    "id": "z_Ii6jD6lY2g"
   },
   "source": [
    "### Implementación"
   ]
  },
  {
   "cell_type": "code",
   "execution_count": null,
   "metadata": {
    "id": "LWdsrhGvR73k"
   },
   "outputs": [],
   "source": [
    "evaluacion = dict()"
   ]
  },
  {
   "cell_type": "markdown",
   "metadata": {
    "id": "Ac68hQOOmc1T"
   },
   "source": [
    "#### Modelo 1"
   ]
  },
  {
   "cell_type": "code",
   "execution_count": null,
   "metadata": {
    "colab": {
     "base_uri": "https://localhost:8080/"
    },
    "executionInfo": {
     "elapsed": 12,
     "status": "ok",
     "timestamp": 1695078885876,
     "user": {
      "displayName": "Judith A. H. R.",
      "userId": "16951681262866800693"
     },
     "user_tz": 360
    },
    "id": "Vdn13oi3HQ2P",
    "outputId": "ca8fa614-7b5a-4fde-fb8e-c990daf58008"
   },
   "outputs": [
    {
     "name": "stdout",
     "output_type": "stream",
     "text": [
      "Model: \"sequential_26\"\n",
      "_________________________________________________________________\n",
      " Layer (type)                Output Shape              Param #   \n",
      "=================================================================\n",
      " capa-1 (Dense)              (None, 70)                770       \n",
      "                                                                 \n",
      " capa-2 (Dense)              (None, 35)                2485      \n",
      "                                                                 \n",
      " capa-3 (Dense)              (None, 1)                 36        \n",
      "                                                                 \n",
      "=================================================================\n",
      "Total params: 3291 (12.86 KB)\n",
      "Trainable params: 3291 (12.86 KB)\n",
      "Non-trainable params: 0 (0.00 Byte)\n",
      "_________________________________________________________________\n"
     ]
    }
   ],
   "source": [
    "model01 = Sequential([\n",
    "    Input(shape=(X1_train.shape[1],)),\n",
    "    Dense(70, name=\"capa-1\"),\n",
    "    Dense(35, activation='relu', name=\"capa-2\"),\n",
    "    Dense(1, name=\"capa-3\")\n",
    "    ])\n",
    "\n",
    "model01.summary()"
   ]
  },
  {
   "cell_type": "code",
   "execution_count": null,
   "metadata": {
    "id": "JL7wOSRpkWtt"
   },
   "outputs": [],
   "source": [
    "model01.compile(optimizer='sgd', loss='mean_squared_error')"
   ]
  },
  {
   "cell_type": "code",
   "execution_count": null,
   "metadata": {
    "colab": {
     "base_uri": "https://localhost:8080/"
    },
    "executionInfo": {
     "elapsed": 5762,
     "status": "ok",
     "timestamp": 1695078891632,
     "user": {
      "displayName": "Judith A. H. R.",
      "userId": "16951681262866800693"
     },
     "user_tz": 360
    },
    "id": "LfZJ_iH2itLr",
    "outputId": "f34f7c5e-cfe0-46ed-8e32-1afe3bb2190d"
   },
   "outputs": [
    {
     "name": "stdout",
     "output_type": "stream",
     "text": [
      "Epoch 1/100\n",
      "9/9 [==============================] - 0s 4ms/step - loss: 0.2228\n",
      "Epoch 2/100\n",
      "9/9 [==============================] - 0s 3ms/step - loss: 0.1023\n",
      "Epoch 3/100\n",
      "9/9 [==============================] - 0s 2ms/step - loss: 0.0892\n",
      "Epoch 4/100\n",
      "9/9 [==============================] - 0s 3ms/step - loss: 0.0807\n",
      "Epoch 5/100\n",
      "9/9 [==============================] - 0s 3ms/step - loss: 0.0743\n",
      "Epoch 6/100\n",
      "9/9 [==============================] - 0s 3ms/step - loss: 0.0702\n",
      "Epoch 7/100\n",
      "9/9 [==============================] - 0s 3ms/step - loss: 0.0649\n",
      "Epoch 8/100\n",
      "9/9 [==============================] - 0s 3ms/step - loss: 0.0631\n",
      "Epoch 9/100\n",
      "9/9 [==============================] - 0s 3ms/step - loss: 0.0600\n",
      "Epoch 10/100\n",
      "9/9 [==============================] - 0s 3ms/step - loss: 0.0577\n",
      "Epoch 11/100\n",
      "9/9 [==============================] - 0s 2ms/step - loss: 0.0559\n",
      "Epoch 12/100\n",
      "9/9 [==============================] - 0s 4ms/step - loss: 0.0550\n",
      "Epoch 13/100\n",
      "9/9 [==============================] - 0s 4ms/step - loss: 0.0536\n",
      "Epoch 14/100\n",
      "9/9 [==============================] - 0s 4ms/step - loss: 0.0518\n",
      "Epoch 15/100\n",
      "9/9 [==============================] - 0s 4ms/step - loss: 0.0513\n",
      "Epoch 16/100\n",
      "9/9 [==============================] - 0s 3ms/step - loss: 0.0504\n",
      "Epoch 17/100\n",
      "9/9 [==============================] - 0s 4ms/step - loss: 0.0493\n",
      "Epoch 18/100\n",
      "9/9 [==============================] - 0s 4ms/step - loss: 0.0482\n",
      "Epoch 19/100\n",
      "9/9 [==============================] - 0s 5ms/step - loss: 0.0491\n",
      "Epoch 20/100\n",
      "9/9 [==============================] - 0s 4ms/step - loss: 0.0465\n",
      "Epoch 21/100\n",
      "9/9 [==============================] - 0s 4ms/step - loss: 0.0464\n",
      "Epoch 22/100\n",
      "9/9 [==============================] - 0s 4ms/step - loss: 0.0455\n",
      "Epoch 23/100\n",
      "9/9 [==============================] - 0s 3ms/step - loss: 0.0449\n",
      "Epoch 24/100\n",
      "9/9 [==============================] - 0s 4ms/step - loss: 0.0446\n",
      "Epoch 25/100\n",
      "9/9 [==============================] - 0s 4ms/step - loss: 0.0448\n",
      "Epoch 26/100\n",
      "9/9 [==============================] - 0s 4ms/step - loss: 0.0437\n",
      "Epoch 27/100\n",
      "9/9 [==============================] - 0s 4ms/step - loss: 0.0435\n",
      "Epoch 28/100\n",
      "9/9 [==============================] - 0s 4ms/step - loss: 0.0428\n",
      "Epoch 29/100\n",
      "9/9 [==============================] - 0s 3ms/step - loss: 0.0424\n",
      "Epoch 30/100\n",
      "9/9 [==============================] - 0s 3ms/step - loss: 0.0419\n",
      "Epoch 31/100\n",
      "9/9 [==============================] - 0s 3ms/step - loss: 0.0415\n",
      "Epoch 32/100\n",
      "9/9 [==============================] - 0s 3ms/step - loss: 0.0408\n",
      "Epoch 33/100\n",
      "9/9 [==============================] - 0s 3ms/step - loss: 0.0415\n",
      "Epoch 34/100\n",
      "9/9 [==============================] - 0s 3ms/step - loss: 0.0408\n",
      "Epoch 35/100\n",
      "9/9 [==============================] - 0s 3ms/step - loss: 0.0400\n",
      "Epoch 36/100\n",
      "9/9 [==============================] - 0s 3ms/step - loss: 0.0397\n",
      "Epoch 37/100\n",
      "9/9 [==============================] - 0s 3ms/step - loss: 0.0406\n",
      "Epoch 38/100\n",
      "9/9 [==============================] - 0s 3ms/step - loss: 0.0396\n",
      "Epoch 39/100\n",
      "9/9 [==============================] - 0s 3ms/step - loss: 0.0392\n",
      "Epoch 40/100\n",
      "9/9 [==============================] - 0s 3ms/step - loss: 0.0389\n",
      "Epoch 41/100\n",
      "9/9 [==============================] - 0s 3ms/step - loss: 0.0389\n",
      "Epoch 42/100\n",
      "9/9 [==============================] - 0s 3ms/step - loss: 0.0390\n",
      "Epoch 43/100\n",
      "9/9 [==============================] - 0s 3ms/step - loss: 0.0382\n",
      "Epoch 44/100\n",
      "9/9 [==============================] - 0s 3ms/step - loss: 0.0383\n",
      "Epoch 45/100\n",
      "9/9 [==============================] - 0s 3ms/step - loss: 0.0379\n",
      "Epoch 46/100\n",
      "9/9 [==============================] - 0s 3ms/step - loss: 0.0389\n",
      "Epoch 47/100\n",
      "9/9 [==============================] - 0s 3ms/step - loss: 0.0377\n",
      "Epoch 48/100\n",
      "9/9 [==============================] - 0s 3ms/step - loss: 0.0378\n",
      "Epoch 49/100\n",
      "9/9 [==============================] - 0s 3ms/step - loss: 0.0374\n",
      "Epoch 50/100\n",
      "9/9 [==============================] - 0s 3ms/step - loss: 0.0367\n",
      "Epoch 51/100\n",
      "9/9 [==============================] - 0s 3ms/step - loss: 0.0368\n",
      "Epoch 52/100\n",
      "9/9 [==============================] - 0s 3ms/step - loss: 0.0368\n",
      "Epoch 53/100\n",
      "9/9 [==============================] - 0s 3ms/step - loss: 0.0365\n",
      "Epoch 54/100\n",
      "9/9 [==============================] - 0s 2ms/step - loss: 0.0365\n",
      "Epoch 55/100\n",
      "9/9 [==============================] - 0s 3ms/step - loss: 0.0361\n",
      "Epoch 56/100\n",
      "9/9 [==============================] - 0s 3ms/step - loss: 0.0363\n",
      "Epoch 57/100\n",
      "9/9 [==============================] - 0s 2ms/step - loss: 0.0356\n",
      "Epoch 58/100\n",
      "9/9 [==============================] - 0s 2ms/step - loss: 0.0355\n",
      "Epoch 59/100\n",
      "9/9 [==============================] - 0s 4ms/step - loss: 0.0363\n",
      "Epoch 60/100\n",
      "9/9 [==============================] - 0s 3ms/step - loss: 0.0358\n",
      "Epoch 61/100\n",
      "9/9 [==============================] - 0s 3ms/step - loss: 0.0362\n",
      "Epoch 62/100\n",
      "9/9 [==============================] - 0s 3ms/step - loss: 0.0354\n",
      "Epoch 63/100\n",
      "9/9 [==============================] - 0s 3ms/step - loss: 0.0346\n",
      "Epoch 64/100\n",
      "9/9 [==============================] - 0s 3ms/step - loss: 0.0346\n",
      "Epoch 65/100\n",
      "9/9 [==============================] - 0s 3ms/step - loss: 0.0346\n",
      "Epoch 66/100\n",
      "9/9 [==============================] - 0s 3ms/step - loss: 0.0346\n",
      "Epoch 67/100\n",
      "9/9 [==============================] - 0s 3ms/step - loss: 0.0342\n",
      "Epoch 68/100\n",
      "9/9 [==============================] - 0s 4ms/step - loss: 0.0338\n",
      "Epoch 69/100\n",
      "9/9 [==============================] - 0s 3ms/step - loss: 0.0339\n",
      "Epoch 70/100\n",
      "9/9 [==============================] - 0s 3ms/step - loss: 0.0346\n",
      "Epoch 71/100\n",
      "9/9 [==============================] - 0s 3ms/step - loss: 0.0336\n",
      "Epoch 72/100\n",
      "9/9 [==============================] - 0s 3ms/step - loss: 0.0337\n",
      "Epoch 73/100\n",
      "9/9 [==============================] - 0s 3ms/step - loss: 0.0335\n",
      "Epoch 74/100\n",
      "9/9 [==============================] - 0s 4ms/step - loss: 0.0334\n",
      "Epoch 75/100\n",
      "9/9 [==============================] - 0s 3ms/step - loss: 0.0336\n",
      "Epoch 76/100\n",
      "9/9 [==============================] - 0s 3ms/step - loss: 0.0337\n",
      "Epoch 77/100\n",
      "9/9 [==============================] - 0s 3ms/step - loss: 0.0337\n",
      "Epoch 78/100\n",
      "9/9 [==============================] - 0s 3ms/step - loss: 0.0333\n",
      "Epoch 79/100\n",
      "9/9 [==============================] - 0s 4ms/step - loss: 0.0332\n",
      "Epoch 80/100\n",
      "9/9 [==============================] - 0s 3ms/step - loss: 0.0332\n",
      "Epoch 81/100\n",
      "9/9 [==============================] - 0s 3ms/step - loss: 0.0327\n",
      "Epoch 82/100\n",
      "9/9 [==============================] - 0s 3ms/step - loss: 0.0325\n",
      "Epoch 83/100\n",
      "9/9 [==============================] - 0s 3ms/step - loss: 0.0331\n",
      "Epoch 84/100\n",
      "9/9 [==============================] - 0s 3ms/step - loss: 0.0325\n",
      "Epoch 85/100\n",
      "9/9 [==============================] - 0s 3ms/step - loss: 0.0329\n",
      "Epoch 86/100\n",
      "9/9 [==============================] - 0s 3ms/step - loss: 0.0322\n",
      "Epoch 87/100\n",
      "9/9 [==============================] - 0s 3ms/step - loss: 0.0326\n",
      "Epoch 88/100\n",
      "9/9 [==============================] - 0s 3ms/step - loss: 0.0323\n",
      "Epoch 89/100\n",
      "9/9 [==============================] - 0s 3ms/step - loss: 0.0325\n",
      "Epoch 90/100\n",
      "9/9 [==============================] - 0s 3ms/step - loss: 0.0322\n",
      "Epoch 91/100\n",
      "9/9 [==============================] - 0s 3ms/step - loss: 0.0326\n",
      "Epoch 92/100\n",
      "9/9 [==============================] - 0s 5ms/step - loss: 0.0323\n",
      "Epoch 93/100\n",
      "9/9 [==============================] - 0s 4ms/step - loss: 0.0316\n",
      "Epoch 94/100\n",
      "9/9 [==============================] - 0s 3ms/step - loss: 0.0317\n",
      "Epoch 95/100\n",
      "9/9 [==============================] - 0s 3ms/step - loss: 0.0321\n",
      "Epoch 96/100\n",
      "9/9 [==============================] - 0s 3ms/step - loss: 0.0322\n",
      "Epoch 97/100\n",
      "9/9 [==============================] - 0s 3ms/step - loss: 0.0322\n",
      "Epoch 98/100\n",
      "9/9 [==============================] - 0s 3ms/step - loss: 0.0317\n",
      "Epoch 99/100\n",
      "9/9 [==============================] - 0s 3ms/step - loss: 0.0313\n",
      "Epoch 100/100\n",
      "9/9 [==============================] - 0s 3ms/step - loss: 0.0315\n"
     ]
    },
    {
     "data": {
      "text/plain": [
       "<keras.src.callbacks.History at 0x7fb88ae8c220>"
      ]
     },
     "execution_count": 179,
     "metadata": {},
     "output_type": "execute_result"
    }
   ],
   "source": [
    "model01.fit(X1_train, y1_train, epochs=100, batch_size=20)"
   ]
  },
  {
   "cell_type": "code",
   "execution_count": null,
   "metadata": {
    "colab": {
     "base_uri": "https://localhost:8080/"
    },
    "executionInfo": {
     "elapsed": 236,
     "status": "ok",
     "timestamp": 1695078891847,
     "user": {
      "displayName": "Judith A. H. R.",
      "userId": "16951681262866800693"
     },
     "user_tz": 360
    },
    "id": "JXNLeU8njm3l",
    "outputId": "dfac525f-fe42-48bb-d367-aa75180887d9"
   },
   "outputs": [
    {
     "name": "stdout",
     "output_type": "stream",
     "text": [
      "7/7 [==============================] - 0s 2ms/step - loss: 0.0625\n"
     ]
    }
   ],
   "source": [
    "evaluacion['model01'] = model01.evaluate(X1_test, y1_test, batch_size=12)"
   ]
  },
  {
   "cell_type": "markdown",
   "metadata": {
    "id": "CX4s4ZEgmmE9"
   },
   "source": [
    "#### Modelo 2"
   ]
  },
  {
   "cell_type": "code",
   "execution_count": null,
   "metadata": {
    "colab": {
     "base_uri": "https://localhost:8080/"
    },
    "executionInfo": {
     "elapsed": 8,
     "status": "ok",
     "timestamp": 1695078891847,
     "user": {
      "displayName": "Judith A. H. R.",
      "userId": "16951681262866800693"
     },
     "user_tz": 360
    },
    "id": "QlfrGbUUkh2-",
    "outputId": "00e48213-5dcc-46a8-806b-772a8bca3bff"
   },
   "outputs": [
    {
     "name": "stdout",
     "output_type": "stream",
     "text": [
      "Model: \"sequential_27\"\n",
      "_________________________________________________________________\n",
      " Layer (type)                Output Shape              Param #   \n",
      "=================================================================\n",
      " capa-1 (Dense)              (None, 70)                770       \n",
      "                                                                 \n",
      " capa-2 (Dense)              (None, 35)                2485      \n",
      "                                                                 \n",
      " capa-3 (Dense)              (None, 1)                 36        \n",
      "                                                                 \n",
      "=================================================================\n",
      "Total params: 3291 (12.86 KB)\n",
      "Trainable params: 3291 (12.86 KB)\n",
      "Non-trainable params: 0 (0.00 Byte)\n",
      "_________________________________________________________________\n"
     ]
    }
   ],
   "source": [
    "model02 = Sequential([\n",
    "    Input(shape=(X2_train.shape[1],)),\n",
    "    Dense(70, name=\"capa-1\"),\n",
    "    Dense(35, activation='relu', name=\"capa-2\"),\n",
    "    Dense(1, name=\"capa-3\")\n",
    "    ])\n",
    "\n",
    "model02.summary()"
   ]
  },
  {
   "cell_type": "code",
   "execution_count": null,
   "metadata": {
    "id": "t1ZcGIaokh3B"
   },
   "outputs": [],
   "source": [
    "model02.compile(optimizer='sgd', loss='mean_squared_error')"
   ]
  },
  {
   "cell_type": "code",
   "execution_count": null,
   "metadata": {
    "colab": {
     "base_uri": "https://localhost:8080/"
    },
    "executionInfo": {
     "elapsed": 5695,
     "status": "ok",
     "timestamp": 1695078897539,
     "user": {
      "displayName": "Judith A. H. R.",
      "userId": "16951681262866800693"
     },
     "user_tz": 360
    },
    "id": "4VSupIiukh3C",
    "outputId": "03756872-b6a4-453e-fd29-7a8e1f7a1562"
   },
   "outputs": [
    {
     "name": "stdout",
     "output_type": "stream",
     "text": [
      "Epoch 1/100\n",
      "9/9 [==============================] - 0s 3ms/step - loss: 0.4155\n",
      "Epoch 2/100\n",
      "9/9 [==============================] - 0s 2ms/step - loss: 0.0872\n",
      "Epoch 3/100\n",
      "9/9 [==============================] - 0s 2ms/step - loss: 0.0741\n",
      "Epoch 4/100\n",
      "9/9 [==============================] - 0s 2ms/step - loss: 0.0694\n",
      "Epoch 5/100\n",
      "9/9 [==============================] - 0s 3ms/step - loss: 0.0656\n",
      "Epoch 6/100\n",
      "9/9 [==============================] - 0s 2ms/step - loss: 0.0632\n",
      "Epoch 7/100\n",
      "9/9 [==============================] - 0s 2ms/step - loss: 0.0604\n",
      "Epoch 8/100\n",
      "9/9 [==============================] - 0s 2ms/step - loss: 0.0585\n",
      "Epoch 9/100\n",
      "9/9 [==============================] - 0s 2ms/step - loss: 0.0563\n",
      "Epoch 10/100\n",
      "9/9 [==============================] - 0s 3ms/step - loss: 0.0551\n",
      "Epoch 11/100\n",
      "9/9 [==============================] - 0s 3ms/step - loss: 0.0532\n",
      "Epoch 12/100\n",
      "9/9 [==============================] - 0s 2ms/step - loss: 0.0526\n",
      "Epoch 13/100\n",
      "9/9 [==============================] - 0s 3ms/step - loss: 0.0511\n",
      "Epoch 14/100\n",
      "9/9 [==============================] - 0s 2ms/step - loss: 0.0504\n",
      "Epoch 15/100\n",
      "9/9 [==============================] - 0s 2ms/step - loss: 0.0489\n",
      "Epoch 16/100\n",
      "9/9 [==============================] - 0s 2ms/step - loss: 0.0484\n",
      "Epoch 17/100\n",
      "9/9 [==============================] - 0s 2ms/step - loss: 0.0474\n",
      "Epoch 18/100\n",
      "9/9 [==============================] - 0s 2ms/step - loss: 0.0465\n",
      "Epoch 19/100\n",
      "9/9 [==============================] - 0s 2ms/step - loss: 0.0468\n",
      "Epoch 20/100\n",
      "9/9 [==============================] - 0s 3ms/step - loss: 0.0453\n",
      "Epoch 21/100\n",
      "9/9 [==============================] - 0s 2ms/step - loss: 0.0451\n",
      "Epoch 22/100\n",
      "9/9 [==============================] - 0s 2ms/step - loss: 0.0448\n",
      "Epoch 23/100\n",
      "9/9 [==============================] - 0s 2ms/step - loss: 0.0440\n",
      "Epoch 24/100\n",
      "9/9 [==============================] - 0s 3ms/step - loss: 0.0432\n",
      "Epoch 25/100\n",
      "9/9 [==============================] - 0s 2ms/step - loss: 0.0431\n",
      "Epoch 26/100\n",
      "9/9 [==============================] - 0s 3ms/step - loss: 0.0427\n",
      "Epoch 27/100\n",
      "9/9 [==============================] - 0s 2ms/step - loss: 0.0420\n",
      "Epoch 28/100\n",
      "9/9 [==============================] - 0s 2ms/step - loss: 0.0422\n",
      "Epoch 29/100\n",
      "9/9 [==============================] - 0s 2ms/step - loss: 0.0416\n",
      "Epoch 30/100\n",
      "9/9 [==============================] - 0s 3ms/step - loss: 0.0412\n",
      "Epoch 31/100\n",
      "9/9 [==============================] - 0s 2ms/step - loss: 0.0407\n",
      "Epoch 32/100\n",
      "9/9 [==============================] - 0s 2ms/step - loss: 0.0403\n",
      "Epoch 33/100\n",
      "9/9 [==============================] - 0s 2ms/step - loss: 0.0402\n",
      "Epoch 34/100\n",
      "9/9 [==============================] - 0s 2ms/step - loss: 0.0397\n",
      "Epoch 35/100\n",
      "9/9 [==============================] - 0s 3ms/step - loss: 0.0395\n",
      "Epoch 36/100\n",
      "9/9 [==============================] - 0s 2ms/step - loss: 0.0393\n",
      "Epoch 37/100\n",
      "9/9 [==============================] - 0s 3ms/step - loss: 0.0390\n",
      "Epoch 38/100\n",
      "9/9 [==============================] - 0s 2ms/step - loss: 0.0383\n",
      "Epoch 39/100\n",
      "9/9 [==============================] - 0s 2ms/step - loss: 0.0383\n",
      "Epoch 40/100\n",
      "9/9 [==============================] - 0s 2ms/step - loss: 0.0382\n",
      "Epoch 41/100\n",
      "9/9 [==============================] - 0s 2ms/step - loss: 0.0385\n",
      "Epoch 42/100\n",
      "9/9 [==============================] - 0s 2ms/step - loss: 0.0374\n",
      "Epoch 43/100\n",
      "9/9 [==============================] - 0s 2ms/step - loss: 0.0375\n",
      "Epoch 44/100\n",
      "9/9 [==============================] - 0s 3ms/step - loss: 0.0372\n",
      "Epoch 45/100\n",
      "9/9 [==============================] - 0s 3ms/step - loss: 0.0371\n",
      "Epoch 46/100\n",
      "9/9 [==============================] - 0s 3ms/step - loss: 0.0369\n",
      "Epoch 47/100\n",
      "9/9 [==============================] - 0s 3ms/step - loss: 0.0365\n",
      "Epoch 48/100\n",
      "9/9 [==============================] - 0s 3ms/step - loss: 0.0363\n",
      "Epoch 49/100\n",
      "9/9 [==============================] - 0s 3ms/step - loss: 0.0365\n",
      "Epoch 50/100\n",
      "9/9 [==============================] - 0s 2ms/step - loss: 0.0360\n",
      "Epoch 51/100\n",
      "9/9 [==============================] - 0s 2ms/step - loss: 0.0360\n",
      "Epoch 52/100\n",
      "9/9 [==============================] - 0s 2ms/step - loss: 0.0359\n",
      "Epoch 53/100\n",
      "9/9 [==============================] - 0s 2ms/step - loss: 0.0358\n",
      "Epoch 54/100\n",
      "9/9 [==============================] - 0s 3ms/step - loss: 0.0354\n",
      "Epoch 55/100\n",
      "9/9 [==============================] - 0s 3ms/step - loss: 0.0351\n",
      "Epoch 56/100\n",
      "9/9 [==============================] - 0s 4ms/step - loss: 0.0353\n",
      "Epoch 57/100\n",
      "9/9 [==============================] - 0s 2ms/step - loss: 0.0350\n",
      "Epoch 58/100\n",
      "9/9 [==============================] - 0s 2ms/step - loss: 0.0346\n",
      "Epoch 59/100\n",
      "9/9 [==============================] - 0s 3ms/step - loss: 0.0352\n",
      "Epoch 60/100\n",
      "9/9 [==============================] - 0s 2ms/step - loss: 0.0353\n",
      "Epoch 61/100\n",
      "9/9 [==============================] - 0s 3ms/step - loss: 0.0347\n",
      "Epoch 62/100\n",
      "9/9 [==============================] - 0s 2ms/step - loss: 0.0342\n",
      "Epoch 63/100\n",
      "9/9 [==============================] - 0s 2ms/step - loss: 0.0345\n",
      "Epoch 64/100\n",
      "9/9 [==============================] - 0s 3ms/step - loss: 0.0342\n",
      "Epoch 65/100\n",
      "9/9 [==============================] - 0s 4ms/step - loss: 0.0341\n",
      "Epoch 66/100\n",
      "9/9 [==============================] - 0s 2ms/step - loss: 0.0344\n",
      "Epoch 67/100\n",
      "9/9 [==============================] - 0s 2ms/step - loss: 0.0340\n",
      "Epoch 68/100\n",
      "9/9 [==============================] - 0s 3ms/step - loss: 0.0337\n",
      "Epoch 69/100\n",
      "9/9 [==============================] - 0s 2ms/step - loss: 0.0332\n",
      "Epoch 70/100\n",
      "9/9 [==============================] - 0s 2ms/step - loss: 0.0333\n",
      "Epoch 71/100\n",
      "9/9 [==============================] - 0s 3ms/step - loss: 0.0333\n",
      "Epoch 72/100\n",
      "9/9 [==============================] - 0s 2ms/step - loss: 0.0333\n",
      "Epoch 73/100\n",
      "9/9 [==============================] - 0s 2ms/step - loss: 0.0333\n",
      "Epoch 74/100\n",
      "9/9 [==============================] - 0s 2ms/step - loss: 0.0331\n",
      "Epoch 75/100\n",
      "9/9 [==============================] - 0s 2ms/step - loss: 0.0329\n",
      "Epoch 76/100\n",
      "9/9 [==============================] - 0s 2ms/step - loss: 0.0328\n",
      "Epoch 77/100\n",
      "9/9 [==============================] - 0s 3ms/step - loss: 0.0327\n",
      "Epoch 78/100\n",
      "9/9 [==============================] - 0s 4ms/step - loss: 0.0328\n",
      "Epoch 79/100\n",
      "9/9 [==============================] - 0s 3ms/step - loss: 0.0326\n",
      "Epoch 80/100\n",
      "9/9 [==============================] - 0s 2ms/step - loss: 0.0324\n",
      "Epoch 81/100\n",
      "9/9 [==============================] - 0s 2ms/step - loss: 0.0327\n",
      "Epoch 82/100\n",
      "9/9 [==============================] - 0s 2ms/step - loss: 0.0321\n",
      "Epoch 83/100\n",
      "9/9 [==============================] - 0s 2ms/step - loss: 0.0327\n",
      "Epoch 84/100\n",
      "9/9 [==============================] - 0s 3ms/step - loss: 0.0323\n",
      "Epoch 85/100\n",
      "9/9 [==============================] - 0s 2ms/step - loss: 0.0318\n",
      "Epoch 86/100\n",
      "9/9 [==============================] - 0s 3ms/step - loss: 0.0323\n",
      "Epoch 87/100\n",
      "9/9 [==============================] - 0s 3ms/step - loss: 0.0321\n",
      "Epoch 88/100\n",
      "9/9 [==============================] - 0s 2ms/step - loss: 0.0319\n",
      "Epoch 89/100\n",
      "9/9 [==============================] - 0s 2ms/step - loss: 0.0317\n",
      "Epoch 90/100\n",
      "9/9 [==============================] - 0s 3ms/step - loss: 0.0318\n",
      "Epoch 91/100\n",
      "9/9 [==============================] - 0s 3ms/step - loss: 0.0315\n",
      "Epoch 92/100\n",
      "9/9 [==============================] - 0s 3ms/step - loss: 0.0319\n",
      "Epoch 93/100\n",
      "9/9 [==============================] - 0s 3ms/step - loss: 0.0315\n",
      "Epoch 94/100\n",
      "9/9 [==============================] - 0s 2ms/step - loss: 0.0317\n",
      "Epoch 95/100\n",
      "9/9 [==============================] - 0s 2ms/step - loss: 0.0314\n",
      "Epoch 96/100\n",
      "9/9 [==============================] - 0s 3ms/step - loss: 0.0313\n",
      "Epoch 97/100\n",
      "9/9 [==============================] - 0s 2ms/step - loss: 0.0312\n",
      "Epoch 98/100\n",
      "9/9 [==============================] - 0s 2ms/step - loss: 0.0311\n",
      "Epoch 99/100\n",
      "9/9 [==============================] - 0s 2ms/step - loss: 0.0315\n",
      "Epoch 100/100\n",
      "9/9 [==============================] - 0s 2ms/step - loss: 0.0312\n"
     ]
    },
    {
     "data": {
      "text/plain": [
       "<keras.src.callbacks.History at 0x7fb88c6a8880>"
      ]
     },
     "execution_count": 183,
     "metadata": {},
     "output_type": "execute_result"
    }
   ],
   "source": [
    "model02.fit(X2_train, y2_train, epochs=100, batch_size=20)"
   ]
  },
  {
   "cell_type": "code",
   "execution_count": null,
   "metadata": {
    "colab": {
     "base_uri": "https://localhost:8080/"
    },
    "executionInfo": {
     "elapsed": 269,
     "status": "ok",
     "timestamp": 1695078897798,
     "user": {
      "displayName": "Judith A. H. R.",
      "userId": "16951681262866800693"
     },
     "user_tz": 360
    },
    "id": "CZQ-vnjXkh3D",
    "outputId": "56992f09-61d1-42f2-fd5c-32a1ecc60204"
   },
   "outputs": [
    {
     "name": "stdout",
     "output_type": "stream",
     "text": [
      "7/7 [==============================] - 0s 3ms/step - loss: 0.0450\n"
     ]
    }
   ],
   "source": [
    "evaluacion['model02'] = model02.evaluate(X2_test, y2_test, batch_size=12)"
   ]
  },
  {
   "cell_type": "markdown",
   "metadata": {
    "id": "ZTzHD0cmmxaO"
   },
   "source": [
    "#### Modelo 3"
   ]
  },
  {
   "cell_type": "code",
   "execution_count": null,
   "metadata": {
    "colab": {
     "base_uri": "https://localhost:8080/"
    },
    "executionInfo": {
     "elapsed": 7,
     "status": "ok",
     "timestamp": 1695078897798,
     "user": {
      "displayName": "Judith A. H. R.",
      "userId": "16951681262866800693"
     },
     "user_tz": 360
    },
    "id": "nU9iS-m1mxaR",
    "outputId": "1d0e4d06-1092-4457-c500-6fa5c4522e1d"
   },
   "outputs": [
    {
     "name": "stdout",
     "output_type": "stream",
     "text": [
      "Model: \"sequential_27\"\n",
      "_________________________________________________________________\n",
      " Layer (type)                Output Shape              Param #   \n",
      "=================================================================\n",
      " capa-1 (Dense)              (None, 70)                770       \n",
      "                                                                 \n",
      " capa-2 (Dense)              (None, 35)                2485      \n",
      "                                                                 \n",
      " capa-3 (Dense)              (None, 1)                 36        \n",
      "                                                                 \n",
      "=================================================================\n",
      "Total params: 3291 (12.86 KB)\n",
      "Trainable params: 3291 (12.86 KB)\n",
      "Non-trainable params: 0 (0.00 Byte)\n",
      "_________________________________________________________________\n"
     ]
    }
   ],
   "source": [
    "model03 = Sequential([\n",
    "    Input(shape=(X3_train.shape[1],)),\n",
    "    Dense(70, name=\"capa-1\"),\n",
    "    Dense(35, activation='relu', name=\"capa-2\"),\n",
    "    Dense(1, name=\"capa-3\")\n",
    "    ])\n",
    "\n",
    "model02.summary()"
   ]
  },
  {
   "cell_type": "code",
   "execution_count": null,
   "metadata": {
    "id": "vcdESB8OmxaS"
   },
   "outputs": [],
   "source": [
    "model03.compile(optimizer='sgd', loss='mean_squared_error')"
   ]
  },
  {
   "cell_type": "code",
   "execution_count": null,
   "metadata": {
    "colab": {
     "base_uri": "https://localhost:8080/"
    },
    "executionInfo": {
     "elapsed": 5721,
     "status": "ok",
     "timestamp": 1695078903692,
     "user": {
      "displayName": "Judith A. H. R.",
      "userId": "16951681262866800693"
     },
     "user_tz": 360
    },
    "id": "6awv7AgzmxaT",
    "outputId": "92251ffd-5758-4297-cd98-890d3d95a0b0"
   },
   "outputs": [
    {
     "name": "stdout",
     "output_type": "stream",
     "text": [
      "Epoch 1/100\n",
      "9/9 [==============================] - 1s 3ms/step - loss: 0.5662\n",
      "Epoch 2/100\n",
      "9/9 [==============================] - 0s 3ms/step - loss: 0.1336\n",
      "Epoch 3/100\n",
      "9/9 [==============================] - 0s 3ms/step - loss: 0.1077\n",
      "Epoch 4/100\n",
      "9/9 [==============================] - 0s 4ms/step - loss: 0.0924\n",
      "Epoch 5/100\n",
      "9/9 [==============================] - 0s 3ms/step - loss: 0.0815\n",
      "Epoch 6/100\n",
      "9/9 [==============================] - 0s 5ms/step - loss: 0.0735\n",
      "Epoch 7/100\n",
      "9/9 [==============================] - 0s 3ms/step - loss: 0.0689\n",
      "Epoch 8/100\n",
      "9/9 [==============================] - 0s 4ms/step - loss: 0.0656\n",
      "Epoch 9/100\n",
      "9/9 [==============================] - 0s 3ms/step - loss: 0.0628\n",
      "Epoch 10/100\n",
      "9/9 [==============================] - 0s 3ms/step - loss: 0.0600\n",
      "Epoch 11/100\n",
      "9/9 [==============================] - 0s 2ms/step - loss: 0.0576\n",
      "Epoch 12/100\n",
      "9/9 [==============================] - 0s 2ms/step - loss: 0.0576\n",
      "Epoch 13/100\n",
      "9/9 [==============================] - 0s 2ms/step - loss: 0.0563\n",
      "Epoch 14/100\n",
      "9/9 [==============================] - 0s 2ms/step - loss: 0.0544\n",
      "Epoch 15/100\n",
      "9/9 [==============================] - 0s 3ms/step - loss: 0.0542\n",
      "Epoch 16/100\n",
      "9/9 [==============================] - 0s 2ms/step - loss: 0.0526\n",
      "Epoch 17/100\n",
      "9/9 [==============================] - 0s 3ms/step - loss: 0.0523\n",
      "Epoch 18/100\n",
      "9/9 [==============================] - 0s 3ms/step - loss: 0.0514\n",
      "Epoch 19/100\n",
      "9/9 [==============================] - 0s 3ms/step - loss: 0.0511\n",
      "Epoch 20/100\n",
      "9/9 [==============================] - 0s 4ms/step - loss: 0.0499\n",
      "Epoch 21/100\n",
      "9/9 [==============================] - 0s 2ms/step - loss: 0.0492\n",
      "Epoch 22/100\n",
      "9/9 [==============================] - 0s 3ms/step - loss: 0.0494\n",
      "Epoch 23/100\n",
      "9/9 [==============================] - 0s 2ms/step - loss: 0.0488\n",
      "Epoch 24/100\n",
      "9/9 [==============================] - 0s 2ms/step - loss: 0.0485\n",
      "Epoch 25/100\n",
      "9/9 [==============================] - 0s 2ms/step - loss: 0.0482\n",
      "Epoch 26/100\n",
      "9/9 [==============================] - 0s 3ms/step - loss: 0.0475\n",
      "Epoch 27/100\n",
      "9/9 [==============================] - 0s 2ms/step - loss: 0.0476\n",
      "Epoch 28/100\n",
      "9/9 [==============================] - 0s 2ms/step - loss: 0.0466\n",
      "Epoch 29/100\n",
      "9/9 [==============================] - 0s 2ms/step - loss: 0.0463\n",
      "Epoch 30/100\n",
      "9/9 [==============================] - 0s 2ms/step - loss: 0.0456\n",
      "Epoch 31/100\n",
      "9/9 [==============================] - 0s 2ms/step - loss: 0.0453\n",
      "Epoch 32/100\n",
      "9/9 [==============================] - 0s 3ms/step - loss: 0.0450\n",
      "Epoch 33/100\n",
      "9/9 [==============================] - 0s 2ms/step - loss: 0.0461\n",
      "Epoch 34/100\n",
      "9/9 [==============================] - 0s 2ms/step - loss: 0.0450\n",
      "Epoch 35/100\n",
      "9/9 [==============================] - 0s 2ms/step - loss: 0.0441\n",
      "Epoch 36/100\n",
      "9/9 [==============================] - 0s 2ms/step - loss: 0.0441\n",
      "Epoch 37/100\n",
      "9/9 [==============================] - 0s 3ms/step - loss: 0.0447\n",
      "Epoch 38/100\n",
      "9/9 [==============================] - 0s 3ms/step - loss: 0.0433\n",
      "Epoch 39/100\n",
      "9/9 [==============================] - 0s 4ms/step - loss: 0.0434\n",
      "Epoch 40/100\n",
      "9/9 [==============================] - 0s 4ms/step - loss: 0.0428\n",
      "Epoch 41/100\n",
      "9/9 [==============================] - 0s 3ms/step - loss: 0.0428\n",
      "Epoch 42/100\n",
      "9/9 [==============================] - 0s 3ms/step - loss: 0.0431\n",
      "Epoch 43/100\n",
      "9/9 [==============================] - 0s 3ms/step - loss: 0.0425\n",
      "Epoch 44/100\n",
      "9/9 [==============================] - 0s 3ms/step - loss: 0.0426\n",
      "Epoch 45/100\n",
      "9/9 [==============================] - 0s 3ms/step - loss: 0.0422\n",
      "Epoch 46/100\n",
      "9/9 [==============================] - 0s 3ms/step - loss: 0.0429\n",
      "Epoch 47/100\n",
      "9/9 [==============================] - 0s 3ms/step - loss: 0.0420\n",
      "Epoch 48/100\n",
      "9/9 [==============================] - 0s 3ms/step - loss: 0.0413\n",
      "Epoch 49/100\n",
      "9/9 [==============================] - 0s 2ms/step - loss: 0.0414\n",
      "Epoch 50/100\n",
      "9/9 [==============================] - 0s 2ms/step - loss: 0.0405\n",
      "Epoch 51/100\n",
      "9/9 [==============================] - 0s 2ms/step - loss: 0.0407\n",
      "Epoch 52/100\n",
      "9/9 [==============================] - 0s 3ms/step - loss: 0.0409\n",
      "Epoch 53/100\n",
      "9/9 [==============================] - 0s 3ms/step - loss: 0.0405\n",
      "Epoch 54/100\n",
      "9/9 [==============================] - 0s 2ms/step - loss: 0.0402\n",
      "Epoch 55/100\n",
      "9/9 [==============================] - 0s 3ms/step - loss: 0.0400\n",
      "Epoch 56/100\n",
      "9/9 [==============================] - 0s 3ms/step - loss: 0.0402\n",
      "Epoch 57/100\n",
      "9/9 [==============================] - 0s 2ms/step - loss: 0.0398\n",
      "Epoch 58/100\n",
      "9/9 [==============================] - 0s 3ms/step - loss: 0.0397\n",
      "Epoch 59/100\n",
      "9/9 [==============================] - 0s 3ms/step - loss: 0.0400\n",
      "Epoch 60/100\n",
      "9/9 [==============================] - 0s 3ms/step - loss: 0.0397\n",
      "Epoch 61/100\n",
      "9/9 [==============================] - 0s 3ms/step - loss: 0.0397\n",
      "Epoch 62/100\n",
      "9/9 [==============================] - 0s 3ms/step - loss: 0.0389\n",
      "Epoch 63/100\n",
      "9/9 [==============================] - 0s 2ms/step - loss: 0.0388\n",
      "Epoch 64/100\n",
      "9/9 [==============================] - 0s 2ms/step - loss: 0.0392\n",
      "Epoch 65/100\n",
      "9/9 [==============================] - 0s 4ms/step - loss: 0.0387\n",
      "Epoch 66/100\n",
      "9/9 [==============================] - 0s 3ms/step - loss: 0.0389\n",
      "Epoch 67/100\n",
      "9/9 [==============================] - 0s 3ms/step - loss: 0.0382\n",
      "Epoch 68/100\n",
      "9/9 [==============================] - 0s 4ms/step - loss: 0.0382\n",
      "Epoch 69/100\n",
      "9/9 [==============================] - 0s 4ms/step - loss: 0.0383\n",
      "Epoch 70/100\n",
      "9/9 [==============================] - 0s 4ms/step - loss: 0.0382\n",
      "Epoch 71/100\n",
      "9/9 [==============================] - 0s 4ms/step - loss: 0.0378\n",
      "Epoch 72/100\n",
      "9/9 [==============================] - 0s 3ms/step - loss: 0.0384\n",
      "Epoch 73/100\n",
      "9/9 [==============================] - 0s 3ms/step - loss: 0.0380\n",
      "Epoch 74/100\n",
      "9/9 [==============================] - 0s 4ms/step - loss: 0.0374\n",
      "Epoch 75/100\n",
      "9/9 [==============================] - 0s 3ms/step - loss: 0.0375\n",
      "Epoch 76/100\n",
      "9/9 [==============================] - 0s 4ms/step - loss: 0.0378\n",
      "Epoch 77/100\n",
      "9/9 [==============================] - 0s 4ms/step - loss: 0.0382\n",
      "Epoch 78/100\n",
      "9/9 [==============================] - 0s 3ms/step - loss: 0.0374\n",
      "Epoch 79/100\n",
      "9/9 [==============================] - 0s 4ms/step - loss: 0.0372\n",
      "Epoch 80/100\n",
      "9/9 [==============================] - 0s 3ms/step - loss: 0.0371\n",
      "Epoch 81/100\n",
      "9/9 [==============================] - 0s 3ms/step - loss: 0.0371\n",
      "Epoch 82/100\n",
      "9/9 [==============================] - 0s 3ms/step - loss: 0.0367\n",
      "Epoch 83/100\n",
      "9/9 [==============================] - 0s 4ms/step - loss: 0.0376\n",
      "Epoch 84/100\n",
      "9/9 [==============================] - 0s 3ms/step - loss: 0.0365\n",
      "Epoch 85/100\n",
      "9/9 [==============================] - 0s 3ms/step - loss: 0.0371\n",
      "Epoch 86/100\n",
      "9/9 [==============================] - 0s 4ms/step - loss: 0.0363\n",
      "Epoch 87/100\n",
      "9/9 [==============================] - 0s 3ms/step - loss: 0.0367\n",
      "Epoch 88/100\n",
      "9/9 [==============================] - 0s 3ms/step - loss: 0.0360\n",
      "Epoch 89/100\n",
      "9/9 [==============================] - 0s 3ms/step - loss: 0.0366\n",
      "Epoch 90/100\n",
      "9/9 [==============================] - 0s 3ms/step - loss: 0.0363\n",
      "Epoch 91/100\n",
      "9/9 [==============================] - 0s 3ms/step - loss: 0.0367\n",
      "Epoch 92/100\n",
      "9/9 [==============================] - 0s 3ms/step - loss: 0.0360\n",
      "Epoch 93/100\n",
      "9/9 [==============================] - 0s 5ms/step - loss: 0.0353\n",
      "Epoch 94/100\n",
      "9/9 [==============================] - 0s 3ms/step - loss: 0.0362\n",
      "Epoch 95/100\n",
      "9/9 [==============================] - 0s 3ms/step - loss: 0.0362\n",
      "Epoch 96/100\n",
      "9/9 [==============================] - 0s 3ms/step - loss: 0.0358\n",
      "Epoch 97/100\n",
      "9/9 [==============================] - 0s 5ms/step - loss: 0.0360\n",
      "Epoch 98/100\n",
      "9/9 [==============================] - 0s 4ms/step - loss: 0.0357\n",
      "Epoch 99/100\n",
      "9/9 [==============================] - 0s 4ms/step - loss: 0.0356\n",
      "Epoch 100/100\n",
      "9/9 [==============================] - 0s 3ms/step - loss: 0.0361\n"
     ]
    },
    {
     "data": {
      "text/plain": [
       "<keras.src.callbacks.History at 0x7fb88bbddb10>"
      ]
     },
     "execution_count": 187,
     "metadata": {},
     "output_type": "execute_result"
    }
   ],
   "source": [
    "model03.fit(X3_train, y3_train, epochs=100, batch_size=20)"
   ]
  },
  {
   "cell_type": "code",
   "execution_count": null,
   "metadata": {
    "colab": {
     "base_uri": "https://localhost:8080/"
    },
    "executionInfo": {
     "elapsed": 223,
     "status": "ok",
     "timestamp": 1695078903901,
     "user": {
      "displayName": "Judith A. H. R.",
      "userId": "16951681262866800693"
     },
     "user_tz": 360
    },
    "id": "vn8IvargmxaU",
    "outputId": "c8c829ac-6d91-4720-a8c4-9999b06608d8"
   },
   "outputs": [
    {
     "name": "stdout",
     "output_type": "stream",
     "text": [
      "7/7 [==============================] - 0s 3ms/step - loss: 0.0777\n"
     ]
    }
   ],
   "source": [
    "evaluacion['model03'] = model03.evaluate(X3_test, y3_test, batch_size=12)"
   ]
  },
  {
   "cell_type": "markdown",
   "metadata": {
    "id": "q87BhCFyohqW"
   },
   "source": [
    "#### Modelo 4"
   ]
  },
  {
   "cell_type": "code",
   "execution_count": null,
   "metadata": {
    "colab": {
     "base_uri": "https://localhost:8080/"
    },
    "executionInfo": {
     "elapsed": 15,
     "status": "ok",
     "timestamp": 1695078903902,
     "user": {
      "displayName": "Judith A. H. R.",
      "userId": "16951681262866800693"
     },
     "user_tz": 360
    },
    "id": "wP-cTEX7ohqX",
    "outputId": "10db2e5e-5001-4910-eda1-cac1cd68e589"
   },
   "outputs": [
    {
     "name": "stdout",
     "output_type": "stream",
     "text": [
      "Model: \"sequential_29\"\n",
      "_________________________________________________________________\n",
      " Layer (type)                Output Shape              Param #   \n",
      "=================================================================\n",
      " capa-1 (Dense)              (None, 70)                630       \n",
      "                                                                 \n",
      " capa-2 (Dense)              (None, 35)                2485      \n",
      "                                                                 \n",
      " capa-3 (Dense)              (None, 1)                 36        \n",
      "                                                                 \n",
      "=================================================================\n",
      "Total params: 3151 (12.31 KB)\n",
      "Trainable params: 3151 (12.31 KB)\n",
      "Non-trainable params: 0 (0.00 Byte)\n",
      "_________________________________________________________________\n"
     ]
    }
   ],
   "source": [
    "model04 = Sequential([\n",
    "    Input(shape=(X4_train.shape[1],)),\n",
    "    Dense(70, name=\"capa-1\"),\n",
    "    Dense(35, activation='relu', name=\"capa-2\"),\n",
    "    Dense(1, name=\"capa-3\")\n",
    "    ])\n",
    "\n",
    "model04.summary()"
   ]
  },
  {
   "cell_type": "code",
   "execution_count": null,
   "metadata": {
    "id": "d59pv2DZohqY"
   },
   "outputs": [],
   "source": [
    "model04.compile(optimizer='sgd', loss='mean_squared_error')"
   ]
  },
  {
   "cell_type": "code",
   "execution_count": null,
   "metadata": {
    "colab": {
     "base_uri": "https://localhost:8080/"
    },
    "executionInfo": {
     "elapsed": 10899,
     "status": "ok",
     "timestamp": 1695078914795,
     "user": {
      "displayName": "Judith A. H. R.",
      "userId": "16951681262866800693"
     },
     "user_tz": 360
    },
    "id": "H9bSqzcSohqZ",
    "outputId": "cd70c5d5-f368-402e-fd23-1d74dd15d729"
   },
   "outputs": [
    {
     "name": "stdout",
     "output_type": "stream",
     "text": [
      "Epoch 1/100\n",
      "35/35 [==============================] - 1s 2ms/step - loss: 0.1689\n",
      "Epoch 2/100\n",
      "35/35 [==============================] - 0s 2ms/step - loss: 0.0889\n",
      "Epoch 3/100\n",
      "35/35 [==============================] - 0s 2ms/step - loss: 0.0706\n",
      "Epoch 4/100\n",
      "35/35 [==============================] - 0s 2ms/step - loss: 0.0642\n",
      "Epoch 5/100\n",
      "35/35 [==============================] - 0s 2ms/step - loss: 0.0591\n",
      "Epoch 6/100\n",
      "35/35 [==============================] - 0s 3ms/step - loss: 0.0567\n",
      "Epoch 7/100\n",
      "35/35 [==============================] - 0s 2ms/step - loss: 0.0533\n",
      "Epoch 8/100\n",
      "35/35 [==============================] - 0s 3ms/step - loss: 0.0517\n",
      "Epoch 9/100\n",
      "35/35 [==============================] - 0s 2ms/step - loss: 0.0499\n",
      "Epoch 10/100\n",
      "35/35 [==============================] - 0s 2ms/step - loss: 0.0477\n",
      "Epoch 11/100\n",
      "35/35 [==============================] - 0s 2ms/step - loss: 0.0479\n",
      "Epoch 12/100\n",
      "35/35 [==============================] - 0s 2ms/step - loss: 0.0464\n",
      "Epoch 13/100\n",
      "35/35 [==============================] - 0s 2ms/step - loss: 0.0455\n",
      "Epoch 14/100\n",
      "35/35 [==============================] - 0s 2ms/step - loss: 0.0442\n",
      "Epoch 15/100\n",
      "35/35 [==============================] - 0s 2ms/step - loss: 0.0440\n",
      "Epoch 16/100\n",
      "35/35 [==============================] - 0s 2ms/step - loss: 0.0441\n",
      "Epoch 17/100\n",
      "35/35 [==============================] - 0s 2ms/step - loss: 0.0435\n",
      "Epoch 18/100\n",
      "35/35 [==============================] - 0s 2ms/step - loss: 0.0428\n",
      "Epoch 19/100\n",
      "35/35 [==============================] - 0s 2ms/step - loss: 0.0432\n",
      "Epoch 20/100\n",
      "35/35 [==============================] - 0s 2ms/step - loss: 0.0413\n",
      "Epoch 21/100\n",
      "35/35 [==============================] - 0s 2ms/step - loss: 0.0411\n",
      "Epoch 22/100\n",
      "35/35 [==============================] - 0s 2ms/step - loss: 0.0426\n",
      "Epoch 23/100\n",
      "35/35 [==============================] - 0s 2ms/step - loss: 0.0409\n",
      "Epoch 24/100\n",
      "35/35 [==============================] - 0s 2ms/step - loss: 0.0403\n",
      "Epoch 25/100\n",
      "35/35 [==============================] - 0s 2ms/step - loss: 0.0393\n",
      "Epoch 26/100\n",
      "35/35 [==============================] - 0s 2ms/step - loss: 0.0394\n",
      "Epoch 27/100\n",
      "35/35 [==============================] - 0s 2ms/step - loss: 0.0405\n",
      "Epoch 28/100\n",
      "35/35 [==============================] - 0s 2ms/step - loss: 0.0392\n",
      "Epoch 29/100\n",
      "35/35 [==============================] - 0s 2ms/step - loss: 0.0425\n",
      "Epoch 30/100\n",
      "35/35 [==============================] - 0s 2ms/step - loss: 0.0383\n",
      "Epoch 31/100\n",
      "35/35 [==============================] - 0s 2ms/step - loss: 0.0392\n",
      "Epoch 32/100\n",
      "35/35 [==============================] - 0s 2ms/step - loss: 0.0398\n",
      "Epoch 33/100\n",
      "35/35 [==============================] - 0s 2ms/step - loss: 0.0374\n",
      "Epoch 34/100\n",
      "35/35 [==============================] - 0s 3ms/step - loss: 0.0378\n",
      "Epoch 35/100\n",
      "35/35 [==============================] - 0s 2ms/step - loss: 0.0376\n",
      "Epoch 36/100\n",
      "35/35 [==============================] - 0s 2ms/step - loss: 0.0389\n",
      "Epoch 37/100\n",
      "35/35 [==============================] - 0s 2ms/step - loss: 0.0373\n",
      "Epoch 38/100\n",
      "35/35 [==============================] - 0s 2ms/step - loss: 0.0370\n",
      "Epoch 39/100\n",
      "35/35 [==============================] - 0s 2ms/step - loss: 0.0385\n",
      "Epoch 40/100\n",
      "35/35 [==============================] - 0s 2ms/step - loss: 0.0367\n",
      "Epoch 41/100\n",
      "35/35 [==============================] - 0s 2ms/step - loss: 0.0373\n",
      "Epoch 42/100\n",
      "35/35 [==============================] - 0s 2ms/step - loss: 0.0376\n",
      "Epoch 43/100\n",
      "35/35 [==============================] - 0s 2ms/step - loss: 0.0347\n",
      "Epoch 44/100\n",
      "35/35 [==============================] - 0s 2ms/step - loss: 0.0374\n",
      "Epoch 45/100\n",
      "35/35 [==============================] - 0s 2ms/step - loss: 0.0357\n",
      "Epoch 46/100\n",
      "35/35 [==============================] - 0s 2ms/step - loss: 0.0341\n",
      "Epoch 47/100\n",
      "35/35 [==============================] - 0s 2ms/step - loss: 0.0363\n",
      "Epoch 48/100\n",
      "35/35 [==============================] - 0s 2ms/step - loss: 0.0350\n",
      "Epoch 49/100\n",
      "35/35 [==============================] - 0s 2ms/step - loss: 0.0364\n",
      "Epoch 50/100\n",
      "35/35 [==============================] - 0s 2ms/step - loss: 0.0354\n",
      "Epoch 51/100\n",
      "35/35 [==============================] - 0s 2ms/step - loss: 0.0362\n",
      "Epoch 52/100\n",
      "35/35 [==============================] - 0s 2ms/step - loss: 0.0357\n",
      "Epoch 53/100\n",
      "35/35 [==============================] - 0s 2ms/step - loss: 0.0349\n",
      "Epoch 54/100\n",
      "35/35 [==============================] - 0s 2ms/step - loss: 0.0360\n",
      "Epoch 55/100\n",
      "35/35 [==============================] - 0s 2ms/step - loss: 0.0357\n",
      "Epoch 56/100\n",
      "35/35 [==============================] - 0s 3ms/step - loss: 0.0347\n",
      "Epoch 57/100\n",
      "35/35 [==============================] - 0s 2ms/step - loss: 0.0339\n",
      "Epoch 58/100\n",
      "35/35 [==============================] - 0s 2ms/step - loss: 0.0339\n",
      "Epoch 59/100\n",
      "35/35 [==============================] - 0s 3ms/step - loss: 0.0347\n",
      "Epoch 60/100\n",
      "35/35 [==============================] - 0s 2ms/step - loss: 0.0344\n",
      "Epoch 61/100\n",
      "35/35 [==============================] - 0s 2ms/step - loss: 0.0331\n",
      "Epoch 62/100\n",
      "35/35 [==============================] - 0s 2ms/step - loss: 0.0338\n",
      "Epoch 63/100\n",
      "35/35 [==============================] - 0s 2ms/step - loss: 0.0344\n",
      "Epoch 64/100\n",
      "35/35 [==============================] - 0s 2ms/step - loss: 0.0335\n",
      "Epoch 65/100\n",
      "35/35 [==============================] - 0s 2ms/step - loss: 0.0341\n",
      "Epoch 66/100\n",
      "35/35 [==============================] - 0s 2ms/step - loss: 0.0320\n",
      "Epoch 67/100\n",
      "35/35 [==============================] - 0s 2ms/step - loss: 0.0329\n",
      "Epoch 68/100\n",
      "35/35 [==============================] - 0s 2ms/step - loss: 0.0339\n",
      "Epoch 69/100\n",
      "35/35 [==============================] - 0s 2ms/step - loss: 0.0325\n",
      "Epoch 70/100\n",
      "35/35 [==============================] - 0s 2ms/step - loss: 0.0318\n",
      "Epoch 71/100\n",
      "35/35 [==============================] - 0s 2ms/step - loss: 0.0310\n",
      "Epoch 72/100\n",
      "35/35 [==============================] - 0s 2ms/step - loss: 0.0319\n",
      "Epoch 73/100\n",
      "35/35 [==============================] - 0s 2ms/step - loss: 0.0339\n",
      "Epoch 74/100\n",
      "35/35 [==============================] - 0s 2ms/step - loss: 0.0328\n",
      "Epoch 75/100\n",
      "35/35 [==============================] - 0s 2ms/step - loss: 0.0321\n",
      "Epoch 76/100\n",
      "35/35 [==============================] - 0s 2ms/step - loss: 0.0323\n",
      "Epoch 77/100\n",
      "35/35 [==============================] - 0s 2ms/step - loss: 0.0316\n",
      "Epoch 78/100\n",
      "35/35 [==============================] - 0s 2ms/step - loss: 0.0321\n",
      "Epoch 79/100\n",
      "35/35 [==============================] - 0s 2ms/step - loss: 0.0318\n",
      "Epoch 80/100\n",
      "35/35 [==============================] - 0s 2ms/step - loss: 0.0322\n",
      "Epoch 81/100\n",
      "35/35 [==============================] - 0s 3ms/step - loss: 0.0316\n",
      "Epoch 82/100\n",
      "35/35 [==============================] - 0s 2ms/step - loss: 0.0315\n",
      "Epoch 83/100\n",
      "35/35 [==============================] - 0s 2ms/step - loss: 0.0309\n",
      "Epoch 84/100\n",
      "35/35 [==============================] - 0s 2ms/step - loss: 0.0301\n",
      "Epoch 85/100\n",
      "35/35 [==============================] - 0s 2ms/step - loss: 0.0305\n",
      "Epoch 86/100\n",
      "35/35 [==============================] - 0s 2ms/step - loss: 0.0303\n",
      "Epoch 87/100\n",
      "35/35 [==============================] - 0s 2ms/step - loss: 0.0320\n",
      "Epoch 88/100\n",
      "35/35 [==============================] - 0s 2ms/step - loss: 0.0301\n",
      "Epoch 89/100\n",
      "35/35 [==============================] - 0s 2ms/step - loss: 0.0305\n",
      "Epoch 90/100\n",
      "35/35 [==============================] - 0s 2ms/step - loss: 0.0310\n",
      "Epoch 91/100\n",
      "35/35 [==============================] - 0s 2ms/step - loss: 0.0306\n",
      "Epoch 92/100\n",
      "35/35 [==============================] - 0s 2ms/step - loss: 0.0307\n",
      "Epoch 93/100\n",
      "35/35 [==============================] - 0s 3ms/step - loss: 0.0300\n",
      "Epoch 94/100\n",
      "35/35 [==============================] - 0s 2ms/step - loss: 0.0306\n",
      "Epoch 95/100\n",
      "35/35 [==============================] - 0s 2ms/step - loss: 0.0306\n",
      "Epoch 96/100\n",
      "35/35 [==============================] - 0s 2ms/step - loss: 0.0302\n",
      "Epoch 97/100\n",
      "35/35 [==============================] - 0s 2ms/step - loss: 0.0298\n",
      "Epoch 98/100\n",
      "35/35 [==============================] - 0s 2ms/step - loss: 0.0308\n",
      "Epoch 99/100\n",
      "35/35 [==============================] - 0s 2ms/step - loss: 0.0300\n",
      "Epoch 100/100\n",
      "35/35 [==============================] - 0s 2ms/step - loss: 0.0301\n"
     ]
    },
    {
     "data": {
      "text/plain": [
       "<keras.src.callbacks.History at 0x7fb88baf5cf0>"
      ]
     },
     "execution_count": 191,
     "metadata": {},
     "output_type": "execute_result"
    }
   ],
   "source": [
    "model04.fit(X4_train, y4_train, epochs=100, batch_size=5)"
   ]
  },
  {
   "cell_type": "code",
   "execution_count": null,
   "metadata": {
    "colab": {
     "base_uri": "https://localhost:8080/"
    },
    "executionInfo": {
     "elapsed": 253,
     "status": "ok",
     "timestamp": 1695078915032,
     "user": {
      "displayName": "Judith A. H. R.",
      "userId": "16951681262866800693"
     },
     "user_tz": 360
    },
    "id": "i99fMxwkohqa",
    "outputId": "51fba937-4028-4786-8f3f-b03fa110b947"
   },
   "outputs": [
    {
     "name": "stdout",
     "output_type": "stream",
     "text": [
      "7/7 [==============================] - 0s 3ms/step - loss: 0.0689\n"
     ]
    }
   ],
   "source": [
    "evaluacion['model04'] = model04.evaluate(X4_test, y4_test, batch_size=12)"
   ]
  },
  {
   "cell_type": "markdown",
   "metadata": {
    "id": "B3ail9E9STF0"
   },
   "source": [
    "### Evaluación"
   ]
  },
  {
   "cell_type": "code",
   "execution_count": null,
   "metadata": {
    "colab": {
     "base_uri": "https://localhost:8080/",
     "height": 81
    },
    "executionInfo": {
     "elapsed": 182,
     "status": "ok",
     "timestamp": 1695080058160,
     "user": {
      "displayName": "Judith A. H. R.",
      "userId": "16951681262866800693"
     },
     "user_tz": 360
    },
    "id": "fzIhLD2ZSs46",
    "outputId": "b38a06b0-0810-4bad-9a18-999c386c6572"
   },
   "outputs": [
    {
     "data": {
      "text/html": [
       "\n",
       "  <div id=\"df-2345c742-2718-431d-8c76-28ef32f16b3f\" class=\"colab-df-container\">\n",
       "    <div>\n",
       "<style scoped>\n",
       "    .dataframe tbody tr th:only-of-type {\n",
       "        vertical-align: middle;\n",
       "    }\n",
       "\n",
       "    .dataframe tbody tr th {\n",
       "        vertical-align: top;\n",
       "    }\n",
       "\n",
       "    .dataframe thead th {\n",
       "        text-align: right;\n",
       "    }\n",
       "</style>\n",
       "<table border=\"1\" class=\"dataframe\">\n",
       "  <thead>\n",
       "    <tr style=\"text-align: right;\">\n",
       "      <th></th>\n",
       "      <th>model01</th>\n",
       "      <th>model02</th>\n",
       "      <th>model03</th>\n",
       "      <th>model04</th>\n",
       "    </tr>\n",
       "  </thead>\n",
       "  <tbody>\n",
       "    <tr>\n",
       "      <th>0</th>\n",
       "      <td>0.062545</td>\n",
       "      <td>0.044967</td>\n",
       "      <td>0.077717</td>\n",
       "      <td>0.068873</td>\n",
       "    </tr>\n",
       "  </tbody>\n",
       "</table>\n",
       "</div>\n",
       "    <div class=\"colab-df-buttons\">\n",
       "\n",
       "  <div class=\"colab-df-container\">\n",
       "    <button class=\"colab-df-convert\" onclick=\"convertToInteractive('df-2345c742-2718-431d-8c76-28ef32f16b3f')\"\n",
       "            title=\"Convert this dataframe to an interactive table.\"\n",
       "            style=\"display:none;\">\n",
       "\n",
       "  <svg xmlns=\"http://www.w3.org/2000/svg\" height=\"24px\" viewBox=\"0 -960 960 960\">\n",
       "    <path d=\"M120-120v-720h720v720H120Zm60-500h600v-160H180v160Zm220 220h160v-160H400v160Zm0 220h160v-160H400v160ZM180-400h160v-160H180v160Zm440 0h160v-160H620v160ZM180-180h160v-160H180v160Zm440 0h160v-160H620v160Z\"/>\n",
       "  </svg>\n",
       "    </button>\n",
       "\n",
       "  <style>\n",
       "    .colab-df-container {\n",
       "      display:flex;\n",
       "      gap: 12px;\n",
       "    }\n",
       "\n",
       "    .colab-df-convert {\n",
       "      background-color: #E8F0FE;\n",
       "      border: none;\n",
       "      border-radius: 50%;\n",
       "      cursor: pointer;\n",
       "      display: none;\n",
       "      fill: #1967D2;\n",
       "      height: 32px;\n",
       "      padding: 0 0 0 0;\n",
       "      width: 32px;\n",
       "    }\n",
       "\n",
       "    .colab-df-convert:hover {\n",
       "      background-color: #E2EBFA;\n",
       "      box-shadow: 0px 1px 2px rgba(60, 64, 67, 0.3), 0px 1px 3px 1px rgba(60, 64, 67, 0.15);\n",
       "      fill: #174EA6;\n",
       "    }\n",
       "\n",
       "    .colab-df-buttons div {\n",
       "      margin-bottom: 4px;\n",
       "    }\n",
       "\n",
       "    [theme=dark] .colab-df-convert {\n",
       "      background-color: #3B4455;\n",
       "      fill: #D2E3FC;\n",
       "    }\n",
       "\n",
       "    [theme=dark] .colab-df-convert:hover {\n",
       "      background-color: #434B5C;\n",
       "      box-shadow: 0px 1px 3px 1px rgba(0, 0, 0, 0.15);\n",
       "      filter: drop-shadow(0px 1px 2px rgba(0, 0, 0, 0.3));\n",
       "      fill: #FFFFFF;\n",
       "    }\n",
       "  </style>\n",
       "\n",
       "    <script>\n",
       "      const buttonEl =\n",
       "        document.querySelector('#df-2345c742-2718-431d-8c76-28ef32f16b3f button.colab-df-convert');\n",
       "      buttonEl.style.display =\n",
       "        google.colab.kernel.accessAllowed ? 'block' : 'none';\n",
       "\n",
       "      async function convertToInteractive(key) {\n",
       "        const element = document.querySelector('#df-2345c742-2718-431d-8c76-28ef32f16b3f');\n",
       "        const dataTable =\n",
       "          await google.colab.kernel.invokeFunction('convertToInteractive',\n",
       "                                                    [key], {});\n",
       "        if (!dataTable) return;\n",
       "\n",
       "        const docLinkHtml = 'Like what you see? Visit the ' +\n",
       "          '<a target=\"_blank\" href=https://colab.research.google.com/notebooks/data_table.ipynb>data table notebook</a>'\n",
       "          + ' to learn more about interactive tables.';\n",
       "        element.innerHTML = '';\n",
       "        dataTable['output_type'] = 'display_data';\n",
       "        await google.colab.output.renderOutput(dataTable, element);\n",
       "        const docLink = document.createElement('div');\n",
       "        docLink.innerHTML = docLinkHtml;\n",
       "        element.appendChild(docLink);\n",
       "      }\n",
       "    </script>\n",
       "  </div>\n",
       "\n",
       "    </div>\n",
       "  </div>\n"
      ],
      "text/plain": [
       "    model01   model02   model03   model04\n",
       "0  0.062545  0.044967  0.077717  0.068873"
      ]
     },
     "execution_count": 234,
     "metadata": {},
     "output_type": "execute_result"
    }
   ],
   "source": [
    "pd.DataFrame(data=[evaluacion.values()], columns=evaluacion.keys())"
   ]
  },
  {
   "cell_type": "markdown",
   "metadata": {
    "id": "R0Xwz4HebGOx"
   },
   "source": [
    "El modelo con el mejor performance fue el 2, donde en el preprocesamiento se transformaban los datos y eliminaba sólo el dato atípico en `Height`, además, contenía 10 características, todas se estandarizaban.\n",
    "\n",
    "La red neuronal consta de dos capas ocultas y una capa de salida, donde la primera capa oculta tiene 70 neuronas y una función de activación identidad, la segunda una capa oculta de 35 neuronas y una función de activación *ReLu* y como capa de salida tiene una neurona con función de activación identidad.\n",
    "\n",
    "\\\n",
    "\n",
    "| model01 | model02    | model03 | model04                                                                        |\n",
    "|---------------------|----------|------------------|---------|\n",
    "| 0.068636             | 0.047767 | 0.077892       | 0.063577       |"
   ]
  },
  {
   "cell_type": "code",
   "execution_count": null,
   "metadata": {
    "colab": {
     "base_uri": "https://localhost:8080/",
     "height": 422
    },
    "executionInfo": {
     "elapsed": 306,
     "status": "ok",
     "timestamp": 1695078242434,
     "user": {
      "displayName": "Judith A. H. R.",
      "userId": "16951681262866800693"
     },
     "user_tz": 360
    },
    "id": "QNtpTVVieikw",
    "outputId": "d511f408-9d2f-489b-f9ea-02f553b88865"
   },
   "outputs": [
    {
     "data": {
      "image/png": "[encoded data removed]",
      "text/plain": [
       "<IPython.core.display.Image object>"
      ]
     },
     "execution_count": 76,
     "metadata": {},
     "output_type": "execute_result"
    }
   ],
   "source": [
    "plot_model(model02, show_shapes=True, show_layer_activations=True)"
   ]
  },
  {
   "cell_type": "markdown",
   "metadata": {
    "id": "rM95LEqZp3d_"
   },
   "source": [
    "## Exportar el modelo y escalada de datos"
   ]
  },
  {
   "cell_type": "code",
   "execution_count": null,
   "metadata": {
    "id": "r5UkVrw6kMRF"
   },
   "outputs": [],
   "source": [
    "model = model02"
   ]
  },
  {
   "cell_type": "code",
   "execution_count": null,
   "metadata": {
    "id": "0BQ2AJtxpSft"
   },
   "outputs": [],
   "source": [
    "model.save('/content/Scaler and Model')"
   ]
  },
  {
   "cell_type": "code",
   "execution_count": 55,
   "metadata": {
    "executionInfo": {
     "elapsed": 152,
     "status": "ok",
     "timestamp": 1695337260095,
     "user": {
      "displayName": "Judith A. H. R.",
      "userId": "16951681262866800693"
     },
     "user_tz": 360
    },
    "id": "V6NQv7Frpc-A"
   },
   "outputs": [],
   "source": [
    "from pickle import dump"
   ]
  },
  {
   "cell_type": "code",
   "execution_count": 71,
   "metadata": {
    "executionInfo": {
     "elapsed": 204,
     "status": "ok",
     "timestamp": 1695338976762,
     "user": {
      "displayName": "Judith A. H. R.",
      "userId": "16951681262866800693"
     },
     "user_tz": 360
    },
    "id": "26WayD4cqA3V"
   },
   "outputs": [],
   "source": [
    "X2_train, X2_test, y2_train, y2_test = train_test_split(\n",
    "    X_transformed.iloc[:, cols_selected], y_transformed, test_size=0.3, random_state=42)"
   ]
  },
  {
   "cell_type": "code",
   "execution_count": 62,
   "metadata": {
    "executionInfo": {
     "elapsed": 172,
     "status": "ok",
     "timestamp": 1695337873322,
     "user": {
      "displayName": "Judith A. H. R.",
      "userId": "16951681262866800693"
     },
     "user_tz": 360
    },
    "id": "EHEgX5jpqA3X"
   },
   "outputs": [],
   "source": [
    "X2_train = scaler.fit(X2_train)\n",
    "X2_test = scaler.transform(X2_test)\n",
    "#y2_train = scaler.fit_transform(y2_train.ravel().reshape(-1, 1))\n",
    "#y2_test = scaler.transform(y2_test.ravel().reshape(-1, 1))"
   ]
  },
  {
   "cell_type": "code",
   "execution_count": 72,
   "metadata": {
    "executionInfo": {
     "elapsed": 142,
     "status": "ok",
     "timestamp": 1695338978963,
     "user": {
      "displayName": "Judith A. H. R.",
      "userId": "16951681262866800693"
     },
     "user_tz": 360
    },
    "id": "c_gEKgo4plpb"
   },
   "outputs": [],
   "source": [
    "dump(scaler.fit(X2_train), open('/content/drive/MyDrive/ITESO/23O/APRENDIZAJE MÁQUINA/M01/S09/Scaler and Model/scalerX.pkl', 'wb'))"
   ]
  },
  {
   "cell_type": "code",
   "execution_count": 63,
   "metadata": {
    "colab": {
     "base_uri": "https://localhost:8080/"
    },
    "executionInfo": {
     "elapsed": 272,
     "status": "ok",
     "timestamp": 1695337877925,
     "user": {
      "displayName": "Judith A. H. R.",
      "userId": "16951681262866800693"
     },
     "user_tz": 360
    },
    "id": "6_zpoACV-omg",
    "outputId": "ac87582a-f1d4-43bd-a1f7-6797a32f8c8a"
   },
   "outputs": [
    {
     "data": {
      "text/plain": [
       "array([[ 0.24611731,  0.79309662,  0.62727247, ...,  1.43484855,\n",
       "         0.84438181,  0.94882852],\n",
       "       [-0.52736379, -0.35125094, -0.82246742, ..., -0.65625591,\n",
       "        -0.98417078, -0.64062577],\n",
       "       [ 0.78257266,  0.40516903,  0.14636466, ...,  0.40589239,\n",
       "         0.44901909, -0.11080767],\n",
       "       ...,\n",
       "       [ 0.03494993,  0.70555378,  0.50516198, ...,  0.40589239,\n",
       "         0.44901909,  0.94882852],\n",
       "       [ 0.86354563,  0.91240919,  1.10720824, ...,  1.16931147,\n",
       "         0.15249705,  0.8428649 ],\n",
       "       [ 1.14379683,  0.36000485,  0.32764198, ..., -0.3575267 ,\n",
       "         0.79496147,  1.58461024]])"
      ]
     },
     "execution_count": 63,
     "metadata": {},
     "output_type": "execute_result"
    }
   ],
   "source": [
    "X2_train"
   ]
  },
  {
   "cell_type": "code",
   "execution_count": 69,
   "metadata": {
    "colab": {
     "base_uri": "https://localhost:8080/"
    },
    "executionInfo": {
     "elapsed": 143,
     "status": "ok",
     "timestamp": 1695338092393,
     "user": {
      "displayName": "Judith A. H. R.",
      "userId": "16951681262866800693"
     },
     "user_tz": 360
    },
    "id": "E-bS4d4T_UL5",
    "outputId": "7a9ffbda-160c-4730-cb1a-1214057a3ef4"
   },
   "outputs": [
    {
     "data": {
      "text/plain": [
       "array([3.63542262e+00, 4.60882509e+00, 4.52087281e+00, 1.00745223e-02,\n",
       "       4.07598440e+00, 3.64626582e+00, 1.92526314e-03, 3.20771429e+01,\n",
       "       2.86914286e+01, 1.82045714e+01])"
      ]
     },
     "execution_count": 69,
     "metadata": {},
     "output_type": "execute_result"
    }
   ],
   "source": [
    "scaler.mean_"
   ]
  },
  {
   "cell_type": "code",
   "execution_count": null,
   "metadata": {
    "id": "B7n7DlstBNPU"
   },
   "outputs": [],
   "source": []
  }
 ],
 "metadata": {
  "colab": {
   "authorship_tag": "ABX9TyPCHMNr5EFTQfVIY46vj5S0",
   "mount_file_id": "1ZlWgsQsD7jTRCNRuhJNyJ3HAr7CiRUG1",
   "provenance": []
  },
  "kernelspec": {
   "display_name": "Python 3 (ipykernel)",
   "language": "python",
   "name": "python3"
  },
  "language_info": {
   "codemirror_mode": {
    "name": "ipython",
    "version": 3
   },
   "file_extension": ".py",
   "mimetype": "text/x-python",
   "name": "python",
   "nbconvert_exporter": "python",
   "pygments_lexer": "ipython3",
   "version": "3.9.7"
  }
 },
 "nbformat": 4,
 "nbformat_minor": 1
}
