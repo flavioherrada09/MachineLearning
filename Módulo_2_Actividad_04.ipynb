{
  "nbformat": 4,
  "nbformat_minor": 0,
  "metadata": {
    "colab": {
      "provenance": []
    },
    "kernelspec": {
      "name": "python3",
      "display_name": "Python 3"
    },
    "language_info": {
      "name": "python"
    }
  },
  "cells": [
    {
      "cell_type": "markdown",
      "source": [
        "# Módulo 2 - Actividad 04\n",
        "\n",
        "### FLAVIO MAXIMLIANO HERRADA AVALOS\n",
        "\n",
        "El objetivo de la actividad es implementar una clase llamada MLP que nos permita crear una red neuronal tipo perceptrón multicapa (forward pass) tomando como base la capa FCLayer que implementamos durante la sesión.\n",
        "\n",
        "La clase MLP, debería poder ser utilizada de la siguiente forma:\n",
        "\n",
        "myNN = MLP([layer_01, layer_02, layer_03, ..., layer_N])\n",
        "\n",
        "output_tensor = myNN(input_tensor)"
      ],
      "metadata": {
        "id": "mIqdonWzRLpe"
      }
    },
    {
      "cell_type": "markdown",
      "source": [
        "Al finalizar, prueba tu implementación construyendo la siguiente red neuronal:\n",
        "\n",
        "![image-4.png](data:image/png;base64,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)"
      ],
      "metadata": {
        "id": "nUJvicTZSjod"
      }
    },
    {
      "cell_type": "code",
      "execution_count": 1,
      "metadata": {
        "id": "feYVGOmBRCAo"
      },
      "outputs": [],
      "source": [
        "import tensorflow as tf\n",
        "import numpy as np\n",
        "\n",
        "# Clase FCLayer vista en Clase\n",
        "class FCLayer():\n",
        "\n",
        "  # Inicialización del perceptrón\n",
        "  def __init__(self, units, w_init = tf.initializers.GlorotUniform(1), activation=tf.identity):\n",
        "    self.output_dim = units\n",
        "    self.w_init = w_init\n",
        "    self.activation=activation\n",
        "    self.built = False\n",
        "\n",
        "  #Invocación de la capa\n",
        "  def __call__(self, x):\n",
        "    if not self.built:\n",
        "      self.input_dim = x.shape[1]\n",
        "      self.w = tf.Variable(self.w_init(shape=(self.input_dim, self.output_dim)))\n",
        "      self.b = tf.Variable(tf.ones(shape=(self.output_dim, )))\n",
        "      self.built = True\n",
        "\n",
        "\n",
        "    # Forward\n",
        "    z = tf.add(tf.matmul(x, self.w), self.b)\n",
        "    return self.activation(z)"
      ]
    },
    {
      "cell_type": "code",
      "source": [
        "# Clase Multicapa\n",
        "class MLP():\n",
        "    def __init__(self, layers):\n",
        "        self.layers = layers\n",
        "\n",
        "    def __call__(self, x):\n",
        "        for layer in self.layers: # Multicapa\n",
        "            x = layer(x)\n",
        "        return x"
      ],
      "metadata": {
        "id": "ACKyDMFGxx91"
      },
      "execution_count": 2,
      "outputs": []
    },
    {
      "cell_type": "markdown",
      "source": [
        "Posteriormente, probemos la red neuronal (forward pass) con los siguientes tensores de entrada:\n",
        "\n",
        "- Input tensor: (1, 100)\n",
        "- Input tensor: (10, 32, 32, 1)\n",
        "- Input tensor: (20, 5)\n",
        "\n",
        "En todos los casos , la salida esperada es un tensor 2D: (M, ndim)."
      ],
      "metadata": {
        "id": "TtBbT8ZDTF8K"
      }
    },
    {
      "cell_type": "code",
      "source": [
        "# Tensores de entrada\n",
        "input_tensor1 = tf.constant(np.random.rand(1, 100).astype(np.float32))\n",
        "input_tensor2 = tf.constant(np.random.rand(10, 32, 32, 1).astype(np.float32))\n",
        "input_tensor3 = tf.constant(np.random.rand(20, 5).astype(np.float32))\n",
        "\n",
        "# Tensores de entrada aplanados\n",
        "input_tensor1_flattened = tf.reshape(input_tensor1, [-1, 1*100])\n",
        "input_tensor2_flattened = tf.reshape(input_tensor2, [-1, 32*32*1])\n",
        "input_tensor3_flattened = input_tensor3"
      ],
      "metadata": {
        "id": "sVgEt735SLT2"
      },
      "execution_count": 3,
      "outputs": []
    },
    {
      "cell_type": "code",
      "source": [
        "# Capas red neuronal 1\n",
        "layer_01 = FCLayer(units=5, activation=tf.nn.sigmoid)\n",
        "layer_02 = FCLayer(units=2, activation=tf.nn.sigmoid)\n",
        "layer_03 = FCLayer(units=1, activation=tf.nn.sigmoid)\n",
        "\n",
        "mlp_layers = [layer_01, layer_02, layer_03]\n",
        "\n",
        "myNN = MLP(mlp_layers)\n",
        "\n",
        "output_tensor1 = myNN(input_tensor1)\n",
        "\n",
        "print(\"Tensor:\\n\", output_tensor1)"
      ],
      "metadata": {
        "colab": {
          "base_uri": "https://localhost:8080/"
        },
        "id": "i3JEbkpqSPeI",
        "outputId": "2c22945c-7180-4ecd-89c6-8fda823b61b3"
      },
      "execution_count": 4,
      "outputs": [
        {
          "output_type": "stream",
          "name": "stdout",
          "text": [
            "Tensor:\n",
            " tf.Tensor([[0.8363461]], shape=(1, 1), dtype=float32)\n"
          ]
        }
      ]
    },
    {
      "cell_type": "code",
      "source": [
        "# Capas red neuronal 2\n",
        "layer_01 = FCLayer(units=5, activation=tf.nn.relu)\n",
        "layer_02 = FCLayer(units=6, activation=tf.nn.relu)\n",
        "\n",
        "mlp_layers = [layer_01, layer_02]\n",
        "\n",
        "myNN = MLP(mlp_layers)\n",
        "\n",
        "output_tensor2 = myNN(input_tensor2_flattened)\n",
        "print(\"Tensor:\\n\", output_tensor2)\n"
      ],
      "metadata": {
        "colab": {
          "base_uri": "https://localhost:8080/"
        },
        "id": "cgOhZn2FSSu0",
        "outputId": "32470248-269b-4f7a-8be7-381e8a9a945e"
      },
      "execution_count": 5,
      "outputs": [
        {
          "output_type": "stream",
          "name": "stdout",
          "text": [
            "Tensor:\n",
            " tf.Tensor(\n",
            "[[0.8645992  1.2702497  1.0010967  0.670022   0.05776858 0.99184513]\n",
            " [1.1433792  1.3941084  0.7247663  1.0819694  0.         0.9750129 ]\n",
            " [1.5214356  1.1791207  1.1033735  0.6025129  0.49533254 1.0383009 ]\n",
            " [1.6478283  1.1821923  1.1252108  0.845012   0.         0.8143938 ]\n",
            " [1.7474766  0.82040656 1.5434228  0.62388337 0.         0.7485319 ]\n",
            " [1.6050079  1.2207376  1.0512385  0.8532844  0.         0.8771255 ]\n",
            " [1.3485758  1.1131299  1.2158822  0.6974044  0.6207484  1.0359144 ]\n",
            " [1.5460066  1.279122   1.0454113  0.5230386  0.17289597 1.029013  ]\n",
            " [1.3129172  1.1203424  1.1133404  0.89000726 0.00313354 0.8902234 ]\n",
            " [1.3665868  0.8230462  1.6262515  0.41142923 0.23025942 0.8634123 ]], shape=(10, 6), dtype=float32)\n"
          ]
        }
      ]
    },
    {
      "cell_type": "code",
      "source": [
        "# Capas red neuronal 3\n",
        "layer_01 = FCLayer(units=16, activation=tf.nn.relu)\n",
        "layer_02 = FCLayer(units=10, activation=tf.nn.relu)\n",
        "layer_03 = FCLayer(units=8, activation=tf.nn.sigmoid)\n",
        "layer_04 = FCLayer(units=4, activation=tf.nn.sigmoid)\n",
        "\n",
        "mlp_layers = [layer_01, layer_02, layer_03, layer_04]\n",
        "\n",
        "myNN = MLP(mlp_layers)\n",
        "\n",
        "output_tensor3 = myNN(input_tensor3_flattened)\n",
        "print(\"Tensor:\\n\", output_tensor3)\n"
      ],
      "metadata": {
        "colab": {
          "base_uri": "https://localhost:8080/"
        },
        "id": "FG_fHrKJSTK3",
        "outputId": "4ae1722b-17d5-4c9a-92d9-18c633b12eb3"
      },
      "execution_count": 6,
      "outputs": [
        {
          "output_type": "stream",
          "name": "stdout",
          "text": [
            "Tensor:\n",
            " tf.Tensor(\n",
            "[[0.6287342  0.76104635 0.71014845 0.7173857 ]\n",
            " [0.6264125  0.7619491  0.7054635  0.7168375 ]\n",
            " [0.63287044 0.7633179  0.70566905 0.7195038 ]\n",
            " [0.6320248  0.75862396 0.71408385 0.71085995]\n",
            " [0.6341879  0.76487875 0.70565665 0.71636844]\n",
            " [0.62601495 0.76450133 0.6997126  0.7182746 ]\n",
            " [0.6272642  0.7636     0.70074856 0.7233367 ]\n",
            " [0.6299376  0.7645556  0.70402735 0.7172415 ]\n",
            " [0.6367048  0.76665413 0.7048064  0.70945364]\n",
            " [0.63255537 0.7606763  0.7134078  0.71304274]\n",
            " [0.63089484 0.7623434  0.70573825 0.7191569 ]\n",
            " [0.632706   0.767986   0.7002573  0.7186377 ]\n",
            " [0.62826693 0.7652415  0.7003125  0.7229616 ]\n",
            " [0.6299064  0.7650062  0.70088094 0.71806616]\n",
            " [0.63456565 0.76271653 0.7122651  0.7107003 ]\n",
            " [0.64022154 0.765765   0.71098524 0.7080492 ]\n",
            " [0.6257849  0.7660807  0.6958686  0.7269322 ]\n",
            " [0.6400002  0.76615524 0.7102256  0.7117044 ]\n",
            " [0.6330704  0.76335245 0.7069705  0.71342546]\n",
            " [0.62882555 0.7637187  0.70458287 0.7202402 ]], shape=(20, 4), dtype=float32)\n"
          ]
        }
      ]
    },
    {
      "cell_type": "code",
      "source": [],
      "metadata": {
        "id": "4Gqf7d_wSUSq"
      },
      "execution_count": 6,
      "outputs": []
    },
    {
      "cell_type": "code",
      "source": [],
      "metadata": {
        "id": "Wc6gItr-SVq4"
      },
      "execution_count": 6,
      "outputs": []
    }
  ]
}